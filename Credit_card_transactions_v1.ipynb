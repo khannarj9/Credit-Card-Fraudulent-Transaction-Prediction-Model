{
 "cells": [
  {
   "cell_type": "code",
   "execution_count": 111,
   "id": "3085eff0",
   "metadata": {},
   "outputs": [],
   "source": [
    "import numpy as np\n",
    "import matplotlib.pyplot as plt\n",
    "import pandas as pd\n",
    "import seaborn as sns\n",
    "\n",
    "from optbinning import OptimalBinning\n",
    "from sklearn.model_selection import train_test_split\n",
    "\n",
    "\n",
    "from sklearn.metrics import confusion_matrix, accuracy_score\n",
    "from sklearn.linear_model import LogisticRegression\n",
    "from sklearn.neighbors import KNeighborsClassifier\n",
    "from sklearn import svm\n",
    "from sklearn.tree import DecisionTreeClassifier"
   ]
  },
  {
   "cell_type": "code",
   "execution_count": 2,
   "id": "580dfd43",
   "metadata": {},
   "outputs": [
    {
     "data": {
      "text/html": [
       "<div>\n",
       "<style scoped>\n",
       "    .dataframe tbody tr th:only-of-type {\n",
       "        vertical-align: middle;\n",
       "    }\n",
       "\n",
       "    .dataframe tbody tr th {\n",
       "        vertical-align: top;\n",
       "    }\n",
       "\n",
       "    .dataframe thead th {\n",
       "        text-align: right;\n",
       "    }\n",
       "</style>\n",
       "<table border=\"1\" class=\"dataframe\">\n",
       "  <thead>\n",
       "    <tr style=\"text-align: right;\">\n",
       "      <th></th>\n",
       "      <th>Time</th>\n",
       "      <th>V1</th>\n",
       "      <th>V2</th>\n",
       "      <th>V3</th>\n",
       "      <th>V4</th>\n",
       "      <th>V5</th>\n",
       "      <th>V6</th>\n",
       "      <th>V7</th>\n",
       "      <th>V8</th>\n",
       "      <th>V9</th>\n",
       "      <th>...</th>\n",
       "      <th>V21</th>\n",
       "      <th>V22</th>\n",
       "      <th>V23</th>\n",
       "      <th>V24</th>\n",
       "      <th>V25</th>\n",
       "      <th>V26</th>\n",
       "      <th>V27</th>\n",
       "      <th>V28</th>\n",
       "      <th>Amount</th>\n",
       "      <th>Class</th>\n",
       "    </tr>\n",
       "  </thead>\n",
       "  <tbody>\n",
       "    <tr>\n",
       "      <th>0</th>\n",
       "      <td>0.0</td>\n",
       "      <td>-1.359807</td>\n",
       "      <td>-0.072781</td>\n",
       "      <td>2.536347</td>\n",
       "      <td>1.378155</td>\n",
       "      <td>-0.338321</td>\n",
       "      <td>0.462388</td>\n",
       "      <td>0.239599</td>\n",
       "      <td>0.098698</td>\n",
       "      <td>0.363787</td>\n",
       "      <td>...</td>\n",
       "      <td>-0.018307</td>\n",
       "      <td>0.277838</td>\n",
       "      <td>-0.110474</td>\n",
       "      <td>0.066928</td>\n",
       "      <td>0.128539</td>\n",
       "      <td>-0.189115</td>\n",
       "      <td>0.133558</td>\n",
       "      <td>-0.021053</td>\n",
       "      <td>149.62</td>\n",
       "      <td>0</td>\n",
       "    </tr>\n",
       "    <tr>\n",
       "      <th>1</th>\n",
       "      <td>0.0</td>\n",
       "      <td>1.191857</td>\n",
       "      <td>0.266151</td>\n",
       "      <td>0.166480</td>\n",
       "      <td>0.448154</td>\n",
       "      <td>0.060018</td>\n",
       "      <td>-0.082361</td>\n",
       "      <td>-0.078803</td>\n",
       "      <td>0.085102</td>\n",
       "      <td>-0.255425</td>\n",
       "      <td>...</td>\n",
       "      <td>-0.225775</td>\n",
       "      <td>-0.638672</td>\n",
       "      <td>0.101288</td>\n",
       "      <td>-0.339846</td>\n",
       "      <td>0.167170</td>\n",
       "      <td>0.125895</td>\n",
       "      <td>-0.008983</td>\n",
       "      <td>0.014724</td>\n",
       "      <td>2.69</td>\n",
       "      <td>0</td>\n",
       "    </tr>\n",
       "    <tr>\n",
       "      <th>2</th>\n",
       "      <td>1.0</td>\n",
       "      <td>-1.358354</td>\n",
       "      <td>-1.340163</td>\n",
       "      <td>1.773209</td>\n",
       "      <td>0.379780</td>\n",
       "      <td>-0.503198</td>\n",
       "      <td>1.800499</td>\n",
       "      <td>0.791461</td>\n",
       "      <td>0.247676</td>\n",
       "      <td>-1.514654</td>\n",
       "      <td>...</td>\n",
       "      <td>0.247998</td>\n",
       "      <td>0.771679</td>\n",
       "      <td>0.909412</td>\n",
       "      <td>-0.689281</td>\n",
       "      <td>-0.327642</td>\n",
       "      <td>-0.139097</td>\n",
       "      <td>-0.055353</td>\n",
       "      <td>-0.059752</td>\n",
       "      <td>378.66</td>\n",
       "      <td>0</td>\n",
       "    </tr>\n",
       "    <tr>\n",
       "      <th>3</th>\n",
       "      <td>1.0</td>\n",
       "      <td>-0.966272</td>\n",
       "      <td>-0.185226</td>\n",
       "      <td>1.792993</td>\n",
       "      <td>-0.863291</td>\n",
       "      <td>-0.010309</td>\n",
       "      <td>1.247203</td>\n",
       "      <td>0.237609</td>\n",
       "      <td>0.377436</td>\n",
       "      <td>-1.387024</td>\n",
       "      <td>...</td>\n",
       "      <td>-0.108300</td>\n",
       "      <td>0.005274</td>\n",
       "      <td>-0.190321</td>\n",
       "      <td>-1.175575</td>\n",
       "      <td>0.647376</td>\n",
       "      <td>-0.221929</td>\n",
       "      <td>0.062723</td>\n",
       "      <td>0.061458</td>\n",
       "      <td>123.50</td>\n",
       "      <td>0</td>\n",
       "    </tr>\n",
       "    <tr>\n",
       "      <th>4</th>\n",
       "      <td>2.0</td>\n",
       "      <td>-1.158233</td>\n",
       "      <td>0.877737</td>\n",
       "      <td>1.548718</td>\n",
       "      <td>0.403034</td>\n",
       "      <td>-0.407193</td>\n",
       "      <td>0.095921</td>\n",
       "      <td>0.592941</td>\n",
       "      <td>-0.270533</td>\n",
       "      <td>0.817739</td>\n",
       "      <td>...</td>\n",
       "      <td>-0.009431</td>\n",
       "      <td>0.798278</td>\n",
       "      <td>-0.137458</td>\n",
       "      <td>0.141267</td>\n",
       "      <td>-0.206010</td>\n",
       "      <td>0.502292</td>\n",
       "      <td>0.219422</td>\n",
       "      <td>0.215153</td>\n",
       "      <td>69.99</td>\n",
       "      <td>0</td>\n",
       "    </tr>\n",
       "    <tr>\n",
       "      <th>...</th>\n",
       "      <td>...</td>\n",
       "      <td>...</td>\n",
       "      <td>...</td>\n",
       "      <td>...</td>\n",
       "      <td>...</td>\n",
       "      <td>...</td>\n",
       "      <td>...</td>\n",
       "      <td>...</td>\n",
       "      <td>...</td>\n",
       "      <td>...</td>\n",
       "      <td>...</td>\n",
       "      <td>...</td>\n",
       "      <td>...</td>\n",
       "      <td>...</td>\n",
       "      <td>...</td>\n",
       "      <td>...</td>\n",
       "      <td>...</td>\n",
       "      <td>...</td>\n",
       "      <td>...</td>\n",
       "      <td>...</td>\n",
       "      <td>...</td>\n",
       "    </tr>\n",
       "    <tr>\n",
       "      <th>284802</th>\n",
       "      <td>172786.0</td>\n",
       "      <td>-11.881118</td>\n",
       "      <td>10.071785</td>\n",
       "      <td>-9.834783</td>\n",
       "      <td>-2.066656</td>\n",
       "      <td>-5.364473</td>\n",
       "      <td>-2.606837</td>\n",
       "      <td>-4.918215</td>\n",
       "      <td>7.305334</td>\n",
       "      <td>1.914428</td>\n",
       "      <td>...</td>\n",
       "      <td>0.213454</td>\n",
       "      <td>0.111864</td>\n",
       "      <td>1.014480</td>\n",
       "      <td>-0.509348</td>\n",
       "      <td>1.436807</td>\n",
       "      <td>0.250034</td>\n",
       "      <td>0.943651</td>\n",
       "      <td>0.823731</td>\n",
       "      <td>0.77</td>\n",
       "      <td>0</td>\n",
       "    </tr>\n",
       "    <tr>\n",
       "      <th>284803</th>\n",
       "      <td>172787.0</td>\n",
       "      <td>-0.732789</td>\n",
       "      <td>-0.055080</td>\n",
       "      <td>2.035030</td>\n",
       "      <td>-0.738589</td>\n",
       "      <td>0.868229</td>\n",
       "      <td>1.058415</td>\n",
       "      <td>0.024330</td>\n",
       "      <td>0.294869</td>\n",
       "      <td>0.584800</td>\n",
       "      <td>...</td>\n",
       "      <td>0.214205</td>\n",
       "      <td>0.924384</td>\n",
       "      <td>0.012463</td>\n",
       "      <td>-1.016226</td>\n",
       "      <td>-0.606624</td>\n",
       "      <td>-0.395255</td>\n",
       "      <td>0.068472</td>\n",
       "      <td>-0.053527</td>\n",
       "      <td>24.79</td>\n",
       "      <td>0</td>\n",
       "    </tr>\n",
       "    <tr>\n",
       "      <th>284804</th>\n",
       "      <td>172788.0</td>\n",
       "      <td>1.919565</td>\n",
       "      <td>-0.301254</td>\n",
       "      <td>-3.249640</td>\n",
       "      <td>-0.557828</td>\n",
       "      <td>2.630515</td>\n",
       "      <td>3.031260</td>\n",
       "      <td>-0.296827</td>\n",
       "      <td>0.708417</td>\n",
       "      <td>0.432454</td>\n",
       "      <td>...</td>\n",
       "      <td>0.232045</td>\n",
       "      <td>0.578229</td>\n",
       "      <td>-0.037501</td>\n",
       "      <td>0.640134</td>\n",
       "      <td>0.265745</td>\n",
       "      <td>-0.087371</td>\n",
       "      <td>0.004455</td>\n",
       "      <td>-0.026561</td>\n",
       "      <td>67.88</td>\n",
       "      <td>0</td>\n",
       "    </tr>\n",
       "    <tr>\n",
       "      <th>284805</th>\n",
       "      <td>172788.0</td>\n",
       "      <td>-0.240440</td>\n",
       "      <td>0.530483</td>\n",
       "      <td>0.702510</td>\n",
       "      <td>0.689799</td>\n",
       "      <td>-0.377961</td>\n",
       "      <td>0.623708</td>\n",
       "      <td>-0.686180</td>\n",
       "      <td>0.679145</td>\n",
       "      <td>0.392087</td>\n",
       "      <td>...</td>\n",
       "      <td>0.265245</td>\n",
       "      <td>0.800049</td>\n",
       "      <td>-0.163298</td>\n",
       "      <td>0.123205</td>\n",
       "      <td>-0.569159</td>\n",
       "      <td>0.546668</td>\n",
       "      <td>0.108821</td>\n",
       "      <td>0.104533</td>\n",
       "      <td>10.00</td>\n",
       "      <td>0</td>\n",
       "    </tr>\n",
       "    <tr>\n",
       "      <th>284806</th>\n",
       "      <td>172792.0</td>\n",
       "      <td>-0.533413</td>\n",
       "      <td>-0.189733</td>\n",
       "      <td>0.703337</td>\n",
       "      <td>-0.506271</td>\n",
       "      <td>-0.012546</td>\n",
       "      <td>-0.649617</td>\n",
       "      <td>1.577006</td>\n",
       "      <td>-0.414650</td>\n",
       "      <td>0.486180</td>\n",
       "      <td>...</td>\n",
       "      <td>0.261057</td>\n",
       "      <td>0.643078</td>\n",
       "      <td>0.376777</td>\n",
       "      <td>0.008797</td>\n",
       "      <td>-0.473649</td>\n",
       "      <td>-0.818267</td>\n",
       "      <td>-0.002415</td>\n",
       "      <td>0.013649</td>\n",
       "      <td>217.00</td>\n",
       "      <td>0</td>\n",
       "    </tr>\n",
       "  </tbody>\n",
       "</table>\n",
       "<p>284807 rows × 31 columns</p>\n",
       "</div>"
      ],
      "text/plain": [
       "            Time         V1         V2        V3        V4        V5  \\\n",
       "0            0.0  -1.359807  -0.072781  2.536347  1.378155 -0.338321   \n",
       "1            0.0   1.191857   0.266151  0.166480  0.448154  0.060018   \n",
       "2            1.0  -1.358354  -1.340163  1.773209  0.379780 -0.503198   \n",
       "3            1.0  -0.966272  -0.185226  1.792993 -0.863291 -0.010309   \n",
       "4            2.0  -1.158233   0.877737  1.548718  0.403034 -0.407193   \n",
       "...          ...        ...        ...       ...       ...       ...   \n",
       "284802  172786.0 -11.881118  10.071785 -9.834783 -2.066656 -5.364473   \n",
       "284803  172787.0  -0.732789  -0.055080  2.035030 -0.738589  0.868229   \n",
       "284804  172788.0   1.919565  -0.301254 -3.249640 -0.557828  2.630515   \n",
       "284805  172788.0  -0.240440   0.530483  0.702510  0.689799 -0.377961   \n",
       "284806  172792.0  -0.533413  -0.189733  0.703337 -0.506271 -0.012546   \n",
       "\n",
       "              V6        V7        V8        V9  ...       V21       V22  \\\n",
       "0       0.462388  0.239599  0.098698  0.363787  ... -0.018307  0.277838   \n",
       "1      -0.082361 -0.078803  0.085102 -0.255425  ... -0.225775 -0.638672   \n",
       "2       1.800499  0.791461  0.247676 -1.514654  ...  0.247998  0.771679   \n",
       "3       1.247203  0.237609  0.377436 -1.387024  ... -0.108300  0.005274   \n",
       "4       0.095921  0.592941 -0.270533  0.817739  ... -0.009431  0.798278   \n",
       "...          ...       ...       ...       ...  ...       ...       ...   \n",
       "284802 -2.606837 -4.918215  7.305334  1.914428  ...  0.213454  0.111864   \n",
       "284803  1.058415  0.024330  0.294869  0.584800  ...  0.214205  0.924384   \n",
       "284804  3.031260 -0.296827  0.708417  0.432454  ...  0.232045  0.578229   \n",
       "284805  0.623708 -0.686180  0.679145  0.392087  ...  0.265245  0.800049   \n",
       "284806 -0.649617  1.577006 -0.414650  0.486180  ...  0.261057  0.643078   \n",
       "\n",
       "             V23       V24       V25       V26       V27       V28  Amount  \\\n",
       "0      -0.110474  0.066928  0.128539 -0.189115  0.133558 -0.021053  149.62   \n",
       "1       0.101288 -0.339846  0.167170  0.125895 -0.008983  0.014724    2.69   \n",
       "2       0.909412 -0.689281 -0.327642 -0.139097 -0.055353 -0.059752  378.66   \n",
       "3      -0.190321 -1.175575  0.647376 -0.221929  0.062723  0.061458  123.50   \n",
       "4      -0.137458  0.141267 -0.206010  0.502292  0.219422  0.215153   69.99   \n",
       "...          ...       ...       ...       ...       ...       ...     ...   \n",
       "284802  1.014480 -0.509348  1.436807  0.250034  0.943651  0.823731    0.77   \n",
       "284803  0.012463 -1.016226 -0.606624 -0.395255  0.068472 -0.053527   24.79   \n",
       "284804 -0.037501  0.640134  0.265745 -0.087371  0.004455 -0.026561   67.88   \n",
       "284805 -0.163298  0.123205 -0.569159  0.546668  0.108821  0.104533   10.00   \n",
       "284806  0.376777  0.008797 -0.473649 -0.818267 -0.002415  0.013649  217.00   \n",
       "\n",
       "        Class  \n",
       "0           0  \n",
       "1           0  \n",
       "2           0  \n",
       "3           0  \n",
       "4           0  \n",
       "...       ...  \n",
       "284802      0  \n",
       "284803      0  \n",
       "284804      0  \n",
       "284805      0  \n",
       "284806      0  \n",
       "\n",
       "[284807 rows x 31 columns]"
      ]
     },
     "execution_count": 2,
     "metadata": {},
     "output_type": "execute_result"
    }
   ],
   "source": [
    "dataset = pd.read_csv('creditcard.csv')\n",
    "dataset"
   ]
  },
  {
   "cell_type": "code",
   "execution_count": 3,
   "id": "f65bbb7a",
   "metadata": {},
   "outputs": [
    {
     "data": {
      "text/plain": [
       "Index(['Time', 'V1', 'V2', 'V3', 'V4', 'V5', 'V6', 'V7', 'V8', 'V9', 'V10',\n",
       "       'V11', 'V12', 'V13', 'V14', 'V15', 'V16', 'V17', 'V18', 'V19', 'V20',\n",
       "       'V21', 'V22', 'V23', 'V24', 'V25', 'V26', 'V27', 'V28', 'Amount',\n",
       "       'Class'],\n",
       "      dtype='object')"
      ]
     },
     "execution_count": 3,
     "metadata": {},
     "output_type": "execute_result"
    }
   ],
   "source": [
    "dataset.columns"
   ]
  },
  {
   "cell_type": "code",
   "execution_count": 4,
   "id": "cc218eee",
   "metadata": {},
   "outputs": [
    {
     "data": {
      "text/plain": [
       "<bound method DataFrame.info of             Time         V1         V2        V3        V4        V5  \\\n",
       "0            0.0  -1.359807  -0.072781  2.536347  1.378155 -0.338321   \n",
       "1            0.0   1.191857   0.266151  0.166480  0.448154  0.060018   \n",
       "2            1.0  -1.358354  -1.340163  1.773209  0.379780 -0.503198   \n",
       "3            1.0  -0.966272  -0.185226  1.792993 -0.863291 -0.010309   \n",
       "4            2.0  -1.158233   0.877737  1.548718  0.403034 -0.407193   \n",
       "...          ...        ...        ...       ...       ...       ...   \n",
       "284802  172786.0 -11.881118  10.071785 -9.834783 -2.066656 -5.364473   \n",
       "284803  172787.0  -0.732789  -0.055080  2.035030 -0.738589  0.868229   \n",
       "284804  172788.0   1.919565  -0.301254 -3.249640 -0.557828  2.630515   \n",
       "284805  172788.0  -0.240440   0.530483  0.702510  0.689799 -0.377961   \n",
       "284806  172792.0  -0.533413  -0.189733  0.703337 -0.506271 -0.012546   \n",
       "\n",
       "              V6        V7        V8        V9  ...       V21       V22  \\\n",
       "0       0.462388  0.239599  0.098698  0.363787  ... -0.018307  0.277838   \n",
       "1      -0.082361 -0.078803  0.085102 -0.255425  ... -0.225775 -0.638672   \n",
       "2       1.800499  0.791461  0.247676 -1.514654  ...  0.247998  0.771679   \n",
       "3       1.247203  0.237609  0.377436 -1.387024  ... -0.108300  0.005274   \n",
       "4       0.095921  0.592941 -0.270533  0.817739  ... -0.009431  0.798278   \n",
       "...          ...       ...       ...       ...  ...       ...       ...   \n",
       "284802 -2.606837 -4.918215  7.305334  1.914428  ...  0.213454  0.111864   \n",
       "284803  1.058415  0.024330  0.294869  0.584800  ...  0.214205  0.924384   \n",
       "284804  3.031260 -0.296827  0.708417  0.432454  ...  0.232045  0.578229   \n",
       "284805  0.623708 -0.686180  0.679145  0.392087  ...  0.265245  0.800049   \n",
       "284806 -0.649617  1.577006 -0.414650  0.486180  ...  0.261057  0.643078   \n",
       "\n",
       "             V23       V24       V25       V26       V27       V28  Amount  \\\n",
       "0      -0.110474  0.066928  0.128539 -0.189115  0.133558 -0.021053  149.62   \n",
       "1       0.101288 -0.339846  0.167170  0.125895 -0.008983  0.014724    2.69   \n",
       "2       0.909412 -0.689281 -0.327642 -0.139097 -0.055353 -0.059752  378.66   \n",
       "3      -0.190321 -1.175575  0.647376 -0.221929  0.062723  0.061458  123.50   \n",
       "4      -0.137458  0.141267 -0.206010  0.502292  0.219422  0.215153   69.99   \n",
       "...          ...       ...       ...       ...       ...       ...     ...   \n",
       "284802  1.014480 -0.509348  1.436807  0.250034  0.943651  0.823731    0.77   \n",
       "284803  0.012463 -1.016226 -0.606624 -0.395255  0.068472 -0.053527   24.79   \n",
       "284804 -0.037501  0.640134  0.265745 -0.087371  0.004455 -0.026561   67.88   \n",
       "284805 -0.163298  0.123205 -0.569159  0.546668  0.108821  0.104533   10.00   \n",
       "284806  0.376777  0.008797 -0.473649 -0.818267 -0.002415  0.013649  217.00   \n",
       "\n",
       "        Class  \n",
       "0           0  \n",
       "1           0  \n",
       "2           0  \n",
       "3           0  \n",
       "4           0  \n",
       "...       ...  \n",
       "284802      0  \n",
       "284803      0  \n",
       "284804      0  \n",
       "284805      0  \n",
       "284806      0  \n",
       "\n",
       "[284807 rows x 31 columns]>"
      ]
     },
     "execution_count": 4,
     "metadata": {},
     "output_type": "execute_result"
    }
   ],
   "source": [
    "dataset.info"
   ]
  },
  {
   "cell_type": "code",
   "execution_count": 142,
   "id": "cb69ccaa",
   "metadata": {},
   "outputs": [
    {
     "data": {
      "text/html": [
       "<div>\n",
       "<style scoped>\n",
       "    .dataframe tbody tr th:only-of-type {\n",
       "        vertical-align: middle;\n",
       "    }\n",
       "\n",
       "    .dataframe tbody tr th {\n",
       "        vertical-align: top;\n",
       "    }\n",
       "\n",
       "    .dataframe thead th {\n",
       "        text-align: right;\n",
       "    }\n",
       "</style>\n",
       "<table border=\"1\" class=\"dataframe\">\n",
       "  <thead>\n",
       "    <tr style=\"text-align: right;\">\n",
       "      <th></th>\n",
       "      <th>transaction</th>\n",
       "      <th>count</th>\n",
       "    </tr>\n",
       "  </thead>\n",
       "  <tbody>\n",
       "    <tr>\n",
       "      <th>0</th>\n",
       "      <td>Non-fraudulent</td>\n",
       "      <td>284315</td>\n",
       "    </tr>\n",
       "    <tr>\n",
       "      <th>1</th>\n",
       "      <td>Fraudulent</td>\n",
       "      <td>492</td>\n",
       "    </tr>\n",
       "  </tbody>\n",
       "</table>\n",
       "</div>"
      ],
      "text/plain": [
       "      transaction   count\n",
       "0  Non-fraudulent  284315\n",
       "1      Fraudulent     492"
      ]
     },
     "execution_count": 142,
     "metadata": {},
     "output_type": "execute_result"
    }
   ],
   "source": [
    "#TARGET Distribution\n",
    "\n",
    "a = dataset['Class'].value_counts().reset_index().rename(columns={'index':'transaction','Class':'count'})\n",
    "\n",
    "a.at[0, 'transaction'] = 'Non-fraudulent'\n",
    "a.at[1, 'transaction'] = 'Fraudulent'\n",
    "\n",
    "a"
   ]
  },
  {
   "cell_type": "code",
   "execution_count": null,
   "id": "210ec686",
   "metadata": {},
   "outputs": [],
   "source": []
  },
  {
   "cell_type": "markdown",
   "id": "1bcb2345",
   "metadata": {},
   "source": [
    "#### Credit card transactions flagged as non-fraudulent (0) - 284315\n",
    "#### Credit card transactions flagged as fraudulent (1) - 492 "
   ]
  },
  {
   "cell_type": "markdown",
   "id": "1ecd6b58",
   "metadata": {},
   "source": [
    " "
   ]
  },
  {
   "cell_type": "markdown",
   "id": "190213f7",
   "metadata": {},
   "source": [
    "### COVERAGE"
   ]
  },
  {
   "cell_type": "code",
   "execution_count": 6,
   "id": "bc15e3ac",
   "metadata": {},
   "outputs": [],
   "source": [
    "def find_coverage(df):\n",
    "    \n",
    "    c1=list(dataset.columns)\n",
    "    c2=dataset.count() + dataset.isnull().sum()\n",
    "    c3=dataset.isnull().sum()\n",
    "    c4=c2-c3\n",
    "    c5=round((c3/c2),2)\n",
    "    c6=round((c4/c2),2)\n",
    "    \n",
    "    df=pd.DataFrame({'column_name':c1,'overall_total_count':c2,'overall_missing_count':c3,'overall_non_missing_count':c4,'overall_missing_pct':c5,'overall_non_missing_pct':c6}).reset_index(drop=True)\n",
    "    return df"
   ]
  },
  {
   "cell_type": "code",
   "execution_count": 7,
   "id": "787840d6",
   "metadata": {
    "scrolled": true
   },
   "outputs": [
    {
     "data": {
      "text/html": [
       "<div>\n",
       "<style scoped>\n",
       "    .dataframe tbody tr th:only-of-type {\n",
       "        vertical-align: middle;\n",
       "    }\n",
       "\n",
       "    .dataframe tbody tr th {\n",
       "        vertical-align: top;\n",
       "    }\n",
       "\n",
       "    .dataframe thead th {\n",
       "        text-align: right;\n",
       "    }\n",
       "</style>\n",
       "<table border=\"1\" class=\"dataframe\">\n",
       "  <thead>\n",
       "    <tr style=\"text-align: right;\">\n",
       "      <th></th>\n",
       "      <th>column_name</th>\n",
       "      <th>overall_total_count</th>\n",
       "      <th>overall_missing_count</th>\n",
       "      <th>overall_non_missing_count</th>\n",
       "      <th>overall_missing_pct</th>\n",
       "      <th>overall_non_missing_pct</th>\n",
       "    </tr>\n",
       "  </thead>\n",
       "  <tbody>\n",
       "    <tr>\n",
       "      <th>0</th>\n",
       "      <td>Time</td>\n",
       "      <td>284807</td>\n",
       "      <td>0</td>\n",
       "      <td>284807</td>\n",
       "      <td>0.0</td>\n",
       "      <td>1.0</td>\n",
       "    </tr>\n",
       "    <tr>\n",
       "      <th>1</th>\n",
       "      <td>V1</td>\n",
       "      <td>284807</td>\n",
       "      <td>0</td>\n",
       "      <td>284807</td>\n",
       "      <td>0.0</td>\n",
       "      <td>1.0</td>\n",
       "    </tr>\n",
       "    <tr>\n",
       "      <th>2</th>\n",
       "      <td>V2</td>\n",
       "      <td>284807</td>\n",
       "      <td>0</td>\n",
       "      <td>284807</td>\n",
       "      <td>0.0</td>\n",
       "      <td>1.0</td>\n",
       "    </tr>\n",
       "    <tr>\n",
       "      <th>3</th>\n",
       "      <td>V3</td>\n",
       "      <td>284807</td>\n",
       "      <td>0</td>\n",
       "      <td>284807</td>\n",
       "      <td>0.0</td>\n",
       "      <td>1.0</td>\n",
       "    </tr>\n",
       "    <tr>\n",
       "      <th>4</th>\n",
       "      <td>V4</td>\n",
       "      <td>284807</td>\n",
       "      <td>0</td>\n",
       "      <td>284807</td>\n",
       "      <td>0.0</td>\n",
       "      <td>1.0</td>\n",
       "    </tr>\n",
       "    <tr>\n",
       "      <th>5</th>\n",
       "      <td>V5</td>\n",
       "      <td>284807</td>\n",
       "      <td>0</td>\n",
       "      <td>284807</td>\n",
       "      <td>0.0</td>\n",
       "      <td>1.0</td>\n",
       "    </tr>\n",
       "    <tr>\n",
       "      <th>6</th>\n",
       "      <td>V6</td>\n",
       "      <td>284807</td>\n",
       "      <td>0</td>\n",
       "      <td>284807</td>\n",
       "      <td>0.0</td>\n",
       "      <td>1.0</td>\n",
       "    </tr>\n",
       "    <tr>\n",
       "      <th>7</th>\n",
       "      <td>V7</td>\n",
       "      <td>284807</td>\n",
       "      <td>0</td>\n",
       "      <td>284807</td>\n",
       "      <td>0.0</td>\n",
       "      <td>1.0</td>\n",
       "    </tr>\n",
       "    <tr>\n",
       "      <th>8</th>\n",
       "      <td>V8</td>\n",
       "      <td>284807</td>\n",
       "      <td>0</td>\n",
       "      <td>284807</td>\n",
       "      <td>0.0</td>\n",
       "      <td>1.0</td>\n",
       "    </tr>\n",
       "    <tr>\n",
       "      <th>9</th>\n",
       "      <td>V9</td>\n",
       "      <td>284807</td>\n",
       "      <td>0</td>\n",
       "      <td>284807</td>\n",
       "      <td>0.0</td>\n",
       "      <td>1.0</td>\n",
       "    </tr>\n",
       "    <tr>\n",
       "      <th>10</th>\n",
       "      <td>V10</td>\n",
       "      <td>284807</td>\n",
       "      <td>0</td>\n",
       "      <td>284807</td>\n",
       "      <td>0.0</td>\n",
       "      <td>1.0</td>\n",
       "    </tr>\n",
       "    <tr>\n",
       "      <th>11</th>\n",
       "      <td>V11</td>\n",
       "      <td>284807</td>\n",
       "      <td>0</td>\n",
       "      <td>284807</td>\n",
       "      <td>0.0</td>\n",
       "      <td>1.0</td>\n",
       "    </tr>\n",
       "    <tr>\n",
       "      <th>12</th>\n",
       "      <td>V12</td>\n",
       "      <td>284807</td>\n",
       "      <td>0</td>\n",
       "      <td>284807</td>\n",
       "      <td>0.0</td>\n",
       "      <td>1.0</td>\n",
       "    </tr>\n",
       "    <tr>\n",
       "      <th>13</th>\n",
       "      <td>V13</td>\n",
       "      <td>284807</td>\n",
       "      <td>0</td>\n",
       "      <td>284807</td>\n",
       "      <td>0.0</td>\n",
       "      <td>1.0</td>\n",
       "    </tr>\n",
       "    <tr>\n",
       "      <th>14</th>\n",
       "      <td>V14</td>\n",
       "      <td>284807</td>\n",
       "      <td>0</td>\n",
       "      <td>284807</td>\n",
       "      <td>0.0</td>\n",
       "      <td>1.0</td>\n",
       "    </tr>\n",
       "    <tr>\n",
       "      <th>15</th>\n",
       "      <td>V15</td>\n",
       "      <td>284807</td>\n",
       "      <td>0</td>\n",
       "      <td>284807</td>\n",
       "      <td>0.0</td>\n",
       "      <td>1.0</td>\n",
       "    </tr>\n",
       "    <tr>\n",
       "      <th>16</th>\n",
       "      <td>V16</td>\n",
       "      <td>284807</td>\n",
       "      <td>0</td>\n",
       "      <td>284807</td>\n",
       "      <td>0.0</td>\n",
       "      <td>1.0</td>\n",
       "    </tr>\n",
       "    <tr>\n",
       "      <th>17</th>\n",
       "      <td>V17</td>\n",
       "      <td>284807</td>\n",
       "      <td>0</td>\n",
       "      <td>284807</td>\n",
       "      <td>0.0</td>\n",
       "      <td>1.0</td>\n",
       "    </tr>\n",
       "    <tr>\n",
       "      <th>18</th>\n",
       "      <td>V18</td>\n",
       "      <td>284807</td>\n",
       "      <td>0</td>\n",
       "      <td>284807</td>\n",
       "      <td>0.0</td>\n",
       "      <td>1.0</td>\n",
       "    </tr>\n",
       "    <tr>\n",
       "      <th>19</th>\n",
       "      <td>V19</td>\n",
       "      <td>284807</td>\n",
       "      <td>0</td>\n",
       "      <td>284807</td>\n",
       "      <td>0.0</td>\n",
       "      <td>1.0</td>\n",
       "    </tr>\n",
       "    <tr>\n",
       "      <th>20</th>\n",
       "      <td>V20</td>\n",
       "      <td>284807</td>\n",
       "      <td>0</td>\n",
       "      <td>284807</td>\n",
       "      <td>0.0</td>\n",
       "      <td>1.0</td>\n",
       "    </tr>\n",
       "    <tr>\n",
       "      <th>21</th>\n",
       "      <td>V21</td>\n",
       "      <td>284807</td>\n",
       "      <td>0</td>\n",
       "      <td>284807</td>\n",
       "      <td>0.0</td>\n",
       "      <td>1.0</td>\n",
       "    </tr>\n",
       "    <tr>\n",
       "      <th>22</th>\n",
       "      <td>V22</td>\n",
       "      <td>284807</td>\n",
       "      <td>0</td>\n",
       "      <td>284807</td>\n",
       "      <td>0.0</td>\n",
       "      <td>1.0</td>\n",
       "    </tr>\n",
       "    <tr>\n",
       "      <th>23</th>\n",
       "      <td>V23</td>\n",
       "      <td>284807</td>\n",
       "      <td>0</td>\n",
       "      <td>284807</td>\n",
       "      <td>0.0</td>\n",
       "      <td>1.0</td>\n",
       "    </tr>\n",
       "    <tr>\n",
       "      <th>24</th>\n",
       "      <td>V24</td>\n",
       "      <td>284807</td>\n",
       "      <td>0</td>\n",
       "      <td>284807</td>\n",
       "      <td>0.0</td>\n",
       "      <td>1.0</td>\n",
       "    </tr>\n",
       "    <tr>\n",
       "      <th>25</th>\n",
       "      <td>V25</td>\n",
       "      <td>284807</td>\n",
       "      <td>0</td>\n",
       "      <td>284807</td>\n",
       "      <td>0.0</td>\n",
       "      <td>1.0</td>\n",
       "    </tr>\n",
       "    <tr>\n",
       "      <th>26</th>\n",
       "      <td>V26</td>\n",
       "      <td>284807</td>\n",
       "      <td>0</td>\n",
       "      <td>284807</td>\n",
       "      <td>0.0</td>\n",
       "      <td>1.0</td>\n",
       "    </tr>\n",
       "    <tr>\n",
       "      <th>27</th>\n",
       "      <td>V27</td>\n",
       "      <td>284807</td>\n",
       "      <td>0</td>\n",
       "      <td>284807</td>\n",
       "      <td>0.0</td>\n",
       "      <td>1.0</td>\n",
       "    </tr>\n",
       "    <tr>\n",
       "      <th>28</th>\n",
       "      <td>V28</td>\n",
       "      <td>284807</td>\n",
       "      <td>0</td>\n",
       "      <td>284807</td>\n",
       "      <td>0.0</td>\n",
       "      <td>1.0</td>\n",
       "    </tr>\n",
       "    <tr>\n",
       "      <th>29</th>\n",
       "      <td>Amount</td>\n",
       "      <td>284807</td>\n",
       "      <td>0</td>\n",
       "      <td>284807</td>\n",
       "      <td>0.0</td>\n",
       "      <td>1.0</td>\n",
       "    </tr>\n",
       "    <tr>\n",
       "      <th>30</th>\n",
       "      <td>Class</td>\n",
       "      <td>284807</td>\n",
       "      <td>0</td>\n",
       "      <td>284807</td>\n",
       "      <td>0.0</td>\n",
       "      <td>1.0</td>\n",
       "    </tr>\n",
       "  </tbody>\n",
       "</table>\n",
       "</div>"
      ],
      "text/plain": [
       "   column_name  overall_total_count  overall_missing_count  \\\n",
       "0         Time               284807                      0   \n",
       "1           V1               284807                      0   \n",
       "2           V2               284807                      0   \n",
       "3           V3               284807                      0   \n",
       "4           V4               284807                      0   \n",
       "5           V5               284807                      0   \n",
       "6           V6               284807                      0   \n",
       "7           V7               284807                      0   \n",
       "8           V8               284807                      0   \n",
       "9           V9               284807                      0   \n",
       "10         V10               284807                      0   \n",
       "11         V11               284807                      0   \n",
       "12         V12               284807                      0   \n",
       "13         V13               284807                      0   \n",
       "14         V14               284807                      0   \n",
       "15         V15               284807                      0   \n",
       "16         V16               284807                      0   \n",
       "17         V17               284807                      0   \n",
       "18         V18               284807                      0   \n",
       "19         V19               284807                      0   \n",
       "20         V20               284807                      0   \n",
       "21         V21               284807                      0   \n",
       "22         V22               284807                      0   \n",
       "23         V23               284807                      0   \n",
       "24         V24               284807                      0   \n",
       "25         V25               284807                      0   \n",
       "26         V26               284807                      0   \n",
       "27         V27               284807                      0   \n",
       "28         V28               284807                      0   \n",
       "29      Amount               284807                      0   \n",
       "30       Class               284807                      0   \n",
       "\n",
       "    overall_non_missing_count  overall_missing_pct  overall_non_missing_pct  \n",
       "0                      284807                  0.0                      1.0  \n",
       "1                      284807                  0.0                      1.0  \n",
       "2                      284807                  0.0                      1.0  \n",
       "3                      284807                  0.0                      1.0  \n",
       "4                      284807                  0.0                      1.0  \n",
       "5                      284807                  0.0                      1.0  \n",
       "6                      284807                  0.0                      1.0  \n",
       "7                      284807                  0.0                      1.0  \n",
       "8                      284807                  0.0                      1.0  \n",
       "9                      284807                  0.0                      1.0  \n",
       "10                     284807                  0.0                      1.0  \n",
       "11                     284807                  0.0                      1.0  \n",
       "12                     284807                  0.0                      1.0  \n",
       "13                     284807                  0.0                      1.0  \n",
       "14                     284807                  0.0                      1.0  \n",
       "15                     284807                  0.0                      1.0  \n",
       "16                     284807                  0.0                      1.0  \n",
       "17                     284807                  0.0                      1.0  \n",
       "18                     284807                  0.0                      1.0  \n",
       "19                     284807                  0.0                      1.0  \n",
       "20                     284807                  0.0                      1.0  \n",
       "21                     284807                  0.0                      1.0  \n",
       "22                     284807                  0.0                      1.0  \n",
       "23                     284807                  0.0                      1.0  \n",
       "24                     284807                  0.0                      1.0  \n",
       "25                     284807                  0.0                      1.0  \n",
       "26                     284807                  0.0                      1.0  \n",
       "27                     284807                  0.0                      1.0  \n",
       "28                     284807                  0.0                      1.0  \n",
       "29                     284807                  0.0                      1.0  \n",
       "30                     284807                  0.0                      1.0  "
      ]
     },
     "execution_count": 7,
     "metadata": {},
     "output_type": "execute_result"
    }
   ],
   "source": [
    "find_coverage(dataset)"
   ]
  },
  {
   "cell_type": "markdown",
   "id": "9e528a75",
   "metadata": {},
   "source": [
    " "
   ]
  },
  {
   "cell_type": "markdown",
   "id": "4a467306",
   "metadata": {},
   "source": [
    "### SELECT FEATURES AND TARGET"
   ]
  },
  {
   "cell_type": "code",
   "execution_count": 8,
   "id": "fa24f9a7",
   "metadata": {},
   "outputs": [],
   "source": [
    "#Excluding TIME AND AMOUNT COLUMNS FOR Features, we will have - \n",
    "X = dataset[['V1', 'V2', 'V3', 'V4', 'V5', 'V6', 'V7', 'V8', 'V9', 'V10',\n",
    "       'V11', 'V12', 'V13', 'V14', 'V15', 'V16', 'V17', 'V18', 'V19', 'V20',\n",
    "       'V21', 'V22', 'V23', 'V24', 'V25', 'V26', 'V27', 'V28']]\n",
    "y = dataset['Class']"
   ]
  },
  {
   "cell_type": "code",
   "execution_count": 9,
   "id": "b8269d09",
   "metadata": {},
   "outputs": [
    {
     "data": {
      "text/html": [
       "<div>\n",
       "<style scoped>\n",
       "    .dataframe tbody tr th:only-of-type {\n",
       "        vertical-align: middle;\n",
       "    }\n",
       "\n",
       "    .dataframe tbody tr th {\n",
       "        vertical-align: top;\n",
       "    }\n",
       "\n",
       "    .dataframe thead th {\n",
       "        text-align: right;\n",
       "    }\n",
       "</style>\n",
       "<table border=\"1\" class=\"dataframe\">\n",
       "  <thead>\n",
       "    <tr style=\"text-align: right;\">\n",
       "      <th></th>\n",
       "      <th>V1</th>\n",
       "      <th>V2</th>\n",
       "      <th>V3</th>\n",
       "      <th>V4</th>\n",
       "      <th>V5</th>\n",
       "      <th>V6</th>\n",
       "      <th>V7</th>\n",
       "      <th>V8</th>\n",
       "      <th>V9</th>\n",
       "      <th>V10</th>\n",
       "      <th>...</th>\n",
       "      <th>V19</th>\n",
       "      <th>V20</th>\n",
       "      <th>V21</th>\n",
       "      <th>V22</th>\n",
       "      <th>V23</th>\n",
       "      <th>V24</th>\n",
       "      <th>V25</th>\n",
       "      <th>V26</th>\n",
       "      <th>V27</th>\n",
       "      <th>V28</th>\n",
       "    </tr>\n",
       "  </thead>\n",
       "  <tbody>\n",
       "    <tr>\n",
       "      <th>0</th>\n",
       "      <td>-1.359807</td>\n",
       "      <td>-0.072781</td>\n",
       "      <td>2.536347</td>\n",
       "      <td>1.378155</td>\n",
       "      <td>-0.338321</td>\n",
       "      <td>0.462388</td>\n",
       "      <td>0.239599</td>\n",
       "      <td>0.098698</td>\n",
       "      <td>0.363787</td>\n",
       "      <td>0.090794</td>\n",
       "      <td>...</td>\n",
       "      <td>0.403993</td>\n",
       "      <td>0.251412</td>\n",
       "      <td>-0.018307</td>\n",
       "      <td>0.277838</td>\n",
       "      <td>-0.110474</td>\n",
       "      <td>0.066928</td>\n",
       "      <td>0.128539</td>\n",
       "      <td>-0.189115</td>\n",
       "      <td>0.133558</td>\n",
       "      <td>-0.021053</td>\n",
       "    </tr>\n",
       "    <tr>\n",
       "      <th>1</th>\n",
       "      <td>1.191857</td>\n",
       "      <td>0.266151</td>\n",
       "      <td>0.166480</td>\n",
       "      <td>0.448154</td>\n",
       "      <td>0.060018</td>\n",
       "      <td>-0.082361</td>\n",
       "      <td>-0.078803</td>\n",
       "      <td>0.085102</td>\n",
       "      <td>-0.255425</td>\n",
       "      <td>-0.166974</td>\n",
       "      <td>...</td>\n",
       "      <td>-0.145783</td>\n",
       "      <td>-0.069083</td>\n",
       "      <td>-0.225775</td>\n",
       "      <td>-0.638672</td>\n",
       "      <td>0.101288</td>\n",
       "      <td>-0.339846</td>\n",
       "      <td>0.167170</td>\n",
       "      <td>0.125895</td>\n",
       "      <td>-0.008983</td>\n",
       "      <td>0.014724</td>\n",
       "    </tr>\n",
       "    <tr>\n",
       "      <th>2</th>\n",
       "      <td>-1.358354</td>\n",
       "      <td>-1.340163</td>\n",
       "      <td>1.773209</td>\n",
       "      <td>0.379780</td>\n",
       "      <td>-0.503198</td>\n",
       "      <td>1.800499</td>\n",
       "      <td>0.791461</td>\n",
       "      <td>0.247676</td>\n",
       "      <td>-1.514654</td>\n",
       "      <td>0.207643</td>\n",
       "      <td>...</td>\n",
       "      <td>-2.261857</td>\n",
       "      <td>0.524980</td>\n",
       "      <td>0.247998</td>\n",
       "      <td>0.771679</td>\n",
       "      <td>0.909412</td>\n",
       "      <td>-0.689281</td>\n",
       "      <td>-0.327642</td>\n",
       "      <td>-0.139097</td>\n",
       "      <td>-0.055353</td>\n",
       "      <td>-0.059752</td>\n",
       "    </tr>\n",
       "    <tr>\n",
       "      <th>3</th>\n",
       "      <td>-0.966272</td>\n",
       "      <td>-0.185226</td>\n",
       "      <td>1.792993</td>\n",
       "      <td>-0.863291</td>\n",
       "      <td>-0.010309</td>\n",
       "      <td>1.247203</td>\n",
       "      <td>0.237609</td>\n",
       "      <td>0.377436</td>\n",
       "      <td>-1.387024</td>\n",
       "      <td>-0.054952</td>\n",
       "      <td>...</td>\n",
       "      <td>-1.232622</td>\n",
       "      <td>-0.208038</td>\n",
       "      <td>-0.108300</td>\n",
       "      <td>0.005274</td>\n",
       "      <td>-0.190321</td>\n",
       "      <td>-1.175575</td>\n",
       "      <td>0.647376</td>\n",
       "      <td>-0.221929</td>\n",
       "      <td>0.062723</td>\n",
       "      <td>0.061458</td>\n",
       "    </tr>\n",
       "    <tr>\n",
       "      <th>4</th>\n",
       "      <td>-1.158233</td>\n",
       "      <td>0.877737</td>\n",
       "      <td>1.548718</td>\n",
       "      <td>0.403034</td>\n",
       "      <td>-0.407193</td>\n",
       "      <td>0.095921</td>\n",
       "      <td>0.592941</td>\n",
       "      <td>-0.270533</td>\n",
       "      <td>0.817739</td>\n",
       "      <td>0.753074</td>\n",
       "      <td>...</td>\n",
       "      <td>0.803487</td>\n",
       "      <td>0.408542</td>\n",
       "      <td>-0.009431</td>\n",
       "      <td>0.798278</td>\n",
       "      <td>-0.137458</td>\n",
       "      <td>0.141267</td>\n",
       "      <td>-0.206010</td>\n",
       "      <td>0.502292</td>\n",
       "      <td>0.219422</td>\n",
       "      <td>0.215153</td>\n",
       "    </tr>\n",
       "    <tr>\n",
       "      <th>...</th>\n",
       "      <td>...</td>\n",
       "      <td>...</td>\n",
       "      <td>...</td>\n",
       "      <td>...</td>\n",
       "      <td>...</td>\n",
       "      <td>...</td>\n",
       "      <td>...</td>\n",
       "      <td>...</td>\n",
       "      <td>...</td>\n",
       "      <td>...</td>\n",
       "      <td>...</td>\n",
       "      <td>...</td>\n",
       "      <td>...</td>\n",
       "      <td>...</td>\n",
       "      <td>...</td>\n",
       "      <td>...</td>\n",
       "      <td>...</td>\n",
       "      <td>...</td>\n",
       "      <td>...</td>\n",
       "      <td>...</td>\n",
       "      <td>...</td>\n",
       "    </tr>\n",
       "    <tr>\n",
       "      <th>284802</th>\n",
       "      <td>-11.881118</td>\n",
       "      <td>10.071785</td>\n",
       "      <td>-9.834783</td>\n",
       "      <td>-2.066656</td>\n",
       "      <td>-5.364473</td>\n",
       "      <td>-2.606837</td>\n",
       "      <td>-4.918215</td>\n",
       "      <td>7.305334</td>\n",
       "      <td>1.914428</td>\n",
       "      <td>4.356170</td>\n",
       "      <td>...</td>\n",
       "      <td>-0.682920</td>\n",
       "      <td>1.475829</td>\n",
       "      <td>0.213454</td>\n",
       "      <td>0.111864</td>\n",
       "      <td>1.014480</td>\n",
       "      <td>-0.509348</td>\n",
       "      <td>1.436807</td>\n",
       "      <td>0.250034</td>\n",
       "      <td>0.943651</td>\n",
       "      <td>0.823731</td>\n",
       "    </tr>\n",
       "    <tr>\n",
       "      <th>284803</th>\n",
       "      <td>-0.732789</td>\n",
       "      <td>-0.055080</td>\n",
       "      <td>2.035030</td>\n",
       "      <td>-0.738589</td>\n",
       "      <td>0.868229</td>\n",
       "      <td>1.058415</td>\n",
       "      <td>0.024330</td>\n",
       "      <td>0.294869</td>\n",
       "      <td>0.584800</td>\n",
       "      <td>-0.975926</td>\n",
       "      <td>...</td>\n",
       "      <td>-1.545556</td>\n",
       "      <td>0.059616</td>\n",
       "      <td>0.214205</td>\n",
       "      <td>0.924384</td>\n",
       "      <td>0.012463</td>\n",
       "      <td>-1.016226</td>\n",
       "      <td>-0.606624</td>\n",
       "      <td>-0.395255</td>\n",
       "      <td>0.068472</td>\n",
       "      <td>-0.053527</td>\n",
       "    </tr>\n",
       "    <tr>\n",
       "      <th>284804</th>\n",
       "      <td>1.919565</td>\n",
       "      <td>-0.301254</td>\n",
       "      <td>-3.249640</td>\n",
       "      <td>-0.557828</td>\n",
       "      <td>2.630515</td>\n",
       "      <td>3.031260</td>\n",
       "      <td>-0.296827</td>\n",
       "      <td>0.708417</td>\n",
       "      <td>0.432454</td>\n",
       "      <td>-0.484782</td>\n",
       "      <td>...</td>\n",
       "      <td>-0.577252</td>\n",
       "      <td>0.001396</td>\n",
       "      <td>0.232045</td>\n",
       "      <td>0.578229</td>\n",
       "      <td>-0.037501</td>\n",
       "      <td>0.640134</td>\n",
       "      <td>0.265745</td>\n",
       "      <td>-0.087371</td>\n",
       "      <td>0.004455</td>\n",
       "      <td>-0.026561</td>\n",
       "    </tr>\n",
       "    <tr>\n",
       "      <th>284805</th>\n",
       "      <td>-0.240440</td>\n",
       "      <td>0.530483</td>\n",
       "      <td>0.702510</td>\n",
       "      <td>0.689799</td>\n",
       "      <td>-0.377961</td>\n",
       "      <td>0.623708</td>\n",
       "      <td>-0.686180</td>\n",
       "      <td>0.679145</td>\n",
       "      <td>0.392087</td>\n",
       "      <td>-0.399126</td>\n",
       "      <td>...</td>\n",
       "      <td>2.897849</td>\n",
       "      <td>0.127434</td>\n",
       "      <td>0.265245</td>\n",
       "      <td>0.800049</td>\n",
       "      <td>-0.163298</td>\n",
       "      <td>0.123205</td>\n",
       "      <td>-0.569159</td>\n",
       "      <td>0.546668</td>\n",
       "      <td>0.108821</td>\n",
       "      <td>0.104533</td>\n",
       "    </tr>\n",
       "    <tr>\n",
       "      <th>284806</th>\n",
       "      <td>-0.533413</td>\n",
       "      <td>-0.189733</td>\n",
       "      <td>0.703337</td>\n",
       "      <td>-0.506271</td>\n",
       "      <td>-0.012546</td>\n",
       "      <td>-0.649617</td>\n",
       "      <td>1.577006</td>\n",
       "      <td>-0.414650</td>\n",
       "      <td>0.486180</td>\n",
       "      <td>-0.915427</td>\n",
       "      <td>...</td>\n",
       "      <td>-0.256117</td>\n",
       "      <td>0.382948</td>\n",
       "      <td>0.261057</td>\n",
       "      <td>0.643078</td>\n",
       "      <td>0.376777</td>\n",
       "      <td>0.008797</td>\n",
       "      <td>-0.473649</td>\n",
       "      <td>-0.818267</td>\n",
       "      <td>-0.002415</td>\n",
       "      <td>0.013649</td>\n",
       "    </tr>\n",
       "  </tbody>\n",
       "</table>\n",
       "<p>284807 rows × 28 columns</p>\n",
       "</div>"
      ],
      "text/plain": [
       "               V1         V2        V3        V4        V5        V6  \\\n",
       "0       -1.359807  -0.072781  2.536347  1.378155 -0.338321  0.462388   \n",
       "1        1.191857   0.266151  0.166480  0.448154  0.060018 -0.082361   \n",
       "2       -1.358354  -1.340163  1.773209  0.379780 -0.503198  1.800499   \n",
       "3       -0.966272  -0.185226  1.792993 -0.863291 -0.010309  1.247203   \n",
       "4       -1.158233   0.877737  1.548718  0.403034 -0.407193  0.095921   \n",
       "...           ...        ...       ...       ...       ...       ...   \n",
       "284802 -11.881118  10.071785 -9.834783 -2.066656 -5.364473 -2.606837   \n",
       "284803  -0.732789  -0.055080  2.035030 -0.738589  0.868229  1.058415   \n",
       "284804   1.919565  -0.301254 -3.249640 -0.557828  2.630515  3.031260   \n",
       "284805  -0.240440   0.530483  0.702510  0.689799 -0.377961  0.623708   \n",
       "284806  -0.533413  -0.189733  0.703337 -0.506271 -0.012546 -0.649617   \n",
       "\n",
       "              V7        V8        V9       V10  ...       V19       V20  \\\n",
       "0       0.239599  0.098698  0.363787  0.090794  ...  0.403993  0.251412   \n",
       "1      -0.078803  0.085102 -0.255425 -0.166974  ... -0.145783 -0.069083   \n",
       "2       0.791461  0.247676 -1.514654  0.207643  ... -2.261857  0.524980   \n",
       "3       0.237609  0.377436 -1.387024 -0.054952  ... -1.232622 -0.208038   \n",
       "4       0.592941 -0.270533  0.817739  0.753074  ...  0.803487  0.408542   \n",
       "...          ...       ...       ...       ...  ...       ...       ...   \n",
       "284802 -4.918215  7.305334  1.914428  4.356170  ... -0.682920  1.475829   \n",
       "284803  0.024330  0.294869  0.584800 -0.975926  ... -1.545556  0.059616   \n",
       "284804 -0.296827  0.708417  0.432454 -0.484782  ... -0.577252  0.001396   \n",
       "284805 -0.686180  0.679145  0.392087 -0.399126  ...  2.897849  0.127434   \n",
       "284806  1.577006 -0.414650  0.486180 -0.915427  ... -0.256117  0.382948   \n",
       "\n",
       "             V21       V22       V23       V24       V25       V26       V27  \\\n",
       "0      -0.018307  0.277838 -0.110474  0.066928  0.128539 -0.189115  0.133558   \n",
       "1      -0.225775 -0.638672  0.101288 -0.339846  0.167170  0.125895 -0.008983   \n",
       "2       0.247998  0.771679  0.909412 -0.689281 -0.327642 -0.139097 -0.055353   \n",
       "3      -0.108300  0.005274 -0.190321 -1.175575  0.647376 -0.221929  0.062723   \n",
       "4      -0.009431  0.798278 -0.137458  0.141267 -0.206010  0.502292  0.219422   \n",
       "...          ...       ...       ...       ...       ...       ...       ...   \n",
       "284802  0.213454  0.111864  1.014480 -0.509348  1.436807  0.250034  0.943651   \n",
       "284803  0.214205  0.924384  0.012463 -1.016226 -0.606624 -0.395255  0.068472   \n",
       "284804  0.232045  0.578229 -0.037501  0.640134  0.265745 -0.087371  0.004455   \n",
       "284805  0.265245  0.800049 -0.163298  0.123205 -0.569159  0.546668  0.108821   \n",
       "284806  0.261057  0.643078  0.376777  0.008797 -0.473649 -0.818267 -0.002415   \n",
       "\n",
       "             V28  \n",
       "0      -0.021053  \n",
       "1       0.014724  \n",
       "2      -0.059752  \n",
       "3       0.061458  \n",
       "4       0.215153  \n",
       "...          ...  \n",
       "284802  0.823731  \n",
       "284803 -0.053527  \n",
       "284804 -0.026561  \n",
       "284805  0.104533  \n",
       "284806  0.013649  \n",
       "\n",
       "[284807 rows x 28 columns]"
      ]
     },
     "execution_count": 9,
     "metadata": {},
     "output_type": "execute_result"
    }
   ],
   "source": [
    "X"
   ]
  },
  {
   "cell_type": "code",
   "execution_count": 10,
   "id": "f0a16834",
   "metadata": {},
   "outputs": [
    {
     "data": {
      "text/plain": [
       "0         0\n",
       "1         0\n",
       "2         0\n",
       "3         0\n",
       "4         0\n",
       "         ..\n",
       "284802    0\n",
       "284803    0\n",
       "284804    0\n",
       "284805    0\n",
       "284806    0\n",
       "Name: Class, Length: 284807, dtype: int64"
      ]
     },
     "execution_count": 10,
     "metadata": {},
     "output_type": "execute_result"
    }
   ],
   "source": [
    "y"
   ]
  },
  {
   "cell_type": "code",
   "execution_count": null,
   "id": "79144e4a",
   "metadata": {},
   "outputs": [],
   "source": []
  },
  {
   "cell_type": "code",
   "execution_count": 11,
   "id": "b03922e4",
   "metadata": {},
   "outputs": [],
   "source": [
    "list_features = ['V1', 'V2', 'V3', 'V4', 'V5', 'V6', 'V7', 'V8', 'V9', 'V10',\n",
    "       'V11', 'V12', 'V13', 'V14', 'V15', 'V16', 'V17', 'V18', 'V19', 'V20',\n",
    "       'V21', 'V22', 'V23', 'V24', 'V25', 'V26', 'V27', 'V28']"
   ]
  },
  {
   "cell_type": "markdown",
   "id": "dc88aee7",
   "metadata": {},
   "source": [
    " "
   ]
  },
  {
   "cell_type": "markdown",
   "id": "137287b2",
   "metadata": {},
   "source": [
    " "
   ]
  },
  {
   "cell_type": "markdown",
   "id": "2a21a08e",
   "metadata": {},
   "source": [
    "### FEATURES DISTRIBUTIONS - Columns V1 - V28"
   ]
  },
  {
   "cell_type": "code",
   "execution_count": 12,
   "id": "11828d38",
   "metadata": {
    "scrolled": false
   },
   "outputs": [
    {
     "data": {
      "text/plain": [
       "<seaborn.axisgrid.FacetGrid at 0x1d3770f9fd0>"
      ]
     },
     "execution_count": 12,
     "metadata": {},
     "output_type": "execute_result"
    },
    {
     "data": {
      "image/png": "[encoded data removed]",
      "text/plain": [
       "<Figure size 1440x2520 with 28 Axes>"
      ]
     },
     "metadata": {
      "needs_background": "light"
     },
     "output_type": "display_data"
    }
   ],
   "source": [
    "g = sns.FacetGrid(X.melt(), col='variable', col_wrap=4, sharex=False, sharey=False, height=5)\n",
    "g.map(sns.histplot, 'value', bins=30)"
   ]
  },
  {
   "cell_type": "code",
   "execution_count": null,
   "id": "c64fb30c",
   "metadata": {},
   "outputs": [],
   "source": []
  },
  {
   "cell_type": "code",
   "execution_count": 13,
   "id": "ab360a3e",
   "metadata": {},
   "outputs": [],
   "source": [
    "def features_iv():\n",
    "    con1 =  pd.DataFrame()\n",
    "    con2 =  pd.DataFrame()\n",
    "    for i in list_features:\n",
    "        a = dataset[i].values\n",
    "        b = dataset['Class']\n",
    "        \n",
    "        optc = OptimalBinning(name=i,solver=\"cp\",monotonic_trend=\"auto\", min_prebin_size=0.001)\n",
    "        optc.fit(a, b)\n",
    "        binning_tables = optc.binning_table\n",
    "        c1 = binning_tables.build()\n",
    "        c1['column_name'] = i\n",
    "        c1['pct_non_event'] = c1['Non-event']/c1['Non-event'].sum()\n",
    "        c1['pct_event'] = c1['Event']/c1['Event'].sum()\n",
    "        #c1['overall_iv'] = c1['IV'].sum()\n",
    "        c1 = c1[['column_name', 'Bin', 'Count' ,'Non-event', 'Event', 'pct_non_event','pct_event','WoE' ,'IV']]\n",
    "        con1 = pd.concat([con1,c1]).round(3)\n",
    "        con1 = con1.astype(\"str\")\n",
    "        #con2 = con1[['column_name','overall_iv']].drop_duplicates()\n",
    "    return con1, con2\n",
    "\n",
    "c1, c2 = features_iv()"
   ]
  },
  {
   "cell_type": "code",
   "execution_count": 14,
   "id": "5c042154",
   "metadata": {},
   "outputs": [
    {
     "data": {
      "text/html": [
       "<div>\n",
       "<style scoped>\n",
       "    .dataframe tbody tr th:only-of-type {\n",
       "        vertical-align: middle;\n",
       "    }\n",
       "\n",
       "    .dataframe tbody tr th {\n",
       "        vertical-align: top;\n",
       "    }\n",
       "\n",
       "    .dataframe thead th {\n",
       "        text-align: right;\n",
       "    }\n",
       "</style>\n",
       "<table border=\"1\" class=\"dataframe\">\n",
       "  <thead>\n",
       "    <tr style=\"text-align: right;\">\n",
       "      <th></th>\n",
       "      <th>column_name</th>\n",
       "      <th>Bin</th>\n",
       "      <th>Count</th>\n",
       "      <th>Non-event</th>\n",
       "      <th>Fraudulent</th>\n",
       "      <th>pct_non-fraudulent</th>\n",
       "      <th>pct_fraudulent</th>\n",
       "      <th>WoE</th>\n",
       "      <th>IV</th>\n",
       "    </tr>\n",
       "  </thead>\n",
       "  <tbody>\n",
       "    <tr>\n",
       "      <th>0</th>\n",
       "      <td>V1</td>\n",
       "      <td>(-inf, -12.83)</td>\n",
       "      <td>508</td>\n",
       "      <td>440</td>\n",
       "      <td>68</td>\n",
       "      <td>0.001</td>\n",
       "      <td>0.069</td>\n",
       "      <td>-4.492092319186542</td>\n",
       "      <td>0.614</td>\n",
       "    </tr>\n",
       "    <tr>\n",
       "      <th>1</th>\n",
       "      <td>V1</td>\n",
       "      <td>[-12.83, -10.28)</td>\n",
       "      <td>431</td>\n",
       "      <td>414</td>\n",
       "      <td>17</td>\n",
       "      <td>0.001</td>\n",
       "      <td>0.017</td>\n",
       "      <td>-3.1667067111536435</td>\n",
       "      <td>0.105</td>\n",
       "    </tr>\n",
       "    <tr>\n",
       "      <th>2</th>\n",
       "      <td>V1</td>\n",
       "      <td>[-10.28, -6.62)</td>\n",
       "      <td>1864</td>\n",
       "      <td>1833</td>\n",
       "      <td>31</td>\n",
       "      <td>0.003</td>\n",
       "      <td>0.032</td>\n",
       "      <td>-2.2796372975681836</td>\n",
       "      <td>0.129</td>\n",
       "    </tr>\n",
       "    <tr>\n",
       "      <th>3</th>\n",
       "      <td>V1</td>\n",
       "      <td>[-6.62, -5.19)</td>\n",
       "      <td>2020</td>\n",
       "      <td>1988</td>\n",
       "      <td>32</td>\n",
       "      <td>0.003</td>\n",
       "      <td>0.033</td>\n",
       "      <td>-2.2302108565059493</td>\n",
       "      <td>0.129</td>\n",
       "    </tr>\n",
       "    <tr>\n",
       "      <th>4</th>\n",
       "      <td>V1</td>\n",
       "      <td>[-5.19, -4.60)</td>\n",
       "      <td>1316</td>\n",
       "      <td>1299</td>\n",
       "      <td>17</td>\n",
       "      <td>0.002</td>\n",
       "      <td>0.017</td>\n",
       "      <td>-2.0232226683083585</td>\n",
       "      <td>0.061</td>\n",
       "    </tr>\n",
       "    <tr>\n",
       "      <th>...</th>\n",
       "      <td>...</td>\n",
       "      <td>...</td>\n",
       "      <td>...</td>\n",
       "      <td>...</td>\n",
       "      <td>...</td>\n",
       "      <td>...</td>\n",
       "      <td>...</td>\n",
       "      <td>...</td>\n",
       "      <td>...</td>\n",
       "    </tr>\n",
       "    <tr>\n",
       "      <th>4</th>\n",
       "      <td>V28</td>\n",
       "      <td>[0.36, 0.66)</td>\n",
       "      <td>4195</td>\n",
       "      <td>4106</td>\n",
       "      <td>89</td>\n",
       "      <td>0.0072208641823329756</td>\n",
       "      <td>0.09044715447154472</td>\n",
       "      <td>-2.527791113076003</td>\n",
       "      <td>0.4207573539347062</td>\n",
       "    </tr>\n",
       "    <tr>\n",
       "      <th>5</th>\n",
       "      <td>V28</td>\n",
       "      <td>[0.66, inf)</td>\n",
       "      <td>2022</td>\n",
       "      <td>1972</td>\n",
       "      <td>50</td>\n",
       "      <td>0.003467984453862793</td>\n",
       "      <td>0.0508130081300813</td>\n",
       "      <td>-2.6845788111883073</td>\n",
       "      <td>0.25420289475276986</td>\n",
       "    </tr>\n",
       "    <tr>\n",
       "      <th>6</th>\n",
       "      <td>V28</td>\n",
       "      <td>Special</td>\n",
       "      <td>0</td>\n",
       "      <td>0</td>\n",
       "      <td>0</td>\n",
       "      <td>0.0</td>\n",
       "      <td>0.0</td>\n",
       "      <td>0.0</td>\n",
       "      <td>0.0</td>\n",
       "    </tr>\n",
       "    <tr>\n",
       "      <th>7</th>\n",
       "      <td>V28</td>\n",
       "      <td>Missing</td>\n",
       "      <td>0</td>\n",
       "      <td>0</td>\n",
       "      <td>0</td>\n",
       "      <td>0.0</td>\n",
       "      <td>0.0</td>\n",
       "      <td>0.0</td>\n",
       "      <td>0.0</td>\n",
       "    </tr>\n",
       "    <tr>\n",
       "      <th>Totals</th>\n",
       "      <td>V28</td>\n",
       "      <td></td>\n",
       "      <td>284807</td>\n",
       "      <td>284315</td>\n",
       "      <td>492</td>\n",
       "      <td>0.5</td>\n",
       "      <td>0.5</td>\n",
       "      <td></td>\n",
       "      <td>1.0259804043072283</td>\n",
       "    </tr>\n",
       "  </tbody>\n",
       "</table>\n",
       "<p>330 rows × 9 columns</p>\n",
       "</div>"
      ],
      "text/plain": [
       "       column_name               Bin   Count Non-event Fraudulent  \\\n",
       "0               V1    (-inf, -12.83)     508       440         68   \n",
       "1               V1  [-12.83, -10.28)     431       414         17   \n",
       "2               V1   [-10.28, -6.62)    1864      1833         31   \n",
       "3               V1    [-6.62, -5.19)    2020      1988         32   \n",
       "4               V1    [-5.19, -4.60)    1316      1299         17   \n",
       "...            ...               ...     ...       ...        ...   \n",
       "4              V28      [0.36, 0.66)    4195      4106         89   \n",
       "5              V28       [0.66, inf)    2022      1972         50   \n",
       "6              V28           Special       0         0          0   \n",
       "7              V28           Missing       0         0          0   \n",
       "Totals         V28                    284807    284315        492   \n",
       "\n",
       "           pct_non-fraudulent       pct_fraudulent                  WoE  \\\n",
       "0                       0.001                0.069   -4.492092319186542   \n",
       "1                       0.001                0.017  -3.1667067111536435   \n",
       "2                       0.003                0.032  -2.2796372975681836   \n",
       "3                       0.003                0.033  -2.2302108565059493   \n",
       "4                       0.002                0.017  -2.0232226683083585   \n",
       "...                       ...                  ...                  ...   \n",
       "4       0.0072208641823329756  0.09044715447154472   -2.527791113076003   \n",
       "5        0.003467984453862793   0.0508130081300813  -2.6845788111883073   \n",
       "6                         0.0                  0.0                  0.0   \n",
       "7                         0.0                  0.0                  0.0   \n",
       "Totals                    0.5                  0.5                        \n",
       "\n",
       "                         IV  \n",
       "0                     0.614  \n",
       "1                     0.105  \n",
       "2                     0.129  \n",
       "3                     0.129  \n",
       "4                     0.061  \n",
       "...                     ...  \n",
       "4        0.4207573539347062  \n",
       "5       0.25420289475276986  \n",
       "6                       0.0  \n",
       "7                       0.0  \n",
       "Totals   1.0259804043072283  \n",
       "\n",
       "[330 rows x 9 columns]"
      ]
     },
     "metadata": {},
     "output_type": "display_data"
    }
   ],
   "source": [
    "c1 = c1.rename(columns={\"Non_event\":\"Non-fraudulent\",\"Event\":\"Fraudulent\",\"pct_non_event\":\"pct_non-fraudulent\",\"pct_event\":\"pct_fraudulent\"})\n",
    "\n",
    "display(c1)"
   ]
  },
  {
   "cell_type": "code",
   "execution_count": 15,
   "id": "025ad82b",
   "metadata": {},
   "outputs": [
    {
     "name": "stdout",
     "output_type": "stream",
     "text": [
      "<class 'pandas.core.frame.DataFrame'>\n",
      "RangeIndex: 284807 entries, 0 to 284806\n",
      "Data columns (total 28 columns):\n",
      " #   Column  Non-Null Count   Dtype  \n",
      "---  ------  --------------   -----  \n",
      " 0   V1      284807 non-null  float64\n",
      " 1   V2      284807 non-null  float64\n",
      " 2   V3      284807 non-null  float64\n",
      " 3   V4      284807 non-null  float64\n",
      " 4   V5      284807 non-null  float64\n",
      " 5   V6      284807 non-null  float64\n",
      " 6   V7      284807 non-null  float64\n",
      " 7   V8      284807 non-null  float64\n",
      " 8   V9      284807 non-null  float64\n",
      " 9   V10     284807 non-null  float64\n",
      " 10  V11     284807 non-null  float64\n",
      " 11  V12     284807 non-null  float64\n",
      " 12  V13     284807 non-null  float64\n",
      " 13  V14     284807 non-null  float64\n",
      " 14  V15     284807 non-null  float64\n",
      " 15  V16     284807 non-null  float64\n",
      " 16  V17     284807 non-null  float64\n",
      " 17  V18     284807 non-null  float64\n",
      " 18  V19     284807 non-null  float64\n",
      " 19  V20     284807 non-null  float64\n",
      " 20  V21     284807 non-null  float64\n",
      " 21  V22     284807 non-null  float64\n",
      " 22  V23     284807 non-null  float64\n",
      " 23  V24     284807 non-null  float64\n",
      " 24  V25     284807 non-null  float64\n",
      " 25  V26     284807 non-null  float64\n",
      " 26  V27     284807 non-null  float64\n",
      " 27  V28     284807 non-null  float64\n",
      "dtypes: float64(28)\n",
      "memory usage: 60.8 MB\n"
     ]
    },
    {
     "data": {
      "text/plain": [
       "None"
      ]
     },
     "metadata": {},
     "output_type": "display_data"
    }
   ],
   "source": [
    "display(X.info())"
   ]
  },
  {
   "cell_type": "code",
   "execution_count": 16,
   "id": "e9280ae1",
   "metadata": {},
   "outputs": [
    {
     "data": {
      "text/html": [
       "<div>\n",
       "<style scoped>\n",
       "    .dataframe tbody tr th:only-of-type {\n",
       "        vertical-align: middle;\n",
       "    }\n",
       "\n",
       "    .dataframe tbody tr th {\n",
       "        vertical-align: top;\n",
       "    }\n",
       "\n",
       "    .dataframe thead th {\n",
       "        text-align: right;\n",
       "    }\n",
       "</style>\n",
       "<table border=\"1\" class=\"dataframe\">\n",
       "  <thead>\n",
       "    <tr style=\"text-align: right;\">\n",
       "      <th></th>\n",
       "      <th>V1</th>\n",
       "      <th>V2</th>\n",
       "      <th>V3</th>\n",
       "      <th>V4</th>\n",
       "      <th>V5</th>\n",
       "      <th>V6</th>\n",
       "      <th>V7</th>\n",
       "      <th>V8</th>\n",
       "      <th>V9</th>\n",
       "      <th>V10</th>\n",
       "      <th>...</th>\n",
       "      <th>V19</th>\n",
       "      <th>V20</th>\n",
       "      <th>V21</th>\n",
       "      <th>V22</th>\n",
       "      <th>V23</th>\n",
       "      <th>V24</th>\n",
       "      <th>V25</th>\n",
       "      <th>V26</th>\n",
       "      <th>V27</th>\n",
       "      <th>V28</th>\n",
       "    </tr>\n",
       "  </thead>\n",
       "  <tbody>\n",
       "    <tr>\n",
       "      <th>count</th>\n",
       "      <td>2.848070e+05</td>\n",
       "      <td>2.848070e+05</td>\n",
       "      <td>2.848070e+05</td>\n",
       "      <td>2.848070e+05</td>\n",
       "      <td>2.848070e+05</td>\n",
       "      <td>2.848070e+05</td>\n",
       "      <td>2.848070e+05</td>\n",
       "      <td>2.848070e+05</td>\n",
       "      <td>2.848070e+05</td>\n",
       "      <td>2.848070e+05</td>\n",
       "      <td>...</td>\n",
       "      <td>2.848070e+05</td>\n",
       "      <td>2.848070e+05</td>\n",
       "      <td>2.848070e+05</td>\n",
       "      <td>2.848070e+05</td>\n",
       "      <td>2.848070e+05</td>\n",
       "      <td>2.848070e+05</td>\n",
       "      <td>2.848070e+05</td>\n",
       "      <td>2.848070e+05</td>\n",
       "      <td>2.848070e+05</td>\n",
       "      <td>2.848070e+05</td>\n",
       "    </tr>\n",
       "    <tr>\n",
       "      <th>mean</th>\n",
       "      <td>3.918649e-15</td>\n",
       "      <td>5.682686e-16</td>\n",
       "      <td>-8.761736e-15</td>\n",
       "      <td>2.811118e-15</td>\n",
       "      <td>-1.552103e-15</td>\n",
       "      <td>2.040130e-15</td>\n",
       "      <td>-1.698953e-15</td>\n",
       "      <td>-1.893285e-16</td>\n",
       "      <td>-3.147640e-15</td>\n",
       "      <td>1.772925e-15</td>\n",
       "      <td>...</td>\n",
       "      <td>9.019919e-16</td>\n",
       "      <td>5.126845e-16</td>\n",
       "      <td>1.473120e-16</td>\n",
       "      <td>8.042109e-16</td>\n",
       "      <td>5.282512e-16</td>\n",
       "      <td>4.456271e-15</td>\n",
       "      <td>1.426896e-15</td>\n",
       "      <td>1.701640e-15</td>\n",
       "      <td>-3.662252e-16</td>\n",
       "      <td>-1.217809e-16</td>\n",
       "    </tr>\n",
       "    <tr>\n",
       "      <th>std</th>\n",
       "      <td>1.958696e+00</td>\n",
       "      <td>1.651309e+00</td>\n",
       "      <td>1.516255e+00</td>\n",
       "      <td>1.415869e+00</td>\n",
       "      <td>1.380247e+00</td>\n",
       "      <td>1.332271e+00</td>\n",
       "      <td>1.237094e+00</td>\n",
       "      <td>1.194353e+00</td>\n",
       "      <td>1.098632e+00</td>\n",
       "      <td>1.088850e+00</td>\n",
       "      <td>...</td>\n",
       "      <td>8.140405e-01</td>\n",
       "      <td>7.709250e-01</td>\n",
       "      <td>7.345240e-01</td>\n",
       "      <td>7.257016e-01</td>\n",
       "      <td>6.244603e-01</td>\n",
       "      <td>6.056471e-01</td>\n",
       "      <td>5.212781e-01</td>\n",
       "      <td>4.822270e-01</td>\n",
       "      <td>4.036325e-01</td>\n",
       "      <td>3.300833e-01</td>\n",
       "    </tr>\n",
       "    <tr>\n",
       "      <th>min</th>\n",
       "      <td>-5.640751e+01</td>\n",
       "      <td>-7.271573e+01</td>\n",
       "      <td>-4.832559e+01</td>\n",
       "      <td>-5.683171e+00</td>\n",
       "      <td>-1.137433e+02</td>\n",
       "      <td>-2.616051e+01</td>\n",
       "      <td>-4.355724e+01</td>\n",
       "      <td>-7.321672e+01</td>\n",
       "      <td>-1.343407e+01</td>\n",
       "      <td>-2.458826e+01</td>\n",
       "      <td>...</td>\n",
       "      <td>-7.213527e+00</td>\n",
       "      <td>-5.449772e+01</td>\n",
       "      <td>-3.483038e+01</td>\n",
       "      <td>-1.093314e+01</td>\n",
       "      <td>-4.480774e+01</td>\n",
       "      <td>-2.836627e+00</td>\n",
       "      <td>-1.029540e+01</td>\n",
       "      <td>-2.604551e+00</td>\n",
       "      <td>-2.256568e+01</td>\n",
       "      <td>-1.543008e+01</td>\n",
       "    </tr>\n",
       "    <tr>\n",
       "      <th>25%</th>\n",
       "      <td>-9.203734e-01</td>\n",
       "      <td>-5.985499e-01</td>\n",
       "      <td>-8.903648e-01</td>\n",
       "      <td>-8.486401e-01</td>\n",
       "      <td>-6.915971e-01</td>\n",
       "      <td>-7.682956e-01</td>\n",
       "      <td>-5.540759e-01</td>\n",
       "      <td>-2.086297e-01</td>\n",
       "      <td>-6.430976e-01</td>\n",
       "      <td>-5.354257e-01</td>\n",
       "      <td>...</td>\n",
       "      <td>-4.562989e-01</td>\n",
       "      <td>-2.117214e-01</td>\n",
       "      <td>-2.283949e-01</td>\n",
       "      <td>-5.423504e-01</td>\n",
       "      <td>-1.618463e-01</td>\n",
       "      <td>-3.545861e-01</td>\n",
       "      <td>-3.171451e-01</td>\n",
       "      <td>-3.269839e-01</td>\n",
       "      <td>-7.083953e-02</td>\n",
       "      <td>-5.295979e-02</td>\n",
       "    </tr>\n",
       "    <tr>\n",
       "      <th>50%</th>\n",
       "      <td>1.810880e-02</td>\n",
       "      <td>6.548556e-02</td>\n",
       "      <td>1.798463e-01</td>\n",
       "      <td>-1.984653e-02</td>\n",
       "      <td>-5.433583e-02</td>\n",
       "      <td>-2.741871e-01</td>\n",
       "      <td>4.010308e-02</td>\n",
       "      <td>2.235804e-02</td>\n",
       "      <td>-5.142873e-02</td>\n",
       "      <td>-9.291738e-02</td>\n",
       "      <td>...</td>\n",
       "      <td>3.734823e-03</td>\n",
       "      <td>-6.248109e-02</td>\n",
       "      <td>-2.945017e-02</td>\n",
       "      <td>6.781943e-03</td>\n",
       "      <td>-1.119293e-02</td>\n",
       "      <td>4.097606e-02</td>\n",
       "      <td>1.659350e-02</td>\n",
       "      <td>-5.213911e-02</td>\n",
       "      <td>1.342146e-03</td>\n",
       "      <td>1.124383e-02</td>\n",
       "    </tr>\n",
       "    <tr>\n",
       "      <th>75%</th>\n",
       "      <td>1.315642e+00</td>\n",
       "      <td>8.037239e-01</td>\n",
       "      <td>1.027196e+00</td>\n",
       "      <td>7.433413e-01</td>\n",
       "      <td>6.119264e-01</td>\n",
       "      <td>3.985649e-01</td>\n",
       "      <td>5.704361e-01</td>\n",
       "      <td>3.273459e-01</td>\n",
       "      <td>5.971390e-01</td>\n",
       "      <td>4.539234e-01</td>\n",
       "      <td>...</td>\n",
       "      <td>4.589494e-01</td>\n",
       "      <td>1.330408e-01</td>\n",
       "      <td>1.863772e-01</td>\n",
       "      <td>5.285536e-01</td>\n",
       "      <td>1.476421e-01</td>\n",
       "      <td>4.395266e-01</td>\n",
       "      <td>3.507156e-01</td>\n",
       "      <td>2.409522e-01</td>\n",
       "      <td>9.104512e-02</td>\n",
       "      <td>7.827995e-02</td>\n",
       "    </tr>\n",
       "    <tr>\n",
       "      <th>max</th>\n",
       "      <td>2.454930e+00</td>\n",
       "      <td>2.205773e+01</td>\n",
       "      <td>9.382558e+00</td>\n",
       "      <td>1.687534e+01</td>\n",
       "      <td>3.480167e+01</td>\n",
       "      <td>7.330163e+01</td>\n",
       "      <td>1.205895e+02</td>\n",
       "      <td>2.000721e+01</td>\n",
       "      <td>1.559499e+01</td>\n",
       "      <td>2.374514e+01</td>\n",
       "      <td>...</td>\n",
       "      <td>5.591971e+00</td>\n",
       "      <td>3.942090e+01</td>\n",
       "      <td>2.720284e+01</td>\n",
       "      <td>1.050309e+01</td>\n",
       "      <td>2.252841e+01</td>\n",
       "      <td>4.584549e+00</td>\n",
       "      <td>7.519589e+00</td>\n",
       "      <td>3.517346e+00</td>\n",
       "      <td>3.161220e+01</td>\n",
       "      <td>3.384781e+01</td>\n",
       "    </tr>\n",
       "  </tbody>\n",
       "</table>\n",
       "<p>8 rows × 28 columns</p>\n",
       "</div>"
      ],
      "text/plain": [
       "                 V1            V2            V3            V4            V5  \\\n",
       "count  2.848070e+05  2.848070e+05  2.848070e+05  2.848070e+05  2.848070e+05   \n",
       "mean   3.918649e-15  5.682686e-16 -8.761736e-15  2.811118e-15 -1.552103e-15   \n",
       "std    1.958696e+00  1.651309e+00  1.516255e+00  1.415869e+00  1.380247e+00   \n",
       "min   -5.640751e+01 -7.271573e+01 -4.832559e+01 -5.683171e+00 -1.137433e+02   \n",
       "25%   -9.203734e-01 -5.985499e-01 -8.903648e-01 -8.486401e-01 -6.915971e-01   \n",
       "50%    1.810880e-02  6.548556e-02  1.798463e-01 -1.984653e-02 -5.433583e-02   \n",
       "75%    1.315642e+00  8.037239e-01  1.027196e+00  7.433413e-01  6.119264e-01   \n",
       "max    2.454930e+00  2.205773e+01  9.382558e+00  1.687534e+01  3.480167e+01   \n",
       "\n",
       "                 V6            V7            V8            V9           V10  \\\n",
       "count  2.848070e+05  2.848070e+05  2.848070e+05  2.848070e+05  2.848070e+05   \n",
       "mean   2.040130e-15 -1.698953e-15 -1.893285e-16 -3.147640e-15  1.772925e-15   \n",
       "std    1.332271e+00  1.237094e+00  1.194353e+00  1.098632e+00  1.088850e+00   \n",
       "min   -2.616051e+01 -4.355724e+01 -7.321672e+01 -1.343407e+01 -2.458826e+01   \n",
       "25%   -7.682956e-01 -5.540759e-01 -2.086297e-01 -6.430976e-01 -5.354257e-01   \n",
       "50%   -2.741871e-01  4.010308e-02  2.235804e-02 -5.142873e-02 -9.291738e-02   \n",
       "75%    3.985649e-01  5.704361e-01  3.273459e-01  5.971390e-01  4.539234e-01   \n",
       "max    7.330163e+01  1.205895e+02  2.000721e+01  1.559499e+01  2.374514e+01   \n",
       "\n",
       "       ...           V19           V20           V21           V22  \\\n",
       "count  ...  2.848070e+05  2.848070e+05  2.848070e+05  2.848070e+05   \n",
       "mean   ...  9.019919e-16  5.126845e-16  1.473120e-16  8.042109e-16   \n",
       "std    ...  8.140405e-01  7.709250e-01  7.345240e-01  7.257016e-01   \n",
       "min    ... -7.213527e+00 -5.449772e+01 -3.483038e+01 -1.093314e+01   \n",
       "25%    ... -4.562989e-01 -2.117214e-01 -2.283949e-01 -5.423504e-01   \n",
       "50%    ...  3.734823e-03 -6.248109e-02 -2.945017e-02  6.781943e-03   \n",
       "75%    ...  4.589494e-01  1.330408e-01  1.863772e-01  5.285536e-01   \n",
       "max    ...  5.591971e+00  3.942090e+01  2.720284e+01  1.050309e+01   \n",
       "\n",
       "                V23           V24           V25           V26           V27  \\\n",
       "count  2.848070e+05  2.848070e+05  2.848070e+05  2.848070e+05  2.848070e+05   \n",
       "mean   5.282512e-16  4.456271e-15  1.426896e-15  1.701640e-15 -3.662252e-16   \n",
       "std    6.244603e-01  6.056471e-01  5.212781e-01  4.822270e-01  4.036325e-01   \n",
       "min   -4.480774e+01 -2.836627e+00 -1.029540e+01 -2.604551e+00 -2.256568e+01   \n",
       "25%   -1.618463e-01 -3.545861e-01 -3.171451e-01 -3.269839e-01 -7.083953e-02   \n",
       "50%   -1.119293e-02  4.097606e-02  1.659350e-02 -5.213911e-02  1.342146e-03   \n",
       "75%    1.476421e-01  4.395266e-01  3.507156e-01  2.409522e-01  9.104512e-02   \n",
       "max    2.252841e+01  4.584549e+00  7.519589e+00  3.517346e+00  3.161220e+01   \n",
       "\n",
       "                V28  \n",
       "count  2.848070e+05  \n",
       "mean  -1.217809e-16  \n",
       "std    3.300833e-01  \n",
       "min   -1.543008e+01  \n",
       "25%   -5.295979e-02  \n",
       "50%    1.124383e-02  \n",
       "75%    7.827995e-02  \n",
       "max    3.384781e+01  \n",
       "\n",
       "[8 rows x 28 columns]"
      ]
     },
     "execution_count": 16,
     "metadata": {},
     "output_type": "execute_result"
    }
   ],
   "source": [
    "\n",
    "b = X.describe()\n",
    "b"
   ]
  },
  {
   "cell_type": "code",
   "execution_count": 17,
   "id": "c652a5fd",
   "metadata": {},
   "outputs": [
    {
     "data": {
      "text/html": [
       "<div>\n",
       "<style scoped>\n",
       "    .dataframe tbody tr th:only-of-type {\n",
       "        vertical-align: middle;\n",
       "    }\n",
       "\n",
       "    .dataframe tbody tr th {\n",
       "        vertical-align: top;\n",
       "    }\n",
       "\n",
       "    .dataframe thead th {\n",
       "        text-align: right;\n",
       "    }\n",
       "</style>\n",
       "<table border=\"1\" class=\"dataframe\">\n",
       "  <thead>\n",
       "    <tr style=\"text-align: right;\">\n",
       "      <th></th>\n",
       "      <th>count</th>\n",
       "      <th>mean</th>\n",
       "      <th>std</th>\n",
       "      <th>min</th>\n",
       "      <th>25%</th>\n",
       "      <th>50%</th>\n",
       "      <th>75%</th>\n",
       "      <th>max</th>\n",
       "    </tr>\n",
       "  </thead>\n",
       "  <tbody>\n",
       "    <tr>\n",
       "      <th>V1</th>\n",
       "      <td>284807.0000000000000000</td>\n",
       "      <td>0.0000000000000039</td>\n",
       "      <td>1.9586958038574793</td>\n",
       "      <td>-56.4075096313289990</td>\n",
       "      <td>-0.9203733843903220</td>\n",
       "      <td>0.0181087991615309</td>\n",
       "      <td>1.3156416938778650</td>\n",
       "      <td>2.4549299912112099</td>\n",
       "    </tr>\n",
       "    <tr>\n",
       "      <th>V2</th>\n",
       "      <td>284807.0000000000000000</td>\n",
       "      <td>0.0000000000000006</td>\n",
       "      <td>1.6513085794769742</td>\n",
       "      <td>-72.7157275629302973</td>\n",
       "      <td>-0.5985499134649160</td>\n",
       "      <td>0.0654855563960555</td>\n",
       "      <td>0.8037238712400945</td>\n",
       "      <td>22.0577289904909009</td>\n",
       "    </tr>\n",
       "    <tr>\n",
       "      <th>V3</th>\n",
       "      <td>284807.0000000000000000</td>\n",
       "      <td>-0.0000000000000088</td>\n",
       "      <td>1.5162550051777681</td>\n",
       "      <td>-48.3255893623953980</td>\n",
       "      <td>-0.8903648381551406</td>\n",
       "      <td>0.1798463435635440</td>\n",
       "      <td>1.0271955424655550</td>\n",
       "      <td>9.3825584328211402</td>\n",
       "    </tr>\n",
       "    <tr>\n",
       "      <th>V4</th>\n",
       "      <td>284807.0000000000000000</td>\n",
       "      <td>0.0000000000000028</td>\n",
       "      <td>1.4158685749409234</td>\n",
       "      <td>-5.6831711981699504</td>\n",
       "      <td>-0.8486401163312730</td>\n",
       "      <td>-0.0198465294811989</td>\n",
       "      <td>0.7433412894685876</td>\n",
       "      <td>16.8753440335975000</td>\n",
       "    </tr>\n",
       "    <tr>\n",
       "      <th>V5</th>\n",
       "      <td>284807.0000000000000000</td>\n",
       "      <td>-0.0000000000000016</td>\n",
       "      <td>1.3802467340314386</td>\n",
       "      <td>-113.7433067111460048</td>\n",
       "      <td>-0.6915970708876575</td>\n",
       "      <td>-0.0543358267364858</td>\n",
       "      <td>0.6119264397351930</td>\n",
       "      <td>34.8016658766686007</td>\n",
       "    </tr>\n",
       "    <tr>\n",
       "      <th>V6</th>\n",
       "      <td>284807.0000000000000000</td>\n",
       "      <td>0.0000000000000020</td>\n",
       "      <td>1.3322710897575674</td>\n",
       "      <td>-26.1605059358433003</td>\n",
       "      <td>-0.7682956084604891</td>\n",
       "      <td>-0.2741870765066510</td>\n",
       "      <td>0.3985648963561050</td>\n",
       "      <td>73.3016255459645976</td>\n",
       "    </tr>\n",
       "    <tr>\n",
       "      <th>V7</th>\n",
       "      <td>284807.0000000000000000</td>\n",
       "      <td>-0.0000000000000017</td>\n",
       "      <td>1.2370935981826603</td>\n",
       "      <td>-43.5572415712451004</td>\n",
       "      <td>-0.5540758790365226</td>\n",
       "      <td>0.0401030827945351</td>\n",
       "      <td>0.5704360728775986</td>\n",
       "      <td>120.5894939452380044</td>\n",
       "    </tr>\n",
       "    <tr>\n",
       "      <th>V8</th>\n",
       "      <td>284807.0000000000000000</td>\n",
       "      <td>-0.0000000000000002</td>\n",
       "      <td>1.1943529026692030</td>\n",
       "      <td>-73.2167184552673973</td>\n",
       "      <td>-0.2086297440394665</td>\n",
       "      <td>0.0223580364366631</td>\n",
       "      <td>0.3273458619234490</td>\n",
       "      <td>20.0072083651213006</td>\n",
       "    </tr>\n",
       "    <tr>\n",
       "      <th>V9</th>\n",
       "      <td>284807.0000000000000000</td>\n",
       "      <td>-0.0000000000000031</td>\n",
       "      <td>1.0986320892243226</td>\n",
       "      <td>-13.4340663182300997</td>\n",
       "      <td>-0.6430975702665915</td>\n",
       "      <td>-0.0514287315503490</td>\n",
       "      <td>0.5971390302822686</td>\n",
       "      <td>15.5949946071278003</td>\n",
       "    </tr>\n",
       "    <tr>\n",
       "      <th>V10</th>\n",
       "      <td>284807.0000000000000000</td>\n",
       "      <td>0.0000000000000018</td>\n",
       "      <td>1.0888497654025178</td>\n",
       "      <td>-24.5882624372475007</td>\n",
       "      <td>-0.5354257264933235</td>\n",
       "      <td>-0.0929173835961975</td>\n",
       "      <td>0.4539234451395070</td>\n",
       "      <td>23.7451361206545002</td>\n",
       "    </tr>\n",
       "    <tr>\n",
       "      <th>V11</th>\n",
       "      <td>284807.0000000000000000</td>\n",
       "      <td>0.0000000000000009</td>\n",
       "      <td>1.0207130277115524</td>\n",
       "      <td>-4.7974734647975703</td>\n",
       "      <td>-0.7624941955129775</td>\n",
       "      <td>-0.0327573544990070</td>\n",
       "      <td>0.7395934073216059</td>\n",
       "      <td>12.0189131816199009</td>\n",
       "    </tr>\n",
       "    <tr>\n",
       "      <th>V12</th>\n",
       "      <td>284807.0000000000000000</td>\n",
       "      <td>-0.0000000000000018</td>\n",
       "      <td>0.9992013895301388</td>\n",
       "      <td>-18.6837146333443016</td>\n",
       "      <td>-0.4055714854404135</td>\n",
       "      <td>0.1400325882913320</td>\n",
       "      <td>0.6182380329461360</td>\n",
       "      <td>7.8483920756446004</td>\n",
       "    </tr>\n",
       "    <tr>\n",
       "      <th>V13</th>\n",
       "      <td>284807.0000000000000000</td>\n",
       "      <td>0.0000000000000017</td>\n",
       "      <td>0.9952742301251488</td>\n",
       "      <td>-5.7918812063208396</td>\n",
       "      <td>-0.6485392991145684</td>\n",
       "      <td>-0.0135680567852071</td>\n",
       "      <td>0.6625049594399740</td>\n",
       "      <td>7.1268829585937601</td>\n",
       "    </tr>\n",
       "    <tr>\n",
       "      <th>V14</th>\n",
       "      <td>284807.0000000000000000</td>\n",
       "      <td>0.0000000000000015</td>\n",
       "      <td>0.9585956112570686</td>\n",
       "      <td>-19.2143254902613982</td>\n",
       "      <td>-0.4255740124549935</td>\n",
       "      <td>0.0506013193100486</td>\n",
       "      <td>0.4931498492181490</td>\n",
       "      <td>10.5267660517846995</td>\n",
       "    </tr>\n",
       "    <tr>\n",
       "      <th>V15</th>\n",
       "      <td>284807.0000000000000000</td>\n",
       "      <td>0.0000000000000035</td>\n",
       "      <td>0.9153160116104295</td>\n",
       "      <td>-4.4989446767662100</td>\n",
       "      <td>-0.5828842791574560</td>\n",
       "      <td>0.0480715497626106</td>\n",
       "      <td>0.6488208063171580</td>\n",
       "      <td>8.8777415977427694</td>\n",
       "    </tr>\n",
       "    <tr>\n",
       "      <th>V16</th>\n",
       "      <td>284807.0000000000000000</td>\n",
       "      <td>0.0000000000000014</td>\n",
       "      <td>0.8762528873883740</td>\n",
       "      <td>-14.1298545174931007</td>\n",
       "      <td>-0.4680367667128980</td>\n",
       "      <td>0.0664133205843014</td>\n",
       "      <td>0.5232963124753440</td>\n",
       "      <td>17.3151115176277983</td>\n",
       "    </tr>\n",
       "    <tr>\n",
       "      <th>V17</th>\n",
       "      <td>284807.0000000000000000</td>\n",
       "      <td>-0.0000000000000007</td>\n",
       "      <td>0.8493370636743797</td>\n",
       "      <td>-25.1627993693248015</td>\n",
       "      <td>-0.4837483137070480</td>\n",
       "      <td>-0.0656757538072252</td>\n",
       "      <td>0.3996749826503845</td>\n",
       "      <td>9.2535262504728504</td>\n",
       "    </tr>\n",
       "    <tr>\n",
       "      <th>V18</th>\n",
       "      <td>284807.0000000000000000</td>\n",
       "      <td>0.0000000000000004</td>\n",
       "      <td>0.8381762095288368</td>\n",
       "      <td>-9.4987459210467708</td>\n",
       "      <td>-0.4988497986650410</td>\n",
       "      <td>-0.0036363123546992</td>\n",
       "      <td>0.5008067468872159</td>\n",
       "      <td>5.0410691854118399</td>\n",
       "    </tr>\n",
       "    <tr>\n",
       "      <th>V19</th>\n",
       "      <td>284807.0000000000000000</td>\n",
       "      <td>0.0000000000000009</td>\n",
       "      <td>0.8140405007685731</td>\n",
       "      <td>-7.2135274301775896</td>\n",
       "      <td>-0.4562989187444475</td>\n",
       "      <td>0.0037348229952574</td>\n",
       "      <td>0.4589493557626790</td>\n",
       "      <td>5.5919714273355803</td>\n",
       "    </tr>\n",
       "    <tr>\n",
       "      <th>V20</th>\n",
       "      <td>284807.0000000000000000</td>\n",
       "      <td>0.0000000000000005</td>\n",
       "      <td>0.7709250248871141</td>\n",
       "      <td>-54.4977204945660034</td>\n",
       "      <td>-0.2117213646742470</td>\n",
       "      <td>-0.0624810924603664</td>\n",
       "      <td>0.1330408409942945</td>\n",
       "      <td>39.4209042482198981</td>\n",
       "    </tr>\n",
       "    <tr>\n",
       "      <th>V21</th>\n",
       "      <td>284807.0000000000000000</td>\n",
       "      <td>0.0000000000000001</td>\n",
       "      <td>0.7345240143713043</td>\n",
       "      <td>-34.8303821448145996</td>\n",
       "      <td>-0.2283949467785170</td>\n",
       "      <td>-0.0294501676953819</td>\n",
       "      <td>0.1863772033785755</td>\n",
       "      <td>27.2028391573153989</td>\n",
       "    </tr>\n",
       "    <tr>\n",
       "      <th>V22</th>\n",
       "      <td>284807.0000000000000000</td>\n",
       "      <td>0.0000000000000008</td>\n",
       "      <td>0.7257015604409169</td>\n",
       "      <td>-10.9331436976549998</td>\n",
       "      <td>-0.5423503726606616</td>\n",
       "      <td>0.0067819425282695</td>\n",
       "      <td>0.5285536353339865</td>\n",
       "      <td>10.5030900899454007</td>\n",
       "    </tr>\n",
       "    <tr>\n",
       "      <th>V23</th>\n",
       "      <td>284807.0000000000000000</td>\n",
       "      <td>0.0000000000000005</td>\n",
       "      <td>0.6244602955949907</td>\n",
       "      <td>-44.8077352037913030</td>\n",
       "      <td>-0.1618463450148845</td>\n",
       "      <td>-0.0111929302967212</td>\n",
       "      <td>0.1476420638560500</td>\n",
       "      <td>22.5284116897748987</td>\n",
       "    </tr>\n",
       "    <tr>\n",
       "      <th>V24</th>\n",
       "      <td>284807.0000000000000000</td>\n",
       "      <td>0.0000000000000045</td>\n",
       "      <td>0.6056470678271541</td>\n",
       "      <td>-2.8366269187034101</td>\n",
       "      <td>-0.3545861364094985</td>\n",
       "      <td>0.0409760560572798</td>\n",
       "      <td>0.4395266001681860</td>\n",
       "      <td>4.5845491368981701</td>\n",
       "    </tr>\n",
       "    <tr>\n",
       "      <th>V25</th>\n",
       "      <td>284807.0000000000000000</td>\n",
       "      <td>0.0000000000000014</td>\n",
       "      <td>0.5212780705409380</td>\n",
       "      <td>-10.2953970749851003</td>\n",
       "      <td>-0.3171450540652700</td>\n",
       "      <td>0.0165935016367397</td>\n",
       "      <td>0.3507155628673860</td>\n",
       "      <td>7.5195886787091597</td>\n",
       "    </tr>\n",
       "    <tr>\n",
       "      <th>V26</th>\n",
       "      <td>284807.0000000000000000</td>\n",
       "      <td>0.0000000000000017</td>\n",
       "      <td>0.4822270132610549</td>\n",
       "      <td>-2.6045505528081700</td>\n",
       "      <td>-0.3269839258807195</td>\n",
       "      <td>-0.0521391080182019</td>\n",
       "      <td>0.2409521737147555</td>\n",
       "      <td>3.5173456116238002</td>\n",
       "    </tr>\n",
       "    <tr>\n",
       "      <th>V27</th>\n",
       "      <td>284807.0000000000000000</td>\n",
       "      <td>-0.0000000000000004</td>\n",
       "      <td>0.4036324949650267</td>\n",
       "      <td>-22.5656793207826993</td>\n",
       "      <td>-0.0708395293044692</td>\n",
       "      <td>0.0013421459786502</td>\n",
       "      <td>0.0910451196858069</td>\n",
       "      <td>31.6121981061363009</td>\n",
       "    </tr>\n",
       "    <tr>\n",
       "      <th>V28</th>\n",
       "      <td>284807.0000000000000000</td>\n",
       "      <td>-0.0000000000000001</td>\n",
       "      <td>0.3300832641602541</td>\n",
       "      <td>-15.4300839055349002</td>\n",
       "      <td>-0.0529597930169809</td>\n",
       "      <td>0.0112438315649820</td>\n",
       "      <td>0.0782799547578202</td>\n",
       "      <td>33.8478078188830978</td>\n",
       "    </tr>\n",
       "  </tbody>\n",
       "</table>\n",
       "</div>"
      ],
      "text/plain": [
       "                      count                mean                std  \\\n",
       "V1  284807.0000000000000000  0.0000000000000039 1.9586958038574793   \n",
       "V2  284807.0000000000000000  0.0000000000000006 1.6513085794769742   \n",
       "V3  284807.0000000000000000 -0.0000000000000088 1.5162550051777681   \n",
       "V4  284807.0000000000000000  0.0000000000000028 1.4158685749409234   \n",
       "V5  284807.0000000000000000 -0.0000000000000016 1.3802467340314386   \n",
       "V6  284807.0000000000000000  0.0000000000000020 1.3322710897575674   \n",
       "V7  284807.0000000000000000 -0.0000000000000017 1.2370935981826603   \n",
       "V8  284807.0000000000000000 -0.0000000000000002 1.1943529026692030   \n",
       "V9  284807.0000000000000000 -0.0000000000000031 1.0986320892243226   \n",
       "V10 284807.0000000000000000  0.0000000000000018 1.0888497654025178   \n",
       "V11 284807.0000000000000000  0.0000000000000009 1.0207130277115524   \n",
       "V12 284807.0000000000000000 -0.0000000000000018 0.9992013895301388   \n",
       "V13 284807.0000000000000000  0.0000000000000017 0.9952742301251488   \n",
       "V14 284807.0000000000000000  0.0000000000000015 0.9585956112570686   \n",
       "V15 284807.0000000000000000  0.0000000000000035 0.9153160116104295   \n",
       "V16 284807.0000000000000000  0.0000000000000014 0.8762528873883740   \n",
       "V17 284807.0000000000000000 -0.0000000000000007 0.8493370636743797   \n",
       "V18 284807.0000000000000000  0.0000000000000004 0.8381762095288368   \n",
       "V19 284807.0000000000000000  0.0000000000000009 0.8140405007685731   \n",
       "V20 284807.0000000000000000  0.0000000000000005 0.7709250248871141   \n",
       "V21 284807.0000000000000000  0.0000000000000001 0.7345240143713043   \n",
       "V22 284807.0000000000000000  0.0000000000000008 0.7257015604409169   \n",
       "V23 284807.0000000000000000  0.0000000000000005 0.6244602955949907   \n",
       "V24 284807.0000000000000000  0.0000000000000045 0.6056470678271541   \n",
       "V25 284807.0000000000000000  0.0000000000000014 0.5212780705409380   \n",
       "V26 284807.0000000000000000  0.0000000000000017 0.4822270132610549   \n",
       "V27 284807.0000000000000000 -0.0000000000000004 0.4036324949650267   \n",
       "V28 284807.0000000000000000 -0.0000000000000001 0.3300832641602541   \n",
       "\n",
       "                      min                 25%                 50%  \\\n",
       "V1   -56.4075096313289990 -0.9203733843903220  0.0181087991615309   \n",
       "V2   -72.7157275629302973 -0.5985499134649160  0.0654855563960555   \n",
       "V3   -48.3255893623953980 -0.8903648381551406  0.1798463435635440   \n",
       "V4    -5.6831711981699504 -0.8486401163312730 -0.0198465294811989   \n",
       "V5  -113.7433067111460048 -0.6915970708876575 -0.0543358267364858   \n",
       "V6   -26.1605059358433003 -0.7682956084604891 -0.2741870765066510   \n",
       "V7   -43.5572415712451004 -0.5540758790365226  0.0401030827945351   \n",
       "V8   -73.2167184552673973 -0.2086297440394665  0.0223580364366631   \n",
       "V9   -13.4340663182300997 -0.6430975702665915 -0.0514287315503490   \n",
       "V10  -24.5882624372475007 -0.5354257264933235 -0.0929173835961975   \n",
       "V11   -4.7974734647975703 -0.7624941955129775 -0.0327573544990070   \n",
       "V12  -18.6837146333443016 -0.4055714854404135  0.1400325882913320   \n",
       "V13   -5.7918812063208396 -0.6485392991145684 -0.0135680567852071   \n",
       "V14  -19.2143254902613982 -0.4255740124549935  0.0506013193100486   \n",
       "V15   -4.4989446767662100 -0.5828842791574560  0.0480715497626106   \n",
       "V16  -14.1298545174931007 -0.4680367667128980  0.0664133205843014   \n",
       "V17  -25.1627993693248015 -0.4837483137070480 -0.0656757538072252   \n",
       "V18   -9.4987459210467708 -0.4988497986650410 -0.0036363123546992   \n",
       "V19   -7.2135274301775896 -0.4562989187444475  0.0037348229952574   \n",
       "V20  -54.4977204945660034 -0.2117213646742470 -0.0624810924603664   \n",
       "V21  -34.8303821448145996 -0.2283949467785170 -0.0294501676953819   \n",
       "V22  -10.9331436976549998 -0.5423503726606616  0.0067819425282695   \n",
       "V23  -44.8077352037913030 -0.1618463450148845 -0.0111929302967212   \n",
       "V24   -2.8366269187034101 -0.3545861364094985  0.0409760560572798   \n",
       "V25  -10.2953970749851003 -0.3171450540652700  0.0165935016367397   \n",
       "V26   -2.6045505528081700 -0.3269839258807195 -0.0521391080182019   \n",
       "V27  -22.5656793207826993 -0.0708395293044692  0.0013421459786502   \n",
       "V28  -15.4300839055349002 -0.0529597930169809  0.0112438315649820   \n",
       "\n",
       "                   75%                  max  \n",
       "V1  1.3156416938778650   2.4549299912112099  \n",
       "V2  0.8037238712400945  22.0577289904909009  \n",
       "V3  1.0271955424655550   9.3825584328211402  \n",
       "V4  0.7433412894685876  16.8753440335975000  \n",
       "V5  0.6119264397351930  34.8016658766686007  \n",
       "V6  0.3985648963561050  73.3016255459645976  \n",
       "V7  0.5704360728775986 120.5894939452380044  \n",
       "V8  0.3273458619234490  20.0072083651213006  \n",
       "V9  0.5971390302822686  15.5949946071278003  \n",
       "V10 0.4539234451395070  23.7451361206545002  \n",
       "V11 0.7395934073216059  12.0189131816199009  \n",
       "V12 0.6182380329461360   7.8483920756446004  \n",
       "V13 0.6625049594399740   7.1268829585937601  \n",
       "V14 0.4931498492181490  10.5267660517846995  \n",
       "V15 0.6488208063171580   8.8777415977427694  \n",
       "V16 0.5232963124753440  17.3151115176277983  \n",
       "V17 0.3996749826503845   9.2535262504728504  \n",
       "V18 0.5008067468872159   5.0410691854118399  \n",
       "V19 0.4589493557626790   5.5919714273355803  \n",
       "V20 0.1330408409942945  39.4209042482198981  \n",
       "V21 0.1863772033785755  27.2028391573153989  \n",
       "V22 0.5285536353339865  10.5030900899454007  \n",
       "V23 0.1476420638560500  22.5284116897748987  \n",
       "V24 0.4395266001681860   4.5845491368981701  \n",
       "V25 0.3507155628673860   7.5195886787091597  \n",
       "V26 0.2409521737147555   3.5173456116238002  \n",
       "V27 0.0910451196858069  31.6121981061363009  \n",
       "V28 0.0782799547578202  33.8478078188830978  "
      ]
     },
     "execution_count": 17,
     "metadata": {},
     "output_type": "execute_result"
    }
   ],
   "source": [
    "pd.set_option('float_format', '{:.16f}'.format)\n",
    "b = b.T\n",
    "b"
   ]
  },
  {
   "cell_type": "markdown",
   "id": "e8bdb7d9",
   "metadata": {},
   "source": [
    "### CORRELATION analysis of independent variables with the dependent variable and with each other"
   ]
  },
  {
   "cell_type": "code",
   "execution_count": 18,
   "id": "8bdf0c16",
   "metadata": {},
   "outputs": [
    {
     "data": {
      "text/html": [
       "<div>\n",
       "<style scoped>\n",
       "    .dataframe tbody tr th:only-of-type {\n",
       "        vertical-align: middle;\n",
       "    }\n",
       "\n",
       "    .dataframe tbody tr th {\n",
       "        vertical-align: top;\n",
       "    }\n",
       "\n",
       "    .dataframe thead th {\n",
       "        text-align: right;\n",
       "    }\n",
       "</style>\n",
       "<table border=\"1\" class=\"dataframe\">\n",
       "  <thead>\n",
       "    <tr style=\"text-align: right;\">\n",
       "      <th></th>\n",
       "      <th>column_1</th>\n",
       "      <th>column_2</th>\n",
       "      <th>correlation_coefficient</th>\n",
       "    </tr>\n",
       "  </thead>\n",
       "  <tbody>\n",
       "    <tr>\n",
       "      <th>0</th>\n",
       "      <td>V1</td>\n",
       "      <td>V1</td>\n",
       "      <td>1.00000000000000000</td>\n",
       "    </tr>\n",
       "    <tr>\n",
       "      <th>1</th>\n",
       "      <td>V1</td>\n",
       "      <td>V2</td>\n",
       "      <td>0.00000000000000041</td>\n",
       "    </tr>\n",
       "    <tr>\n",
       "      <th>2</th>\n",
       "      <td>V1</td>\n",
       "      <td>V3</td>\n",
       "      <td>-0.00000000000000123</td>\n",
       "    </tr>\n",
       "    <tr>\n",
       "      <th>3</th>\n",
       "      <td>V1</td>\n",
       "      <td>V4</td>\n",
       "      <td>-0.00000000000000092</td>\n",
       "    </tr>\n",
       "    <tr>\n",
       "      <th>4</th>\n",
       "      <td>V1</td>\n",
       "      <td>V5</td>\n",
       "      <td>0.00000000000000002</td>\n",
       "    </tr>\n",
       "    <tr>\n",
       "      <th>...</th>\n",
       "      <td>...</td>\n",
       "      <td>...</td>\n",
       "      <td>...</td>\n",
       "    </tr>\n",
       "    <tr>\n",
       "      <th>779</th>\n",
       "      <td>V28</td>\n",
       "      <td>V24</td>\n",
       "      <td>-0.00000000000000028</td>\n",
       "    </tr>\n",
       "    <tr>\n",
       "      <th>780</th>\n",
       "      <td>V28</td>\n",
       "      <td>V25</td>\n",
       "      <td>-0.00000000000000070</td>\n",
       "    </tr>\n",
       "    <tr>\n",
       "      <th>781</th>\n",
       "      <td>V28</td>\n",
       "      <td>V26</td>\n",
       "      <td>-0.00000000000000028</td>\n",
       "    </tr>\n",
       "    <tr>\n",
       "      <th>782</th>\n",
       "      <td>V28</td>\n",
       "      <td>V27</td>\n",
       "      <td>-0.00000000000000031</td>\n",
       "    </tr>\n",
       "    <tr>\n",
       "      <th>783</th>\n",
       "      <td>V28</td>\n",
       "      <td>V28</td>\n",
       "      <td>1.00000000000000000</td>\n",
       "    </tr>\n",
       "  </tbody>\n",
       "</table>\n",
       "<p>784 rows × 3 columns</p>\n",
       "</div>"
      ],
      "text/plain": [
       "    column_1 column_2  correlation_coefficient\n",
       "0         V1       V1      1.00000000000000000\n",
       "1         V1       V2      0.00000000000000041\n",
       "2         V1       V3     -0.00000000000000123\n",
       "3         V1       V4     -0.00000000000000092\n",
       "4         V1       V5      0.00000000000000002\n",
       "..       ...      ...                      ...\n",
       "779      V28      V24     -0.00000000000000028\n",
       "780      V28      V25     -0.00000000000000070\n",
       "781      V28      V26     -0.00000000000000028\n",
       "782      V28      V27     -0.00000000000000031\n",
       "783      V28      V28      1.00000000000000000\n",
       "\n",
       "[784 rows x 3 columns]"
      ]
     },
     "execution_count": 18,
     "metadata": {},
     "output_type": "execute_result"
    }
   ],
   "source": [
    "def find_correlation_among_features(df):\n",
    "    cor = X[list(df.columns)].corr()\n",
    "    X_cor = cor.stack().reset_index()\n",
    "    X_cor.columns = ['column_1','column_2','correlation_coefficient']\n",
    "    pd.set_option('float_format', '{:.17f}'.format)\n",
    "    return X_cor\n",
    "\n",
    "\n",
    "find_correlation_among_features(X)"
   ]
  },
  {
   "cell_type": "code",
   "execution_count": null,
   "id": "c58fbef3",
   "metadata": {},
   "outputs": [],
   "source": []
  },
  {
   "cell_type": "code",
   "execution_count": 19,
   "id": "79a60c17",
   "metadata": {},
   "outputs": [],
   "source": [
    "def find_correlation_features_vs_target(feature, target):\n",
    "    d = list(feature.columns)\n",
    "    for i in d:\n",
    "        x= feature[i].corr(target).round(5)\n",
    "        print(f'Correlation between {i} and target is {x}')"
   ]
  },
  {
   "cell_type": "code",
   "execution_count": 20,
   "id": "4bb5ff37",
   "metadata": {
    "scrolled": false
   },
   "outputs": [
    {
     "name": "stdout",
     "output_type": "stream",
     "text": [
      "Correlation between V1 and target is -0.10135\n",
      "Correlation between V2 and target is 0.09129\n",
      "Correlation between V3 and target is -0.19296\n",
      "Correlation between V4 and target is 0.13345\n",
      "Correlation between V5 and target is -0.09497\n",
      "Correlation between V6 and target is -0.04364\n",
      "Correlation between V7 and target is -0.18726\n",
      "Correlation between V8 and target is 0.01988\n",
      "Correlation between V9 and target is -0.09773\n",
      "Correlation between V10 and target is -0.21688\n",
      "Correlation between V11 and target is 0.15488\n",
      "Correlation between V12 and target is -0.26059\n",
      "Correlation between V13 and target is -0.00457\n",
      "Correlation between V14 and target is -0.30254\n",
      "Correlation between V15 and target is -0.00422\n",
      "Correlation between V16 and target is -0.19654\n",
      "Correlation between V17 and target is -0.32648\n",
      "Correlation between V18 and target is -0.11149\n",
      "Correlation between V19 and target is 0.03478\n",
      "Correlation between V20 and target is 0.02009\n",
      "Correlation between V21 and target is 0.04041\n",
      "Correlation between V22 and target is 0.00081\n",
      "Correlation between V23 and target is -0.00269\n",
      "Correlation between V24 and target is -0.00722\n",
      "Correlation between V25 and target is 0.00331\n",
      "Correlation between V26 and target is 0.00446\n",
      "Correlation between V27 and target is 0.01758\n",
      "Correlation between V28 and target is 0.00954\n"
     ]
    }
   ],
   "source": [
    "find_correlation_features_vs_target(X,y)"
   ]
  },
  {
   "cell_type": "markdown",
   "id": "fdbdef27",
   "metadata": {},
   "source": [
    " "
   ]
  },
  {
   "cell_type": "code",
   "execution_count": null,
   "id": "be0bdb21",
   "metadata": {},
   "outputs": [],
   "source": []
  },
  {
   "cell_type": "markdown",
   "id": "7ed63ca6",
   "metadata": {},
   "source": [
    "## Building Models"
   ]
  },
  {
   "cell_type": "markdown",
   "id": "29d687ad",
   "metadata": {},
   "source": [
    "### TEST TRAIN SPLIT"
   ]
  },
  {
   "cell_type": "code",
   "execution_count": 21,
   "id": "0daee902",
   "metadata": {},
   "outputs": [],
   "source": [
    "# Split dataset into training and test sets (80/20 split)\n",
    "X_train_val, X_test, y_train_val, y_test = train_test_split(X, y, test_size=0.2, random_state=42)\n",
    "\n",
    "# Split training set into training and validation sets (60/40 split)\n",
    "X_train, X_val, y_train, y_val = train_test_split(X_train_val, y_train_val, test_size=0.25, random_state=42)\n",
    "\n",
    "#Split at 60/20/20\n",
    "\n",
    "#X_train = pd.read_csv(\"X_train.csv\")\n",
    "#X_val = pd.read_csv(\"X_val.csv\")\n",
    "#X_test = pd.read_csv(\"X_test.csv\")\n",
    "\n",
    "#y_train = pd.read_csv(\"y_train.csv\")\n",
    "#y_val = pd.read_csv(\"y_val.csv\")\n",
    "#y_test = pd.read_csv(\"y_test.csv\")"
   ]
  },
  {
   "cell_type": "code",
   "execution_count": 22,
   "id": "c8b4f8cc",
   "metadata": {},
   "outputs": [
    {
     "name": "stdout",
     "output_type": "stream",
     "text": [
      "Training set: (170883, 28), Validation set: (56962, 28), Test set: (56962, 28)\n"
     ]
    }
   ],
   "source": [
    "# Check the shapes of the resulting sets\n",
    "print(f\"Training set: {X_train.shape}, Validation set: {X_val.shape}, Test set: {X_test.shape}\")"
   ]
  },
  {
   "cell_type": "code",
   "execution_count": 23,
   "id": "97b0d657",
   "metadata": {},
   "outputs": [
    {
     "data": {
      "text/plain": [
       "(170883, 28)"
      ]
     },
     "execution_count": 23,
     "metadata": {},
     "output_type": "execute_result"
    }
   ],
   "source": [
    "X_train.shape"
   ]
  },
  {
   "cell_type": "code",
   "execution_count": 24,
   "id": "821d3aee",
   "metadata": {},
   "outputs": [
    {
     "data": {
      "text/plain": [
       "(56962, 28)"
      ]
     },
     "execution_count": 24,
     "metadata": {},
     "output_type": "execute_result"
    }
   ],
   "source": [
    "X_test.shape"
   ]
  },
  {
   "cell_type": "code",
   "execution_count": 25,
   "id": "a25f7d5e",
   "metadata": {},
   "outputs": [
    {
     "data": {
      "text/plain": [
       "(170883,)"
      ]
     },
     "execution_count": 25,
     "metadata": {},
     "output_type": "execute_result"
    }
   ],
   "source": [
    "y_train.shape"
   ]
  },
  {
   "cell_type": "code",
   "execution_count": 26,
   "id": "49933fbd",
   "metadata": {},
   "outputs": [
    {
     "data": {
      "text/plain": [
       "(56962,)"
      ]
     },
     "execution_count": 26,
     "metadata": {},
     "output_type": "execute_result"
    }
   ],
   "source": [
    "y_test.shape"
   ]
  },
  {
   "cell_type": "code",
   "execution_count": 27,
   "id": "f4fc9d1d",
   "metadata": {},
   "outputs": [
    {
     "data": {
      "text/plain": [
       "(56962, 28)"
      ]
     },
     "execution_count": 27,
     "metadata": {},
     "output_type": "execute_result"
    }
   ],
   "source": [
    "X_val.shape"
   ]
  },
  {
   "cell_type": "code",
   "execution_count": 28,
   "id": "766230db",
   "metadata": {},
   "outputs": [
    {
     "data": {
      "text/plain": [
       "(56962,)"
      ]
     },
     "execution_count": 28,
     "metadata": {},
     "output_type": "execute_result"
    }
   ],
   "source": [
    "y_val.shape"
   ]
  },
  {
   "cell_type": "code",
   "execution_count": null,
   "id": "70d22e64",
   "metadata": {},
   "outputs": [],
   "source": []
  },
  {
   "cell_type": "code",
   "execution_count": 29,
   "id": "dbcd89d3",
   "metadata": {},
   "outputs": [
    {
     "data": {
      "text/plain": [
       "284807"
      ]
     },
     "execution_count": 29,
     "metadata": {},
     "output_type": "execute_result"
    }
   ],
   "source": [
    "170883 + 56962 + 56962"
   ]
  },
  {
   "cell_type": "code",
   "execution_count": 30,
   "id": "d56a9fb0",
   "metadata": {},
   "outputs": [
    {
     "data": {
      "text/plain": [
       "(284807, 31)"
      ]
     },
     "execution_count": 30,
     "metadata": {},
     "output_type": "execute_result"
    }
   ],
   "source": [
    "dataset.shape"
   ]
  },
  {
   "cell_type": "markdown",
   "id": "9e010dbf",
   "metadata": {},
   "source": [
    " ## ALGORITHMS"
   ]
  },
  {
   "cell_type": "markdown",
   "id": "c5ddd8dd",
   "metadata": {},
   "source": [
    "### 1. Logistic Regression\n"
   ]
  },
  {
   "cell_type": "code",
   "execution_count": 31,
   "id": "804138ea",
   "metadata": {},
   "outputs": [
    {
     "data": {
      "text/plain": [
       "LogisticRegression(random_state=0)"
      ]
     },
     "execution_count": 31,
     "metadata": {},
     "output_type": "execute_result"
    }
   ],
   "source": [
    "log_reg = LogisticRegression(random_state = 0)\n",
    "log_reg.fit(X_train, y_train)"
   ]
  },
  {
   "cell_type": "code",
   "execution_count": 32,
   "id": "99a602e4",
   "metadata": {
    "scrolled": true
   },
   "outputs": [
    {
     "data": {
      "text/plain": [
       "array([0, 0, 0, ..., 0, 0, 0], dtype=int64)"
      ]
     },
     "execution_count": 32,
     "metadata": {},
     "output_type": "execute_result"
    }
   ],
   "source": [
    "y_pred_val = log_reg.predict(X_val)\n",
    "y_pred_val"
   ]
  },
  {
   "cell_type": "code",
   "execution_count": 33,
   "id": "5465a0c1",
   "metadata": {},
   "outputs": [
    {
     "name": "stdout",
     "output_type": "stream",
     "text": [
      "[[56875    32]\n",
      " [    9    46]]\n"
     ]
    },
    {
     "data": {
      "text/plain": [
       "0.9992802219023208"
      ]
     },
     "execution_count": 33,
     "metadata": {},
     "output_type": "execute_result"
    }
   ],
   "source": [
    "cm = confusion_matrix(y_pred_val, y_val)\n",
    "print(cm)\n",
    "accuracy_score(y_val, y_pred_val)"
   ]
  },
  {
   "cell_type": "markdown",
   "id": "4e0f7f8e",
   "metadata": {},
   "source": [
    "### Validation"
   ]
  },
  {
   "cell_type": "code",
   "execution_count": 34,
   "id": "1c10c5f9",
   "metadata": {},
   "outputs": [],
   "source": [
    "from sklearn.metrics import accuracy_score, precision_score, recall_score, f1_score, roc_auc_score\n",
    "\n",
    "# evaluate the performance of the model\n",
    "\n",
    "acc = accuracy_score(y_val, y_pred_val)\n",
    "prec = precision_score(y_val, y_pred_val)\n",
    "rec = recall_score(y_val, y_pred_val)\n",
    "f1 = f1_score(y_val, y_pred_val)\n",
    "auc = roc_auc_score(y_val, y_pred_val)"
   ]
  },
  {
   "cell_type": "code",
   "execution_count": null,
   "id": "c6fb85b5",
   "metadata": {},
   "outputs": [],
   "source": []
  },
  {
   "cell_type": "code",
   "execution_count": 35,
   "id": "80d132fa",
   "metadata": {},
   "outputs": [
    {
     "data": {
      "text/plain": [
       "78"
      ]
     },
     "execution_count": 35,
     "metadata": {},
     "output_type": "execute_result"
    }
   ],
   "source": [
    "y_val.sum()"
   ]
  },
  {
   "cell_type": "code",
   "execution_count": 36,
   "id": "06e8b8c1",
   "metadata": {},
   "outputs": [
    {
     "data": {
      "text/plain": [
       "0.7947926865109202"
      ]
     },
     "execution_count": 36,
     "metadata": {},
     "output_type": "execute_result"
    }
   ],
   "source": [
    "auc"
   ]
  },
  {
   "cell_type": "code",
   "execution_count": 37,
   "id": "b95a9a13",
   "metadata": {},
   "outputs": [
    {
     "data": {
      "text/plain": [
       "0.8363636363636363"
      ]
     },
     "execution_count": 37,
     "metadata": {},
     "output_type": "execute_result"
    }
   ],
   "source": [
    "prec"
   ]
  },
  {
   "cell_type": "code",
   "execution_count": 38,
   "id": "ffe71ff6",
   "metadata": {},
   "outputs": [
    {
     "data": {
      "text/plain": [
       "0.5897435897435898"
      ]
     },
     "execution_count": 38,
     "metadata": {},
     "output_type": "execute_result"
    }
   ],
   "source": [
    "rec"
   ]
  },
  {
   "cell_type": "code",
   "execution_count": 39,
   "id": "b1e2afc2",
   "metadata": {},
   "outputs": [
    {
     "data": {
      "text/plain": [
       "0.6917293233082706"
      ]
     },
     "execution_count": 39,
     "metadata": {},
     "output_type": "execute_result"
    }
   ],
   "source": [
    "f1"
   ]
  },
  {
   "cell_type": "code",
   "execution_count": 40,
   "id": "b67ca1fb",
   "metadata": {},
   "outputs": [
    {
     "data": {
      "text/plain": [
       "0.9992802219023208"
      ]
     },
     "execution_count": 40,
     "metadata": {},
     "output_type": "execute_result"
    }
   ],
   "source": [
    "acc"
   ]
  },
  {
   "cell_type": "code",
   "execution_count": 41,
   "id": "7f958c5c",
   "metadata": {},
   "outputs": [
    {
     "data": {
      "text/plain": [
       "Text(33.0, 0.5, 'Predicted label')"
      ]
     },
     "execution_count": 41,
     "metadata": {},
     "output_type": "execute_result"
    },
    {
     "data": {
      "image/png": "[encoded data removed]",
      "text/plain": [
       "<Figure size 432x288 with 2 Axes>"
      ]
     },
     "metadata": {
      "needs_background": "light"
     },
     "output_type": "display_data"
    }
   ],
   "source": [
    "class_names=[0,1] # name  of classes\n",
    "fig, ax = plt.subplots()\n",
    "tick_marks = np.arange(len(class_names))\n",
    "plt.xticks(tick_marks, class_names)\n",
    "plt.yticks(tick_marks, class_names)\n",
    "# create heatmap\n",
    "sns.heatmap(pd.DataFrame(cm), annot=True, cmap=\"YlGnBu\" ,fmt='g')\n",
    "ax.xaxis.set_label_position(\"top\")\n",
    "plt.tight_layout()\n",
    "plt.title('Confusion matrix (Validation)', y=1.1)\n",
    "plt.xlabel('Actual label')\n",
    "plt.ylabel('Predicted label')"
   ]
  },
  {
   "cell_type": "code",
   "execution_count": 42,
   "id": "aeb67631",
   "metadata": {},
   "outputs": [
    {
     "data": {
      "text/plain": [
       "55"
      ]
     },
     "execution_count": 42,
     "metadata": {},
     "output_type": "execute_result"
    }
   ],
   "source": [
    "y_pred_val.sum()"
   ]
  },
  {
   "cell_type": "code",
   "execution_count": null,
   "id": "943fba26",
   "metadata": {},
   "outputs": [],
   "source": []
  },
  {
   "cell_type": "code",
   "execution_count": 43,
   "id": "0b6ef0ef",
   "metadata": {},
   "outputs": [],
   "source": [
    "# actual fraud rate in training set\n",
    "train_fraud_rate = sum(y_train)/len(y_train)\n",
    "\n",
    "# actual fraud rate in validation set\n",
    "val_fraud_rate = sum(y_val)/len(y_val)\n",
    "\n",
    "# actual fraud rate in test set\n",
    "test_fraud_rate = sum(y_test)/len(y_test)"
   ]
  },
  {
   "cell_type": "code",
   "execution_count": 44,
   "id": "cce0c935",
   "metadata": {},
   "outputs": [
    {
     "name": "stdout",
     "output_type": "stream",
     "text": [
      "Training set: 0.0018492184711176654, Validation set: 0.0013693339419261965, Test set: 0.0017204452090867595\n"
     ]
    }
   ],
   "source": [
    "print(f\"Training set: {train_fraud_rate}, Validation set: {val_fraud_rate}, Test set: {test_fraud_rate}\")"
   ]
  },
  {
   "cell_type": "markdown",
   "id": "129675a7",
   "metadata": {},
   "source": [
    "### TRAIN -"
   ]
  },
  {
   "cell_type": "code",
   "execution_count": 45,
   "id": "f14c1709",
   "metadata": {},
   "outputs": [
    {
     "data": {
      "text/plain": [
       "array([0, 0, 0, ..., 0, 0, 0], dtype=int64)"
      ]
     },
     "execution_count": 45,
     "metadata": {},
     "output_type": "execute_result"
    }
   ],
   "source": [
    "\n",
    "y_pred_tr = log_reg.predict(X_train)\n",
    "y_pred_tr"
   ]
  },
  {
   "cell_type": "code",
   "execution_count": 46,
   "id": "43bea585",
   "metadata": {},
   "outputs": [
    {
     "data": {
      "text/plain": [
       "array([[170540,    117],\n",
       "       [    27,    199]], dtype=int64)"
      ]
     },
     "execution_count": 46,
     "metadata": {},
     "output_type": "execute_result"
    }
   ],
   "source": [
    "# evaluate the performance of the model \n",
    "acc_tr = accuracy_score(y_train, y_pred_tr)\n",
    "prec_tr = precision_score(y_train, y_pred_tr)\n",
    "rec_tr = recall_score(y_train, y_pred_tr)\n",
    "f1_tr = f1_score(y_train, y_pred_tr)\n",
    "auc_tr = roc_auc_score(y_train, y_pred_tr)\n",
    "\n",
    "cm_tr = confusion_matrix( y_pred_tr, y_train)\n",
    "cm_tr"
   ]
  },
  {
   "cell_type": "code",
   "execution_count": 47,
   "id": "87f78649",
   "metadata": {},
   "outputs": [
    {
     "data": {
      "text/plain": [
       "0.9991573181650603"
      ]
     },
     "execution_count": 47,
     "metadata": {},
     "output_type": "execute_result"
    }
   ],
   "source": [
    "acc_tr"
   ]
  },
  {
   "cell_type": "code",
   "execution_count": 48,
   "id": "aa985a8f",
   "metadata": {},
   "outputs": [
    {
     "data": {
      "text/plain": [
       "0.8805309734513275"
      ]
     },
     "execution_count": 48,
     "metadata": {},
     "output_type": "execute_result"
    }
   ],
   "source": [
    "prec_tr"
   ]
  },
  {
   "cell_type": "code",
   "execution_count": 49,
   "id": "afc42089",
   "metadata": {},
   "outputs": [
    {
     "data": {
      "text/plain": [
       "0.629746835443038"
      ]
     },
     "execution_count": 49,
     "metadata": {},
     "output_type": "execute_result"
    }
   ],
   "source": [
    "rec_tr"
   ]
  },
  {
   "cell_type": "code",
   "execution_count": 50,
   "id": "69cca045",
   "metadata": {},
   "outputs": [
    {
     "data": {
      "text/plain": [
       "0.7343173431734317"
      ]
     },
     "execution_count": 50,
     "metadata": {},
     "output_type": "execute_result"
    }
   ],
   "source": [
    "f1_tr"
   ]
  },
  {
   "cell_type": "code",
   "execution_count": 51,
   "id": "4db06ef9",
   "metadata": {},
   "outputs": [
    {
     "data": {
      "text/plain": [
       "0.8147942699379501"
      ]
     },
     "execution_count": 51,
     "metadata": {},
     "output_type": "execute_result"
    }
   ],
   "source": [
    "auc_tr"
   ]
  },
  {
   "cell_type": "code",
   "execution_count": 52,
   "id": "db60f807",
   "metadata": {},
   "outputs": [
    {
     "data": {
      "text/plain": [
       "Text(33.0, 0.5, 'Predicted label')"
      ]
     },
     "execution_count": 52,
     "metadata": {},
     "output_type": "execute_result"
    },
    {
     "data": {
      "image/png": "[encoded data removed]",
      "text/plain": [
       "<Figure size 432x288 with 2 Axes>"
      ]
     },
     "metadata": {
      "needs_background": "light"
     },
     "output_type": "display_data"
    }
   ],
   "source": [
    "class_names=[0,1] # name  of classes\n",
    "fig, ax = plt.subplots()\n",
    "tick_marks = np.arange(len(class_names))\n",
    "plt.xticks(tick_marks, class_names)\n",
    "plt.yticks(tick_marks, class_names)\n",
    "# create heatmap\n",
    "sns.heatmap(pd.DataFrame(cm_tr), annot=True, cmap=\"YlGnBu\" ,fmt='g')\n",
    "ax.xaxis.set_label_position(\"top\")\n",
    "plt.tight_layout()\n",
    "plt.title('Confusion matrix (train)', y=1.1)\n",
    "plt.xlabel('Actual label')\n",
    "plt.ylabel('Predicted label')"
   ]
  },
  {
   "cell_type": "code",
   "execution_count": null,
   "id": "ec1999b6",
   "metadata": {},
   "outputs": [],
   "source": []
  },
  {
   "cell_type": "markdown",
   "id": "ba9553d6",
   "metadata": {},
   "source": [
    "### TEST - \n"
   ]
  },
  {
   "cell_type": "code",
   "execution_count": 53,
   "id": "73cb3b65",
   "metadata": {},
   "outputs": [
    {
     "data": {
      "text/plain": [
       "array([1, 0, 0, ..., 0, 0, 0], dtype=int64)"
      ]
     },
     "execution_count": 53,
     "metadata": {},
     "output_type": "execute_result"
    }
   ],
   "source": [
    "\n",
    "y_pred_ts = log_reg.predict(X_test)\n",
    "y_pred_ts"
   ]
  },
  {
   "cell_type": "code",
   "execution_count": 54,
   "id": "b1001736",
   "metadata": {},
   "outputs": [
    {
     "data": {
      "text/plain": [
       "array([[56854,    42],\n",
       "       [   10,    56]], dtype=int64)"
      ]
     },
     "execution_count": 54,
     "metadata": {},
     "output_type": "execute_result"
    }
   ],
   "source": [
    "# evaluate the performance of the model \n",
    "acc_ts = accuracy_score(y_test, y_pred_ts)\n",
    "prec_ts = precision_score(y_test, y_pred_ts)\n",
    "rec_ts = recall_score(y_test, y_pred_ts)\n",
    "f1_ts = f1_score(y_test, y_pred_ts)\n",
    "auc_ts = roc_auc_score(y_test, y_pred_ts)\n",
    "\n",
    "cm_ts = confusion_matrix(y_pred_ts, y_test)\n",
    "cm_ts"
   ]
  },
  {
   "cell_type": "code",
   "execution_count": 55,
   "id": "ca9a978e",
   "metadata": {},
   "outputs": [
    {
     "data": {
      "text/plain": [
       "0.9990871107053826"
      ]
     },
     "execution_count": 55,
     "metadata": {},
     "output_type": "execute_result"
    }
   ],
   "source": [
    "acc_ts"
   ]
  },
  {
   "cell_type": "code",
   "execution_count": 56,
   "id": "21bcc168",
   "metadata": {},
   "outputs": [
    {
     "data": {
      "text/plain": [
       "0.8484848484848485"
      ]
     },
     "execution_count": 56,
     "metadata": {},
     "output_type": "execute_result"
    }
   ],
   "source": [
    "prec_ts"
   ]
  },
  {
   "cell_type": "code",
   "execution_count": 57,
   "id": "a0a475da",
   "metadata": {},
   "outputs": [
    {
     "data": {
      "text/plain": [
       "0.5714285714285714"
      ]
     },
     "execution_count": 57,
     "metadata": {},
     "output_type": "execute_result"
    }
   ],
   "source": [
    "rec_ts"
   ]
  },
  {
   "cell_type": "code",
   "execution_count": 58,
   "id": "405f4a29",
   "metadata": {},
   "outputs": [
    {
     "data": {
      "text/plain": [
       "0.6829268292682927"
      ]
     },
     "execution_count": 58,
     "metadata": {},
     "output_type": "execute_result"
    }
   ],
   "source": [
    "f1_ts"
   ]
  },
  {
   "cell_type": "code",
   "execution_count": 59,
   "id": "7cc4330d",
   "metadata": {},
   "outputs": [
    {
     "data": {
      "text/plain": [
       "0.7856263566203071"
      ]
     },
     "execution_count": 59,
     "metadata": {},
     "output_type": "execute_result"
    }
   ],
   "source": [
    "auc_ts"
   ]
  },
  {
   "cell_type": "code",
   "execution_count": 60,
   "id": "9ff2f072",
   "metadata": {},
   "outputs": [
    {
     "data": {
      "text/plain": [
       "Text(33.0, 0.5, 'Predicted label')"
      ]
     },
     "execution_count": 60,
     "metadata": {},
     "output_type": "execute_result"
    },
    {
     "data": {
      "image/png": "[encoded data removed]",
      "text/plain": [
       "<Figure size 432x288 with 2 Axes>"
      ]
     },
     "metadata": {
      "needs_background": "light"
     },
     "output_type": "display_data"
    }
   ],
   "source": [
    "class_names=[0,1] # name  of classes\n",
    "fig, ax = plt.subplots()\n",
    "tick_marks = np.arange(len(class_names))\n",
    "plt.xticks(tick_marks, class_names)\n",
    "plt.yticks(tick_marks, class_names)\n",
    "# create heatmap\n",
    "sns.heatmap(pd.DataFrame(cm_ts), annot=True, cmap=\"YlGnBu\" ,fmt='g')\n",
    "ax.xaxis.set_label_position(\"top\")\n",
    "plt.tight_layout()\n",
    "plt.title('Confusion matrix (test)', y=1.1)\n",
    "plt.xlabel('Actual label')\n",
    "plt.ylabel('Predicted label')"
   ]
  },
  {
   "cell_type": "markdown",
   "id": "6c135bf3",
   "metadata": {},
   "source": [
    " "
   ]
  },
  {
   "cell_type": "markdown",
   "id": "e241a98a",
   "metadata": {},
   "source": [
    "## Checking all scores for different P Thresholds"
   ]
  },
  {
   "cell_type": "code",
   "execution_count": 61,
   "id": "3540e957",
   "metadata": {},
   "outputs": [],
   "source": [
    "#MAIN - VALIDATION Set\n",
    "cm = confusion_matrix(y_pred_val, y_val)\n"
   ]
  },
  {
   "cell_type": "code",
   "execution_count": 62,
   "id": "c52ef411",
   "metadata": {},
   "outputs": [
    {
     "data": {
      "text/plain": [
       "(56962, 28)"
      ]
     },
     "execution_count": 62,
     "metadata": {},
     "output_type": "execute_result"
    }
   ],
   "source": [
    "X_val.shape"
   ]
  },
  {
   "cell_type": "code",
   "execution_count": 63,
   "id": "67f88b82",
   "metadata": {},
   "outputs": [],
   "source": [
    "y_score = log_reg.predict_proba(X_val)"
   ]
  },
  {
   "cell_type": "code",
   "execution_count": 64,
   "id": "5355f066",
   "metadata": {},
   "outputs": [
    {
     "data": {
      "text/plain": [
       "array([[56875,    32],\n",
       "       [    9,    46]], dtype=int64)"
      ]
     },
     "execution_count": 64,
     "metadata": {},
     "output_type": "execute_result"
    }
   ],
   "source": [
    "cm"
   ]
  },
  {
   "cell_type": "code",
   "execution_count": 65,
   "id": "f88fe765",
   "metadata": {},
   "outputs": [
    {
     "data": {
      "text/plain": [
       "array([[56888,     0],\n",
       "       [   19,    55]], dtype=int64)"
      ]
     },
     "execution_count": 65,
     "metadata": {},
     "output_type": "execute_result"
    }
   ],
   "source": [
    "# P = 0.1 - VALIDATION\n",
    "cm_1 = confusion_matrix(y_score[:, 1] >= 0.1, y_pred_val)\n",
    "cm_1"
   ]
  },
  {
   "cell_type": "code",
   "execution_count": 66,
   "id": "0cfcc01c",
   "metadata": {},
   "outputs": [
    {
     "data": {
      "text/plain": [
       "array([[56895,     0],\n",
       "       [   12,    55]], dtype=int64)"
      ]
     },
     "execution_count": 66,
     "metadata": {},
     "output_type": "execute_result"
    }
   ],
   "source": [
    "# P - 0.2\n",
    "cm_2 = confusion_matrix(y_score[:, 1] >= 0.2, y_pred_val)\n",
    "cm_2"
   ]
  },
  {
   "cell_type": "code",
   "execution_count": 67,
   "id": "1fe78cc8",
   "metadata": {},
   "outputs": [
    {
     "data": {
      "text/plain": [
       "array([[56901,     0],\n",
       "       [    6,    55]], dtype=int64)"
      ]
     },
     "execution_count": 67,
     "metadata": {},
     "output_type": "execute_result"
    }
   ],
   "source": [
    "# P - 0.3\n",
    "cm_3 = confusion_matrix(y_score[:, 1] >= 0.3, y_pred_val)\n",
    "cm_3"
   ]
  },
  {
   "cell_type": "code",
   "execution_count": 68,
   "id": "575a4b39",
   "metadata": {},
   "outputs": [
    {
     "data": {
      "text/plain": [
       "array([[56906,     0],\n",
       "       [    1,    55]], dtype=int64)"
      ]
     },
     "execution_count": 68,
     "metadata": {},
     "output_type": "execute_result"
    }
   ],
   "source": [
    "# P - 0.4\n",
    "cm_4 = confusion_matrix(y_score[:, 1] >= 0.4, y_pred_val)\n",
    "cm_4"
   ]
  },
  {
   "cell_type": "code",
   "execution_count": 69,
   "id": "d298b888",
   "metadata": {},
   "outputs": [
    {
     "data": {
      "text/plain": [
       "array([[56907,     0],\n",
       "       [    0,    55]], dtype=int64)"
      ]
     },
     "execution_count": 69,
     "metadata": {},
     "output_type": "execute_result"
    }
   ],
   "source": [
    "# P - 0.5\n",
    "cm_5 = confusion_matrix(y_score[:, 1] >= 0.5, y_pred_val)\n",
    "cm_5"
   ]
  },
  {
   "cell_type": "code",
   "execution_count": 70,
   "id": "40ea2c33",
   "metadata": {},
   "outputs": [
    {
     "data": {
      "text/plain": [
       "array([[56907,     6],\n",
       "       [    0,    49]], dtype=int64)"
      ]
     },
     "execution_count": 70,
     "metadata": {},
     "output_type": "execute_result"
    }
   ],
   "source": [
    "# P - 0.6\n",
    "cm_6 = confusion_matrix(y_score[:, 1] >= 0.6, y_pred_val)\n",
    "cm_6"
   ]
  },
  {
   "cell_type": "code",
   "execution_count": 71,
   "id": "717c8363",
   "metadata": {},
   "outputs": [
    {
     "data": {
      "text/plain": [
       "array([[56907,    10],\n",
       "       [    0,    45]], dtype=int64)"
      ]
     },
     "execution_count": 71,
     "metadata": {},
     "output_type": "execute_result"
    }
   ],
   "source": [
    "# P - 0.7\n",
    "cm_7 = confusion_matrix(y_score[:, 1] >= 0.7, y_pred_val)\n",
    "cm_7"
   ]
  },
  {
   "cell_type": "code",
   "execution_count": 72,
   "id": "a1aed889",
   "metadata": {},
   "outputs": [
    {
     "data": {
      "text/plain": [
       "array([[56907,    12],\n",
       "       [    0,    43]], dtype=int64)"
      ]
     },
     "execution_count": 72,
     "metadata": {},
     "output_type": "execute_result"
    }
   ],
   "source": [
    "# P - 0.8\n",
    "cm_8 = confusion_matrix(y_score[:, 1] >= 0.8, y_pred_val)\n",
    "cm_8"
   ]
  },
  {
   "cell_type": "code",
   "execution_count": 73,
   "id": "31f652dd",
   "metadata": {},
   "outputs": [
    {
     "data": {
      "text/plain": [
       "array([[56907,    19],\n",
       "       [    0,    36]], dtype=int64)"
      ]
     },
     "execution_count": 73,
     "metadata": {},
     "output_type": "execute_result"
    }
   ],
   "source": [
    "# P - 0.9\n",
    "cm_9 = confusion_matrix(y_score[:, 1] >= 0.9, y_pred_val)\n",
    "cm_9"
   ]
  },
  {
   "cell_type": "code",
   "execution_count": 74,
   "id": "37872783",
   "metadata": {},
   "outputs": [
    {
     "data": {
      "text/plain": [
       "array([[56907,    22],\n",
       "       [    0,    33]], dtype=int64)"
      ]
     },
     "execution_count": 74,
     "metadata": {},
     "output_type": "execute_result"
    }
   ],
   "source": [
    "# P - 0.95\n",
    "cm_95 = confusion_matrix(y_score[:, 1] >= 0.95, y_pred_val)\n",
    "cm_95"
   ]
  },
  {
   "cell_type": "code",
   "execution_count": 75,
   "id": "6195fe3d",
   "metadata": {},
   "outputs": [
    {
     "name": "stdout",
     "output_type": "stream",
     "text": [
      "Threshold = 0.1: Accuracy = 0.9992977774656788, Precision = 0.757, Recall = 0.718, F1 = 0.737, AUC = 0.859\n",
      "Threshold = 0.2: Accuracy = 0.9993153330290369, Precision = 0.791, Recall = 0.679, F1 = 0.731, AUC = 0.840\n",
      "Threshold = 0.3: Accuracy = 0.9992451107756047, Precision = 0.787, Recall = 0.615, F1 = 0.691, AUC = 0.808\n",
      "Threshold = 0.4: Accuracy = 0.9992977774656788, Precision = 0.839, Recall = 0.603, F1 = 0.701, AUC = 0.801\n",
      "Threshold = 0.5: Accuracy = 0.9992802219023208, Precision = 0.836, Recall = 0.590, F1 = 0.692, AUC = 0.795\n",
      "Threshold = 0.6: Accuracy = 0.9992802219023208, Precision = 0.878, Recall = 0.551, F1 = 0.677, AUC = 0.776\n",
      "Threshold = 0.7: Accuracy = 0.9992802219023208, Precision = 0.911, Recall = 0.526, F1 = 0.667, AUC = 0.763\n",
      "Threshold = 0.8: Accuracy = 0.9992451107756047, Precision = 0.907, Recall = 0.500, F1 = 0.645, AUC = 0.750\n",
      "Threshold = 0.9: Accuracy = 0.9991222218320986, Precision = 0.889, Recall = 0.410, F1 = 0.561, AUC = 0.705\n",
      "Threshold = 0.9: Accuracy = 0.9990695551420246, Precision = 0.879, Recall = 0.372, F1 = 0.523, AUC = 0.686\n"
     ]
    }
   ],
   "source": [
    "# Get predicted probabilities for each class label\n",
    "probas = log_reg.predict_proba(X_val)\n",
    "\n",
    "# Loop over different threshold values\n",
    "for threshold in [0.1,0.2, 0.3, 0.4, 0.5,0.6, 0.7, 0.8, 0.9, 0.95]:\n",
    "    # Convert probabilities to predicted class labels\n",
    "    y_pred = (probas[:, 1] >= threshold).astype(int)\n",
    "    \n",
    "    # Calculate scores for this threshold value\n",
    "    accuracy = accuracy_score(y_val, y_pred)\n",
    "    precision = precision_score(y_val, y_pred)\n",
    "    recall = recall_score(y_val, y_pred)\n",
    "    f1 = f1_score(y_val, y_pred)\n",
    "    auc = roc_auc_score(y_val, y_pred)\n",
    "    \n",
    "    # Print scores for this threshold value\n",
    "    print(f\"Threshold = {threshold:.1f}: Accuracy = {accuracy}, Precision = {precision:.3f}, Recall = {recall:.3f}, F1 = {f1:.3f}, AUC = {auc:.3f}\")"
   ]
  },
  {
   "cell_type": "code",
   "execution_count": null,
   "id": "c427c6ea",
   "metadata": {},
   "outputs": [],
   "source": []
  },
  {
   "cell_type": "code",
   "execution_count": null,
   "id": "a151ba7b",
   "metadata": {},
   "outputs": [],
   "source": []
  },
  {
   "cell_type": "code",
   "execution_count": null,
   "id": "e4e4a05b",
   "metadata": {},
   "outputs": [],
   "source": []
  },
  {
   "cell_type": "code",
   "execution_count": 76,
   "id": "4a82ad01",
   "metadata": {},
   "outputs": [
    {
     "data": {
      "text/plain": [
       "array([[170540,    117],\n",
       "       [    27,    199]], dtype=int64)"
      ]
     },
     "execution_count": 76,
     "metadata": {},
     "output_type": "execute_result"
    }
   ],
   "source": [
    "# TRAIN SET SCORES FOR DIFFERENT THRESHOLDS - \n",
    "#cm_tr = confusion_matrix( y_pred_tr, y_train)\n",
    "cm_tr"
   ]
  },
  {
   "cell_type": "code",
   "execution_count": 77,
   "id": "1a6a10eb",
   "metadata": {},
   "outputs": [],
   "source": [
    "y_score_tr = log_reg.predict_proba(X_train)"
   ]
  },
  {
   "cell_type": "code",
   "execution_count": 78,
   "id": "fad78913",
   "metadata": {},
   "outputs": [
    {
     "data": {
      "text/plain": [
       "array([[170571,      0],\n",
       "       [    86,    226]], dtype=int64)"
      ]
     },
     "execution_count": 78,
     "metadata": {},
     "output_type": "execute_result"
    }
   ],
   "source": [
    "# P = 0.1 - Train\n",
    "cm_tr_1 = confusion_matrix(y_score_tr[:, 1] >= 0.1, y_pred_tr)\n",
    "cm_tr_1"
   ]
  },
  {
   "cell_type": "code",
   "execution_count": 79,
   "id": "11452fb6",
   "metadata": {},
   "outputs": [
    {
     "data": {
      "text/plain": [
       "array([[170599,      0],\n",
       "       [    58,    226]], dtype=int64)"
      ]
     },
     "execution_count": 79,
     "metadata": {},
     "output_type": "execute_result"
    }
   ],
   "source": [
    "# P = 0.2 - Train\n",
    "cm_tr_2 = confusion_matrix(y_score_tr[:, 1] >= 0.2, y_pred_tr)\n",
    "cm_tr_2"
   ]
  },
  {
   "cell_type": "code",
   "execution_count": 80,
   "id": "5504631c",
   "metadata": {},
   "outputs": [
    {
     "data": {
      "text/plain": [
       "array([[170619,      0],\n",
       "       [    38,    226]], dtype=int64)"
      ]
     },
     "execution_count": 80,
     "metadata": {},
     "output_type": "execute_result"
    }
   ],
   "source": [
    "# P = 0.3 - Train\n",
    "cm_tr_3 = confusion_matrix(y_score_tr[:, 1] >= 0.3, y_pred_tr)\n",
    "cm_tr_3"
   ]
  },
  {
   "cell_type": "code",
   "execution_count": 81,
   "id": "bf3d29f2",
   "metadata": {},
   "outputs": [
    {
     "data": {
      "text/plain": [
       "array([[170643,      0],\n",
       "       [    14,    226]], dtype=int64)"
      ]
     },
     "execution_count": 81,
     "metadata": {},
     "output_type": "execute_result"
    }
   ],
   "source": [
    "# P = 0.4- Train\n",
    "cm_tr_4 = confusion_matrix(y_score_tr[:, 1] >= 0.4, y_pred_tr)\n",
    "cm_tr_4"
   ]
  },
  {
   "cell_type": "code",
   "execution_count": 82,
   "id": "8e585f3e",
   "metadata": {},
   "outputs": [
    {
     "data": {
      "text/plain": [
       "array([[170657,      0],\n",
       "       [     0,    226]], dtype=int64)"
      ]
     },
     "execution_count": 82,
     "metadata": {},
     "output_type": "execute_result"
    }
   ],
   "source": [
    "# P = 0.5- Train\n",
    "cm_tr_5 = confusion_matrix(y_score_tr[:, 1] >= 0.5, y_pred_tr)\n",
    "cm_tr_5"
   ]
  },
  {
   "cell_type": "code",
   "execution_count": 83,
   "id": "27232522",
   "metadata": {},
   "outputs": [
    {
     "data": {
      "text/plain": [
       "array([[170657,     11],\n",
       "       [     0,    215]], dtype=int64)"
      ]
     },
     "execution_count": 83,
     "metadata": {},
     "output_type": "execute_result"
    }
   ],
   "source": [
    "# P = 0.6- Train\n",
    "cm_tr_6 = confusion_matrix(y_score_tr[:, 1] >= 0.6, y_pred_tr)\n",
    "cm_tr_6"
   ]
  },
  {
   "cell_type": "code",
   "execution_count": 84,
   "id": "e3243b74",
   "metadata": {},
   "outputs": [
    {
     "data": {
      "text/plain": [
       "array([[170657,     21],\n",
       "       [     0,    205]], dtype=int64)"
      ]
     },
     "execution_count": 84,
     "metadata": {},
     "output_type": "execute_result"
    }
   ],
   "source": [
    "# P = 0.7- Train\n",
    "cm_tr_7 = confusion_matrix(y_score_tr[:, 1] >= 0.7, y_pred_tr)\n",
    "cm_tr_7"
   ]
  },
  {
   "cell_type": "code",
   "execution_count": 85,
   "id": "e53d3306",
   "metadata": {},
   "outputs": [
    {
     "data": {
      "text/plain": [
       "array([[170657,     31],\n",
       "       [     0,    195]], dtype=int64)"
      ]
     },
     "execution_count": 85,
     "metadata": {},
     "output_type": "execute_result"
    }
   ],
   "source": [
    "# P = 0.8- Train\n",
    "cm_tr_8 = confusion_matrix(y_score_tr[:, 1] >= 0.8, y_pred_tr)\n",
    "cm_tr_8"
   ]
  },
  {
   "cell_type": "code",
   "execution_count": 86,
   "id": "6368d310",
   "metadata": {},
   "outputs": [
    {
     "data": {
      "text/plain": [
       "array([[170657,     45],\n",
       "       [     0,    181]], dtype=int64)"
      ]
     },
     "execution_count": 86,
     "metadata": {},
     "output_type": "execute_result"
    }
   ],
   "source": [
    "# P = 0.9- Train\n",
    "cm_tr_9 = confusion_matrix(y_score_tr[:, 1] >= 0.9, y_pred_tr)\n",
    "cm_tr_9"
   ]
  },
  {
   "cell_type": "code",
   "execution_count": 87,
   "id": "4972e1d9",
   "metadata": {},
   "outputs": [
    {
     "data": {
      "text/plain": [
       "array([[170657,     59],\n",
       "       [     0,    167]], dtype=int64)"
      ]
     },
     "execution_count": 87,
     "metadata": {},
     "output_type": "execute_result"
    }
   ],
   "source": [
    "# P = 0.95 - Train\n",
    "cm_tr_95 = confusion_matrix(y_score_tr[:, 1] >= 0.95, y_pred_tr)\n",
    "cm_tr_95"
   ]
  },
  {
   "cell_type": "code",
   "execution_count": null,
   "id": "c867986d",
   "metadata": {},
   "outputs": [],
   "source": []
  },
  {
   "cell_type": "code",
   "execution_count": 88,
   "id": "a466eb1a",
   "metadata": {},
   "outputs": [
    {
     "data": {
      "text/plain": [
       "array([[56854,    42],\n",
       "       [   10,    56]], dtype=int64)"
      ]
     },
     "execution_count": 88,
     "metadata": {},
     "output_type": "execute_result"
    }
   ],
   "source": [
    "# Test SET SCORES FOR DIFFERENT THRESHOLDS - \n",
    "#cm_ts = confusion_matrix( y_pred_ts, y_test)\n",
    "cm_ts"
   ]
  },
  {
   "cell_type": "code",
   "execution_count": 89,
   "id": "524182ad",
   "metadata": {},
   "outputs": [
    {
     "data": {
      "text/plain": [
       "(56962, 28)"
      ]
     },
     "execution_count": 89,
     "metadata": {},
     "output_type": "execute_result"
    }
   ],
   "source": [
    "X_val.shape"
   ]
  },
  {
   "cell_type": "code",
   "execution_count": 90,
   "id": "a22da243",
   "metadata": {},
   "outputs": [],
   "source": [
    "y_scores_ts = log_reg.predict_proba(X_test)"
   ]
  },
  {
   "cell_type": "code",
   "execution_count": 91,
   "id": "7117da1a",
   "metadata": {},
   "outputs": [
    {
     "data": {
      "text/plain": [
       "array([[56871,     0],\n",
       "       [   25,    66]], dtype=int64)"
      ]
     },
     "execution_count": 91,
     "metadata": {},
     "output_type": "execute_result"
    }
   ],
   "source": [
    "# P = 0.1 - Test\n",
    "cm_ts_1 = confusion_matrix(y_scores_ts[:, 1] >= 0.1, y_pred_ts)\n",
    "cm_ts_1"
   ]
  },
  {
   "cell_type": "code",
   "execution_count": 92,
   "id": "1cac1c45",
   "metadata": {},
   "outputs": [
    {
     "data": {
      "text/plain": [
       "array([[56882,     0],\n",
       "       [   14,    66]], dtype=int64)"
      ]
     },
     "execution_count": 92,
     "metadata": {},
     "output_type": "execute_result"
    }
   ],
   "source": [
    "# P = 0.2 - Test\n",
    "cm_ts_2 = confusion_matrix(y_scores_ts[:, 1] >= 0.2, y_pred_ts)\n",
    "cm_ts_2"
   ]
  },
  {
   "cell_type": "code",
   "execution_count": 93,
   "id": "772e9c2f",
   "metadata": {},
   "outputs": [
    {
     "data": {
      "text/plain": [
       "array([[56886,     0],\n",
       "       [   10,    66]], dtype=int64)"
      ]
     },
     "execution_count": 93,
     "metadata": {},
     "output_type": "execute_result"
    }
   ],
   "source": [
    "# P = 0.3 - Test\n",
    "cm_ts_3 = confusion_matrix(y_scores_ts[:, 1] >= 0.3, y_pred_ts)\n",
    "cm_ts_3"
   ]
  },
  {
   "cell_type": "code",
   "execution_count": 94,
   "id": "01379c6d",
   "metadata": {},
   "outputs": [
    {
     "data": {
      "text/plain": [
       "array([[56893,     0],\n",
       "       [    3,    66]], dtype=int64)"
      ]
     },
     "execution_count": 94,
     "metadata": {},
     "output_type": "execute_result"
    }
   ],
   "source": [
    "# P = 0.4 - Test\n",
    "cm_ts_4 = confusion_matrix(y_scores_ts[:, 1] >= 0.4, y_pred_ts)\n",
    "cm_ts_4"
   ]
  },
  {
   "cell_type": "code",
   "execution_count": 95,
   "id": "3db93e51",
   "metadata": {},
   "outputs": [
    {
     "data": {
      "text/plain": [
       "array([[56896,     0],\n",
       "       [    0,    66]], dtype=int64)"
      ]
     },
     "execution_count": 95,
     "metadata": {},
     "output_type": "execute_result"
    }
   ],
   "source": [
    "# P = 0.5 - Test\n",
    "cm_ts_5 = confusion_matrix(y_scores_ts[:, 1] >= 0.5, y_pred_ts)\n",
    "cm_ts_5"
   ]
  },
  {
   "cell_type": "code",
   "execution_count": 96,
   "id": "259161b6",
   "metadata": {},
   "outputs": [
    {
     "data": {
      "text/plain": [
       "array([[56896,     6],\n",
       "       [    0,    60]], dtype=int64)"
      ]
     },
     "execution_count": 96,
     "metadata": {},
     "output_type": "execute_result"
    }
   ],
   "source": [
    "# P = 0.6 - Test\n",
    "cm_ts_6 = confusion_matrix(y_scores_ts[:, 1] >= 0.6, y_pred_ts)\n",
    "cm_ts_6"
   ]
  },
  {
   "cell_type": "code",
   "execution_count": 97,
   "id": "22d6a9bd",
   "metadata": {},
   "outputs": [
    {
     "data": {
      "text/plain": [
       "array([[56896,    12],\n",
       "       [    0,    54]], dtype=int64)"
      ]
     },
     "execution_count": 97,
     "metadata": {},
     "output_type": "execute_result"
    }
   ],
   "source": [
    "# P = 0.7 - Test\n",
    "cm_ts_7 = confusion_matrix(y_scores_ts[:, 1] >= 0.7, y_pred_ts)\n",
    "cm_ts_7"
   ]
  },
  {
   "cell_type": "code",
   "execution_count": 98,
   "id": "5179a105",
   "metadata": {},
   "outputs": [
    {
     "data": {
      "text/plain": [
       "array([[56896,    14],\n",
       "       [    0,    52]], dtype=int64)"
      ]
     },
     "execution_count": 98,
     "metadata": {},
     "output_type": "execute_result"
    }
   ],
   "source": [
    "# P = 0.8 - Test\n",
    "cm_ts_8 = confusion_matrix(y_scores_ts[:, 1] >= 0.8, y_pred_ts)\n",
    "cm_ts_8"
   ]
  },
  {
   "cell_type": "code",
   "execution_count": 99,
   "id": "ee06cc95",
   "metadata": {},
   "outputs": [
    {
     "data": {
      "text/plain": [
       "array([[56896,    19],\n",
       "       [    0,    47]], dtype=int64)"
      ]
     },
     "execution_count": 99,
     "metadata": {},
     "output_type": "execute_result"
    }
   ],
   "source": [
    "# P = 0.9 - Test\n",
    "cm_ts_9 = confusion_matrix(y_scores_ts[:, 1] >= 0.9, y_pred_ts)\n",
    "cm_ts_9"
   ]
  },
  {
   "cell_type": "code",
   "execution_count": 100,
   "id": "ebfecf03",
   "metadata": {},
   "outputs": [
    {
     "data": {
      "text/plain": [
       "array([[56896,    23],\n",
       "       [    0,    43]], dtype=int64)"
      ]
     },
     "execution_count": 100,
     "metadata": {},
     "output_type": "execute_result"
    }
   ],
   "source": [
    "# P = 0.95 - Test\n",
    "cm_ts_95 = confusion_matrix(y_scores_ts[:, 1] >= 0.95, y_pred_ts)\n",
    "cm_ts_95"
   ]
  },
  {
   "cell_type": "code",
   "execution_count": null,
   "id": "dfa21957",
   "metadata": {},
   "outputs": [],
   "source": []
  },
  {
   "cell_type": "code",
   "execution_count": null,
   "id": "3ce60bbb",
   "metadata": {},
   "outputs": [],
   "source": []
  },
  {
   "cell_type": "code",
   "execution_count": 101,
   "id": "250eb716",
   "metadata": {},
   "outputs": [
    {
     "name": "stdout",
     "output_type": "stream",
     "text": [
      " Coefficients are [[ 0.09990404 -0.05253176 -0.02855657  0.72718734  0.04259703 -0.09008105\n",
      "  -0.04330504 -0.21564223 -0.1278362  -0.68370994 -0.08236555  0.01282822\n",
      "  -0.20349327 -0.61304072 -0.14867778 -0.35898501  0.10153479 -0.06651848\n",
      "  -0.01405189 -0.25744822  0.37687403  0.59696406 -0.14262966  0.14845208\n",
      "  -0.10678967 -0.02492633 -0.74665589 -0.43920748]], and Intercept is [-8.66757469]\n"
     ]
    }
   ],
   "source": [
    "## Coefficient and INTERCEPT\n",
    "\n",
    "coefficients = log_reg.coef_\n",
    "intercept = log_reg.intercept_\n",
    "\n",
    "print(f\" Coefficients are {coefficients}, and Intercept is {intercept}\")"
   ]
  },
  {
   "cell_type": "code",
   "execution_count": null,
   "id": "42ac4f16",
   "metadata": {},
   "outputs": [],
   "source": []
  },
  {
   "cell_type": "code",
   "execution_count": null,
   "id": "9e5e0217",
   "metadata": {},
   "outputs": [],
   "source": []
  },
  {
   "cell_type": "code",
   "execution_count": 102,
   "id": "431a4342",
   "metadata": {},
   "outputs": [
    {
     "name": "stdout",
     "output_type": "stream",
     "text": [
      "[[56875    32]\n",
      " [    9    46]]\n"
     ]
    }
   ],
   "source": [
    "cm = confusion_matrix(y_pred_val, y_val)\n",
    "print(cm)"
   ]
  },
  {
   "cell_type": "code",
   "execution_count": 103,
   "id": "419a962b",
   "metadata": {},
   "outputs": [
    {
     "data": {
      "text/plain": [
       "56907"
      ]
     },
     "execution_count": 103,
     "metadata": {},
     "output_type": "execute_result"
    }
   ],
   "source": [
    "len(y_pred_val) - y_pred_val.sum()"
   ]
  },
  {
   "cell_type": "code",
   "execution_count": 104,
   "id": "250eb83c",
   "metadata": {},
   "outputs": [
    {
     "data": {
      "text/plain": [
       "55"
      ]
     },
     "execution_count": 104,
     "metadata": {},
     "output_type": "execute_result"
    }
   ],
   "source": [
    "y_pred_val.sum()"
   ]
  },
  {
   "cell_type": "code",
   "execution_count": 105,
   "id": "6e1e3fc2",
   "metadata": {},
   "outputs": [],
   "source": [
    "y_prob = log_reg.predict_proba(X_val)[:, 1]\n",
    "threshold = 0.5\n",
    "# Create a new column with predicted class\n",
    "y_pred_xtra = np.where(y_prob > threshold, 1, 0)"
   ]
  },
  {
   "cell_type": "code",
   "execution_count": 106,
   "id": "3a7250f8",
   "metadata": {},
   "outputs": [
    {
     "data": {
      "text/plain": [
       "56907"
      ]
     },
     "execution_count": 106,
     "metadata": {},
     "output_type": "execute_result"
    }
   ],
   "source": [
    "len(y_pred_xtra) - y_pred_xtra.sum()"
   ]
  },
  {
   "cell_type": "code",
   "execution_count": 107,
   "id": "ec9fdcf3",
   "metadata": {},
   "outputs": [
    {
     "data": {
      "text/plain": [
       "55"
      ]
     },
     "execution_count": 107,
     "metadata": {},
     "output_type": "execute_result"
    }
   ],
   "source": [
    "y_pred_xtra.sum()"
   ]
  },
  {
   "cell_type": "code",
   "execution_count": 108,
   "id": "075c2693",
   "metadata": {},
   "outputs": [
    {
     "data": {
      "text/plain": [
       "array([[56907,     0],\n",
       "       [    0,    55]], dtype=int64)"
      ]
     },
     "execution_count": 108,
     "metadata": {},
     "output_type": "execute_result"
    }
   ],
   "source": [
    "cm_5"
   ]
  },
  {
   "cell_type": "code",
   "execution_count": null,
   "id": "33473b92",
   "metadata": {},
   "outputs": [],
   "source": []
  },
  {
   "cell_type": "code",
   "execution_count": 109,
   "id": "48a04458",
   "metadata": {},
   "outputs": [
    {
     "data": {
      "text/plain": [
       "Text(33.0, 0.5, 'Predicted label')"
      ]
     },
     "execution_count": 109,
     "metadata": {},
     "output_type": "execute_result"
    },
    {
     "data": {
      "image/png": "[encoded data removed]",
      "text/plain": [
       "<Figure size 432x288 with 2 Axes>"
      ]
     },
     "metadata": {
      "needs_background": "light"
     },
     "output_type": "display_data"
    }
   ],
   "source": [
    "class_names=[0,1] # name  of classes\n",
    "fig, ax = plt.subplots()\n",
    "tick_marks = np.arange(len(class_names))\n",
    "plt.xticks(tick_marks, class_names)\n",
    "plt.yticks(tick_marks, class_names)\n",
    "# create heatmap\n",
    "sns.heatmap(pd.DataFrame(cm_5), annot=True, cmap=\"YlGnBu\" ,fmt='g')\n",
    "ax.xaxis.set_label_position(\"top\")\n",
    "plt.tight_layout()\n",
    "plt.title('Confusion matrix (VAL - P(0.5))', y=1.1)\n",
    "plt.xlabel('Actual label')\n",
    "plt.ylabel('Predicted label')"
   ]
  },
  {
   "cell_type": "code",
   "execution_count": null,
   "id": "34e9ebef",
   "metadata": {},
   "outputs": [],
   "source": []
  },
  {
   "cell_type": "code",
   "execution_count": null,
   "id": "62c2de32",
   "metadata": {},
   "outputs": [],
   "source": []
  },
  {
   "cell_type": "code",
   "execution_count": 115,
   "id": "1dc133b9",
   "metadata": {},
   "outputs": [
    {
     "data": {
      "text/plain": [
       "(170883, 28)"
      ]
     },
     "execution_count": 115,
     "metadata": {},
     "output_type": "execute_result"
    }
   ],
   "source": [
    "X_train.shape"
   ]
  },
  {
   "cell_type": "markdown",
   "id": "b8bd53b0",
   "metadata": {},
   "source": [
    "## 2. K Neighbours"
   ]
  },
  {
   "cell_type": "code",
   "execution_count": 121,
   "id": "106b38e4",
   "metadata": {},
   "outputs": [],
   "source": [
    "knn = KNeighborsClassifier(n_neighbors=15)"
   ]
  },
  {
   "cell_type": "code",
   "execution_count": 122,
   "id": "00a992bb",
   "metadata": {},
   "outputs": [
    {
     "data": {
      "text/plain": [
       "KNeighborsClassifier(n_neighbors=15)"
      ]
     },
     "execution_count": 122,
     "metadata": {},
     "output_type": "execute_result"
    }
   ],
   "source": [
    "# train the classifier using the training set\n",
    "knn.fit(X_train, y_train)"
   ]
  },
  {
   "cell_type": "code",
   "execution_count": 123,
   "id": "d86eaf34",
   "metadata": {},
   "outputs": [],
   "source": [
    "# make predictions on the Validation set\n",
    "y_pred_knn_val = knn.predict(X_val)"
   ]
  },
  {
   "cell_type": "code",
   "execution_count": 153,
   "id": "e62ac00c",
   "metadata": {},
   "outputs": [
    {
     "data": {
      "text/plain": [
       "56884"
      ]
     },
     "execution_count": 153,
     "metadata": {},
     "output_type": "execute_result"
    }
   ],
   "source": [
    "len(y_val) - y_val.sum()"
   ]
  },
  {
   "cell_type": "code",
   "execution_count": 124,
   "id": "85d62c7f",
   "metadata": {},
   "outputs": [
    {
     "data": {
      "text/plain": [
       "array([[56877,    18],\n",
       "       [    7,    60]], dtype=int64)"
      ]
     },
     "execution_count": 124,
     "metadata": {},
     "output_type": "execute_result"
    }
   ],
   "source": [
    "cm_knn_val = confusion_matrix(y_pred_knn_val, y_val)\n",
    "cm_knn_val"
   ]
  },
  {
   "cell_type": "code",
   "execution_count": 160,
   "id": "2cf9c281",
   "metadata": {},
   "outputs": [
    {
     "data": {
      "text/plain": [
       "Text(33.0, 0.5, 'Predicted label')"
      ]
     },
     "execution_count": 160,
     "metadata": {},
     "output_type": "execute_result"
    },
    {
     "data": {
      "image/png": "[encoded data removed]",
      "text/plain": [
       "<Figure size 432x288 with 2 Axes>"
      ]
     },
     "metadata": {
      "needs_background": "light"
     },
     "output_type": "display_data"
    }
   ],
   "source": [
    "class_names=[0,1] # name  of classes\n",
    "fig, ax = plt.subplots()\n",
    "tick_marks = np.arange(len(class_names))\n",
    "plt.xticks(tick_marks, class_names)\n",
    "plt.yticks(tick_marks, class_names)\n",
    "# create heatmap\n",
    "sns.heatmap(pd.DataFrame(cm_knn_val), annot=True, cmap=\"YlGnBu\" ,fmt='g')\n",
    "ax.xaxis.set_label_position(\"top\")\n",
    "plt.tight_layout()\n",
    "plt.title('KNN - Confusion matrix - Validation', y=1.1)\n",
    "plt.xlabel('Actual label')\n",
    "plt.ylabel('Predicted label')\n"
   ]
  },
  {
   "cell_type": "code",
   "execution_count": 127,
   "id": "a8ca219f",
   "metadata": {},
   "outputs": [],
   "source": [
    "# evaluate the performance of the model\n",
    "\n",
    "acc_knn_val = accuracy_score(y_pred_knn_val, y_val)\n",
    "prec_knn_val = precision_score(y_pred_knn_val, y_val)\n",
    "rec_knn_val = recall_score(y_pred_knn_val, y_val)\n",
    "f1_knn_val = f1_score(y_pred_knn_val, y_val)\n",
    "auc_knn_val = roc_auc_score(y_pred_knn_val, y_val)"
   ]
  },
  {
   "cell_type": "code",
   "execution_count": 129,
   "id": "1d0cdb29",
   "metadata": {},
   "outputs": [
    {
     "name": "stdout",
     "output_type": "stream",
     "text": [
      " Using KNN algorithm on Validation set, Accuracy is 0.9995611109160493, Precision is 0.7692307692307693, Recall is 0.8955223880597015, F1-Score is 0.8275862068965517, AUC score is 0.9476030078975016\n"
     ]
    }
   ],
   "source": [
    "print(f\" Using KNN algorithm on Validation set, Accuracy is {acc_knn_val}, Precision is {prec_knn_val}, Recall is {rec_knn_val}, F1-Score is {f1_knn_val}, AUC score is {auc_knn_val}\")"
   ]
  },
  {
   "cell_type": "code",
   "execution_count": null,
   "id": "feb02d31",
   "metadata": {},
   "outputs": [],
   "source": []
  },
  {
   "cell_type": "markdown",
   "id": "44c87e68",
   "metadata": {},
   "source": [
    "### 2.2 - KNN  ON TRAIN SET - "
   ]
  },
  {
   "cell_type": "code",
   "execution_count": 131,
   "id": "c2238737",
   "metadata": {},
   "outputs": [],
   "source": [
    "# make predictions on the Train set\n",
    "y_pred_knn_tr = knn.predict(X_train)"
   ]
  },
  {
   "cell_type": "code",
   "execution_count": 132,
   "id": "eaf83f42",
   "metadata": {},
   "outputs": [
    {
     "data": {
      "text/plain": [
       "array([[170530,     75],\n",
       "       [    37,    241]], dtype=int64)"
      ]
     },
     "execution_count": 132,
     "metadata": {},
     "output_type": "execute_result"
    }
   ],
   "source": [
    "cm_knn_tr = confusion_matrix(y_pred_knn_tr, y_train)\n",
    "cm_knn_tr"
   ]
  },
  {
   "cell_type": "code",
   "execution_count": 133,
   "id": "07929d94",
   "metadata": {},
   "outputs": [
    {
     "data": {
      "text/plain": [
       "Text(33.0, 0.5, 'Predicted label')"
      ]
     },
     "execution_count": 133,
     "metadata": {},
     "output_type": "execute_result"
    },
    {
     "data": {
      "image/png": "[encoded data removed]",
      "text/plain": [
       "<Figure size 432x288 with 2 Axes>"
      ]
     },
     "metadata": {
      "needs_background": "light"
     },
     "output_type": "display_data"
    }
   ],
   "source": [
    "class_names=[0,1] # name  of classes\n",
    "fig, ax = plt.subplots()\n",
    "tick_marks = np.arange(len(class_names))\n",
    "plt.xticks(tick_marks, class_names)\n",
    "plt.yticks(tick_marks, class_names)\n",
    "# create heatmap\n",
    "sns.heatmap(pd.DataFrame(cm_knn_tr), annot=True, cmap=\"YlGnBu\" ,fmt='g')\n",
    "ax.xaxis.set_label_position(\"top\")\n",
    "plt.tight_layout()\n",
    "plt.title('KNN - Confusion matrix - Train))', y=1.1)\n",
    "plt.xlabel('Actual label')\n",
    "plt.ylabel('Predicted label')"
   ]
  },
  {
   "cell_type": "code",
   "execution_count": 134,
   "id": "4e7782cb",
   "metadata": {},
   "outputs": [],
   "source": [
    "# evaluate the performance of the model\n",
    "\n",
    "acc_knn_tr = accuracy_score(y_pred_knn_tr, y_train)\n",
    "prec_knn_tr = precision_score(y_pred_knn_tr, y_train)\n",
    "rec_knn_tr = recall_score(y_pred_knn_tr, y_train)\n",
    "f1_knn_tr = f1_score(y_pred_knn_tr, y_train)\n",
    "auc_knn_tr = roc_auc_score(y_pred_knn_tr, y_train)"
   ]
  },
  {
   "cell_type": "code",
   "execution_count": 191,
   "id": "e3dc3cc3",
   "metadata": {},
   "outputs": [
    {
     "name": "stdout",
     "output_type": "stream",
     "text": [
      " Using KNN algorithm on Train set, Accuracy is 0.999344580795047, Precision is 0.76, Recall is 0.87, F1-Score is 0.81, AUC score is 0.93\n"
     ]
    }
   ],
   "source": [
    "print(f\" Using KNN algorithm on Train set, Accuracy is {acc_knn_tr}, Precision is {prec_knn_tr:.2f}, Recall is {rec_knn_tr:.2f}, F1-Score is {f1_knn_tr:.2f}, AUC score is {auc_knn_tr:.2f}\")"
   ]
  },
  {
   "cell_type": "markdown",
   "id": "71e5eb3c",
   "metadata": {},
   "source": [
    "### 2.3 - KNN  ON TEST SET - "
   ]
  },
  {
   "cell_type": "code",
   "execution_count": 140,
   "id": "e3814c6f",
   "metadata": {},
   "outputs": [],
   "source": [
    "# make predictions on the Train set\n",
    "y_pred_knn_ts = knn.predict(X_test)"
   ]
  },
  {
   "cell_type": "code",
   "execution_count": 141,
   "id": "021c497a",
   "metadata": {},
   "outputs": [
    {
     "data": {
      "text/plain": [
       "array([[56854,    24],\n",
       "       [   10,    74]], dtype=int64)"
      ]
     },
     "execution_count": 141,
     "metadata": {},
     "output_type": "execute_result"
    }
   ],
   "source": [
    "cm_knn_ts = confusion_matrix(y_pred_knn_ts, y_test)\n",
    "cm_knn_ts"
   ]
  },
  {
   "cell_type": "code",
   "execution_count": 142,
   "id": "c2e67037",
   "metadata": {},
   "outputs": [
    {
     "data": {
      "text/plain": [
       "Text(33.0, 0.5, 'Predicted label')"
      ]
     },
     "execution_count": 142,
     "metadata": {},
     "output_type": "execute_result"
    },
    {
     "data": {
      "image/png": "[encoded data removed]",
      "text/plain": [
       "<Figure size 432x288 with 2 Axes>"
      ]
     },
     "metadata": {
      "needs_background": "light"
     },
     "output_type": "display_data"
    }
   ],
   "source": [
    "class_names=[0,1] # name  of classes\n",
    "fig, ax = plt.subplots()\n",
    "tick_marks = np.arange(len(class_names))\n",
    "plt.xticks(tick_marks, class_names)\n",
    "plt.yticks(tick_marks, class_names)\n",
    "# create heatmap\n",
    "sns.heatmap(pd.DataFrame(cm_knn_ts), annot=True, cmap=\"YlGnBu\" ,fmt='g')\n",
    "ax.xaxis.set_label_position(\"top\")\n",
    "plt.tight_layout()\n",
    "plt.title('KNN - Confusion matrix - Test))', y=1.1)\n",
    "plt.xlabel('Actual label')\n",
    "plt.ylabel('Predicted label')"
   ]
  },
  {
   "cell_type": "code",
   "execution_count": 143,
   "id": "3de2dbf6",
   "metadata": {},
   "outputs": [],
   "source": [
    "# evaluate the performance of the model\n",
    "\n",
    "acc_knn_ts = accuracy_score(y_pred_knn_ts, y_test)\n",
    "prec_knn_ts = precision_score(y_pred_knn_ts, y_test)\n",
    "rec_knn_ts = recall_score(y_pred_knn_ts, y_test)\n",
    "f1_knn_ts = f1_score(y_pred_knn_ts, y_test)\n",
    "auc_knn_ts = roc_auc_score(y_pred_knn_ts, y_test)"
   ]
  },
  {
   "cell_type": "code",
   "execution_count": 192,
   "id": "832671d5",
   "metadata": {},
   "outputs": [
    {
     "name": "stdout",
     "output_type": "stream",
     "text": [
      " Using KNN algorithm on Train set, Accuracy is 0.999403110845827, Precision is 0.76, Recall is 0.88, F1-Score is 0.81, AUC score is 0.94\n"
     ]
    }
   ],
   "source": [
    "print(f\" Using KNN algorithm on Train set, Accuracy is {acc_knn_ts}, Precision is {prec_knn_ts:.2f}, Recall is {rec_knn_ts:.2f}, F1-Score is {f1_knn_ts:.2f}, AUC score is {auc_knn_ts:.2f}\")"
   ]
  },
  {
   "cell_type": "code",
   "execution_count": 145,
   "id": "1253ee96",
   "metadata": {},
   "outputs": [
    {
     "data": {
      "text/plain": [
       "(56962, 28)"
      ]
     },
     "execution_count": 145,
     "metadata": {},
     "output_type": "execute_result"
    }
   ],
   "source": [
    "X_val.shape"
   ]
  },
  {
   "cell_type": "code",
   "execution_count": 146,
   "id": "c4fdadb0",
   "metadata": {},
   "outputs": [
    {
     "data": {
      "text/plain": [
       "(170883, 28)"
      ]
     },
     "execution_count": 146,
     "metadata": {},
     "output_type": "execute_result"
    }
   ],
   "source": [
    "X_train.shape"
   ]
  },
  {
   "cell_type": "code",
   "execution_count": 157,
   "id": "4a1dc5e2",
   "metadata": {},
   "outputs": [
    {
     "data": {
      "text/plain": [
       "56864"
      ]
     },
     "execution_count": 157,
     "metadata": {},
     "output_type": "execute_result"
    }
   ],
   "source": [
    "len(y_test) - y_test.sum()"
   ]
  },
  {
   "cell_type": "code",
   "execution_count": 156,
   "id": "c059a1f7",
   "metadata": {},
   "outputs": [
    {
     "data": {
      "text/plain": [
       "98"
      ]
     },
     "execution_count": 156,
     "metadata": {},
     "output_type": "execute_result"
    }
   ],
   "source": [
    "y_test.sum()"
   ]
  },
  {
   "cell_type": "markdown",
   "id": "1135696e",
   "metadata": {},
   "source": [
    "## 3. Support Vector Machine"
   ]
  },
  {
   "cell_type": "code",
   "execution_count": 161,
   "id": "fdff8241",
   "metadata": {},
   "outputs": [
    {
     "data": {
      "text/plain": [
       "SVC(C=1, kernel='linear')"
      ]
     },
     "execution_count": 161,
     "metadata": {},
     "output_type": "execute_result"
    }
   ],
   "source": [
    "clf = svm.SVC(kernel='linear', C=1)\n",
    "\n",
    "# train the classifier using the training set\n",
    "clf.fit(X_train, y_train)\n"
   ]
  },
  {
   "cell_type": "markdown",
   "id": "f665ad28",
   "metadata": {},
   "source": [
    "### 3.1 SVM on VALIDATION Set"
   ]
  },
  {
   "cell_type": "code",
   "execution_count": 162,
   "id": "8edd7c38",
   "metadata": {},
   "outputs": [],
   "source": [
    "# make predictions on the testing set\n",
    "y_pred_svm_val = clf.predict(X_val)"
   ]
  },
  {
   "cell_type": "code",
   "execution_count": 164,
   "id": "9e080e98",
   "metadata": {},
   "outputs": [
    {
     "data": {
      "text/plain": [
       "array([[56875,    17],\n",
       "       [    9,    61]], dtype=int64)"
      ]
     },
     "execution_count": 164,
     "metadata": {},
     "output_type": "execute_result"
    }
   ],
   "source": [
    "cm_svm_val = confusion_matrix(y_pred_svm_val, y_val)\n",
    "cm_svm_val"
   ]
  },
  {
   "cell_type": "code",
   "execution_count": 166,
   "id": "724117f3",
   "metadata": {},
   "outputs": [
    {
     "data": {
      "text/plain": [
       "Text(33.0, 0.5, 'Predicted label')"
      ]
     },
     "execution_count": 166,
     "metadata": {},
     "output_type": "execute_result"
    },
    {
     "data": {
      "image/png": "[encoded data removed]",
      "text/plain": [
       "<Figure size 432x288 with 2 Axes>"
      ]
     },
     "metadata": {
      "needs_background": "light"
     },
     "output_type": "display_data"
    }
   ],
   "source": [
    "class_names=[0,1] # name  of classes\n",
    "fig, ax = plt.subplots()\n",
    "tick_marks = np.arange(len(class_names))\n",
    "plt.xticks(tick_marks, class_names)\n",
    "plt.yticks(tick_marks, class_names)\n",
    "# create heatmap\n",
    "sns.heatmap(pd.DataFrame(cm_svm_val), annot=True, cmap=\"YlGnBu\" ,fmt='g')\n",
    "ax.xaxis.set_label_position(\"top\")\n",
    "plt.tight_layout()\n",
    "plt.title('SVM - Confusion matrix - Validation', y=1.1)\n",
    "plt.xlabel('Actual label')\n",
    "plt.ylabel('Predicted label')\n"
   ]
  },
  {
   "cell_type": "code",
   "execution_count": 167,
   "id": "0e9e916d",
   "metadata": {},
   "outputs": [],
   "source": [
    "# evaluate the performance of the model\n",
    "\n",
    "acc_svm_val = accuracy_score(y_pred_svm_val, y_val)\n",
    "prec_svm_val = precision_score(y_pred_svm_val, y_val)\n",
    "rec_svm_val = recall_score(y_pred_svm_val, y_val)\n",
    "f1_svm_val = f1_score(y_pred_svm_val, y_val)\n",
    "auc_svm_val = roc_auc_score(y_pred_svm_val, y_val)"
   ]
  },
  {
   "cell_type": "code",
   "execution_count": 193,
   "id": "7992c6a0",
   "metadata": {},
   "outputs": [
    {
     "name": "stdout",
     "output_type": "stream",
     "text": [
      " Using SVM algorithm on Validation set, Accuracy is 0.9995435553526912, Precision is 0.78, Recall is 0.87, F1-Score is 0.82, AUC score is 0.94\n"
     ]
    }
   ],
   "source": [
    "print(f\" Using SVM algorithm on Validation set, Accuracy is {acc_svm_val}, Precision is {prec_svm_val:.2f}, Recall is {rec_svm_val:.2f}, F1-Score is {f1_svm_val:.2f}, AUC score is {auc_svm_val:.2f}\")"
   ]
  },
  {
   "cell_type": "markdown",
   "id": "aac77930",
   "metadata": {},
   "source": [
    "### 3.2 SVM on TRAIN SET"
   ]
  },
  {
   "cell_type": "code",
   "execution_count": 169,
   "id": "0a7b9934",
   "metadata": {},
   "outputs": [],
   "source": [
    "y_pred_svm_tr = clf.predict(X_train)"
   ]
  },
  {
   "cell_type": "code",
   "execution_count": 171,
   "id": "17fb03cc",
   "metadata": {},
   "outputs": [
    {
     "data": {
      "text/plain": [
       "array([[170518,     65],\n",
       "       [    49,    251]], dtype=int64)"
      ]
     },
     "execution_count": 171,
     "metadata": {},
     "output_type": "execute_result"
    }
   ],
   "source": [
    "cm_svm_tr = confusion_matrix(y_pred_svm_tr, y_train)\n",
    "cm_svm_tr"
   ]
  },
  {
   "cell_type": "code",
   "execution_count": 175,
   "id": "9175122d",
   "metadata": {},
   "outputs": [
    {
     "data": {
      "text/plain": [
       "170567"
      ]
     },
     "execution_count": 175,
     "metadata": {},
     "output_type": "execute_result"
    }
   ],
   "source": [
    "len(y_train) - y_train.sum()"
   ]
  },
  {
   "cell_type": "code",
   "execution_count": 174,
   "id": "4f344477",
   "metadata": {},
   "outputs": [
    {
     "data": {
      "text/plain": [
       "316"
      ]
     },
     "execution_count": 174,
     "metadata": {},
     "output_type": "execute_result"
    }
   ],
   "source": [
    "y_train.sum()"
   ]
  },
  {
   "cell_type": "code",
   "execution_count": 176,
   "id": "90383f6f",
   "metadata": {},
   "outputs": [
    {
     "data": {
      "text/plain": [
       "Text(33.0, 0.5, 'Predicted label')"
      ]
     },
     "execution_count": 176,
     "metadata": {},
     "output_type": "execute_result"
    },
    {
     "data": {
      "image/png": "[encoded data removed]",
      "text/plain": [
       "<Figure size 432x288 with 2 Axes>"
      ]
     },
     "metadata": {
      "needs_background": "light"
     },
     "output_type": "display_data"
    }
   ],
   "source": [
    "class_names=[0,1] # name  of classes\n",
    "fig, ax = plt.subplots()\n",
    "tick_marks = np.arange(len(class_names))\n",
    "plt.xticks(tick_marks, class_names)\n",
    "plt.yticks(tick_marks, class_names)\n",
    "# create heatmap\n",
    "sns.heatmap(pd.DataFrame(cm_svm_tr), annot=True, cmap=\"YlGnBu\" ,fmt='g')\n",
    "ax.xaxis.set_label_position(\"top\")\n",
    "plt.tight_layout()\n",
    "plt.title('SVM - Confusion matrix - Train', y=1.1)\n",
    "plt.xlabel('Actual label')\n",
    "plt.ylabel('Predicted label')\n"
   ]
  },
  {
   "cell_type": "code",
   "execution_count": 177,
   "id": "d879ad50",
   "metadata": {},
   "outputs": [],
   "source": [
    "# evaluate the performance of the model\n",
    "\n",
    "acc_svm_tr = accuracy_score(y_pred_svm_tr, y_train)\n",
    "prec_svm_tr = precision_score(y_pred_svm_tr, y_train)\n",
    "rec_svm_tr = recall_score(y_pred_svm_tr, y_train)\n",
    "f1_svm_tr = f1_score(y_pred_svm_tr, y_train)\n",
    "auc_svm_tr = roc_auc_score(y_pred_svm_tr, y_train)"
   ]
  },
  {
   "cell_type": "code",
   "execution_count": 179,
   "id": "4b46c87b",
   "metadata": {},
   "outputs": [
    {
     "name": "stdout",
     "output_type": "stream",
     "text": [
      " Using SVM algorithm on TRAIN set, Accuracy is 0.999, Precision is 0.794, Recall is 0.837, F1-Score is 0.815, AUC score is 0.918\n"
     ]
    }
   ],
   "source": [
    "print(f\" Using SVM algorithm on TRAIN set, Accuracy is {acc_svm_tr:.3f}, Precision is {prec_svm_tr:.3f}, Recall is {rec_svm_tr:.3f}, F1-Score is {f1_svm_tr:.3f}, AUC score is {auc_svm_tr:.3f}\")"
   ]
  },
  {
   "cell_type": "markdown",
   "id": "4e3c6ed1",
   "metadata": {},
   "source": [
    "### 3.3 SVM on TEST SET"
   ]
  },
  {
   "cell_type": "code",
   "execution_count": 182,
   "id": "cb014486",
   "metadata": {},
   "outputs": [],
   "source": [
    "y_pred_svm_ts = clf.predict(X_test)"
   ]
  },
  {
   "cell_type": "code",
   "execution_count": 183,
   "id": "2cf8a6d4",
   "metadata": {},
   "outputs": [
    {
     "data": {
      "text/plain": [
       "array([[56846,    23],\n",
       "       [   18,    75]], dtype=int64)"
      ]
     },
     "execution_count": 183,
     "metadata": {},
     "output_type": "execute_result"
    }
   ],
   "source": [
    "cm_svm_ts = confusion_matrix(y_pred_svm_ts, y_test)\n",
    "cm_svm_ts"
   ]
  },
  {
   "cell_type": "code",
   "execution_count": 186,
   "id": "29986af3",
   "metadata": {},
   "outputs": [
    {
     "data": {
      "text/plain": [
       "56864"
      ]
     },
     "execution_count": 186,
     "metadata": {},
     "output_type": "execute_result"
    }
   ],
   "source": [
    "len(y_test) - y_test.sum()"
   ]
  },
  {
   "cell_type": "code",
   "execution_count": 185,
   "id": "9950096a",
   "metadata": {},
   "outputs": [
    {
     "data": {
      "text/plain": [
       "98"
      ]
     },
     "execution_count": 185,
     "metadata": {},
     "output_type": "execute_result"
    }
   ],
   "source": [
    "y_test.sum()"
   ]
  },
  {
   "cell_type": "code",
   "execution_count": 187,
   "id": "a7f5d65e",
   "metadata": {},
   "outputs": [
    {
     "data": {
      "text/plain": [
       "Text(33.0, 0.5, 'Predicted label')"
      ]
     },
     "execution_count": 187,
     "metadata": {},
     "output_type": "execute_result"
    },
    {
     "data": {
      "image/png": "[encoded data removed]",
      "text/plain": [
       "<Figure size 432x288 with 2 Axes>"
      ]
     },
     "metadata": {
      "needs_background": "light"
     },
     "output_type": "display_data"
    }
   ],
   "source": [
    "class_names=[0,1] # name  of classes\n",
    "fig, ax = plt.subplots()\n",
    "tick_marks = np.arange(len(class_names))\n",
    "plt.xticks(tick_marks, class_names)\n",
    "plt.yticks(tick_marks, class_names)\n",
    "# create heatmap\n",
    "sns.heatmap(pd.DataFrame(cm_svm_ts), annot=True, cmap=\"YlGnBu\" ,fmt='g')\n",
    "ax.xaxis.set_label_position(\"top\")\n",
    "plt.tight_layout()\n",
    "plt.title('SVM - Confusion matrix - Test', y=1.1)\n",
    "plt.xlabel('Actual label')\n",
    "plt.ylabel('Predicted label')"
   ]
  },
  {
   "cell_type": "code",
   "execution_count": 188,
   "id": "eb3e6adc",
   "metadata": {},
   "outputs": [],
   "source": [
    "# evaluate the performance of the model\n",
    "\n",
    "acc_svm_ts = accuracy_score(y_pred_svm_ts, y_test)\n",
    "prec_svm_ts = precision_score(y_pred_svm_ts, y_test)\n",
    "rec_svm_ts = recall_score(y_pred_svm_ts, y_test)\n",
    "f1_svm_ts = f1_score(y_pred_svm_ts, y_test)\n",
    "auc_svm_ts = roc_auc_score(y_pred_svm_ts, y_test)"
   ]
  },
  {
   "cell_type": "code",
   "execution_count": 194,
   "id": "f07f8367",
   "metadata": {
    "scrolled": true
   },
   "outputs": [
    {
     "name": "stdout",
     "output_type": "stream",
     "text": [
      " Using SVM algorithm on TEST set, Accuracy is 0.9992802219023208, Precision is 0.765, Recall is 0.806, F1-Score is 0.79, AUC score is 0.903\n"
     ]
    }
   ],
   "source": [
    "print(f\" Using SVM algorithm on TEST set, Accuracy is {acc_svm_ts}, Precision is {prec_svm_ts:.3f}, Recall is {rec_svm_ts:.3f}, F1-Score is {f1_svm_ts:.2f}, AUC score is {auc_svm_ts:.3f}\")"
   ]
  },
  {
   "cell_type": "code",
   "execution_count": null,
   "id": "3c52ed1a",
   "metadata": {},
   "outputs": [],
   "source": []
  },
  {
   "cell_type": "markdown",
   "id": "cd1a79bb",
   "metadata": {},
   "source": [
    "## 4. Decision tree"
   ]
  },
  {
   "cell_type": "code",
   "execution_count": 112,
   "id": "691c402a",
   "metadata": {},
   "outputs": [
    {
     "data": {
      "text/plain": [
       "DecisionTreeClassifier(random_state=42)"
      ]
     },
     "execution_count": 112,
     "metadata": {},
     "output_type": "execute_result"
    }
   ],
   "source": [
    "dct = DecisionTreeClassifier(random_state=42)\n",
    "\n",
    "# Train the model using the training data\n",
    "dct.fit(X_train, y_train)"
   ]
  },
  {
   "cell_type": "markdown",
   "id": "baad6b16",
   "metadata": {},
   "source": [
    "### 4.1 - Decision Tree - Validation"
   ]
  },
  {
   "cell_type": "code",
   "execution_count": 115,
   "id": "69ce5ba3",
   "metadata": {},
   "outputs": [
    {
     "data": {
      "text/plain": [
       "array([0, 0, 0, ..., 0, 0, 0], dtype=int64)"
      ]
     },
     "execution_count": 115,
     "metadata": {},
     "output_type": "execute_result"
    }
   ],
   "source": [
    "# Make predictions on the Validation data\n",
    "y_pred_dct_val = dct.predict(X_val)"
   ]
  },
  {
   "cell_type": "code",
   "execution_count": 116,
   "id": "90024ef3",
   "metadata": {},
   "outputs": [
    {
     "data": {
      "text/plain": [
       "array([[56860,    17],\n",
       "       [   24,    61]], dtype=int64)"
      ]
     },
     "execution_count": 116,
     "metadata": {},
     "output_type": "execute_result"
    }
   ],
   "source": [
    "#VALIDATION\n",
    "cm_dct_val = confusion_matrix(y_pred_dct_val, y_val)\n",
    "cm_dct_val"
   ]
  },
  {
   "cell_type": "code",
   "execution_count": 117,
   "id": "c131191a",
   "metadata": {},
   "outputs": [
    {
     "data": {
      "text/plain": [
       "56884"
      ]
     },
     "execution_count": 117,
     "metadata": {},
     "output_type": "execute_result"
    }
   ],
   "source": [
    "len(y_val) - y_val.sum()"
   ]
  },
  {
   "cell_type": "code",
   "execution_count": 118,
   "id": "359da0ef",
   "metadata": {},
   "outputs": [
    {
     "data": {
      "text/plain": [
       "78"
      ]
     },
     "execution_count": 118,
     "metadata": {},
     "output_type": "execute_result"
    }
   ],
   "source": [
    "y_val.sum()"
   ]
  },
  {
   "cell_type": "code",
   "execution_count": 119,
   "id": "8a142d04",
   "metadata": {},
   "outputs": [
    {
     "data": {
      "text/plain": [
       "Text(33.0, 0.5, 'Predicted label')"
      ]
     },
     "execution_count": 119,
     "metadata": {},
     "output_type": "execute_result"
    },
    {
     "data": {
      "image/png": "[encoded data removed]",
      "text/plain": [
       "<Figure size 432x288 with 2 Axes>"
      ]
     },
     "metadata": {
      "needs_background": "light"
     },
     "output_type": "display_data"
    }
   ],
   "source": [
    "#VALIDATION - Confusion Matrix\n",
    "\n",
    "class_names=[0,1] # name  of classes\n",
    "fig, ax = plt.subplots()\n",
    "tick_marks = np.arange(len(class_names))\n",
    "plt.xticks(tick_marks, class_names)\n",
    "plt.yticks(tick_marks, class_names)\n",
    "# create heatmap\n",
    "sns.heatmap(pd.DataFrame(cm_dct_val), annot=True, cmap=\"YlGnBu\" ,fmt='g')\n",
    "ax.xaxis.set_label_position(\"top\")\n",
    "plt.tight_layout()\n",
    "plt.title('Decision Tree - Confusion matrix - Validation', y=1.1)\n",
    "plt.xlabel('Actual label')\n",
    "plt.ylabel('Predicted label')"
   ]
  },
  {
   "cell_type": "code",
   "execution_count": 121,
   "id": "a349c45d",
   "metadata": {},
   "outputs": [],
   "source": [
    "# evaluate the performance of the model\n",
    "\n",
    "acc_dct_val = accuracy_score(y_pred_dct_val, y_val)\n",
    "prec_dct_val = precision_score(y_pred_dct_val, y_val)\n",
    "rec_dct_val = recall_score(y_pred_dct_val, y_val)\n",
    "f1_dct_val = f1_score(y_pred_dct_val, y_val)\n",
    "auc_dct_val = roc_auc_score(y_pred_dct_val, y_val)"
   ]
  },
  {
   "cell_type": "code",
   "execution_count": 124,
   "id": "f7f32b63",
   "metadata": {},
   "outputs": [
    {
     "name": "stdout",
     "output_type": "stream",
     "text": [
      " Using Decision tree algorithm on Validation set, Accuracy is 0.9992802219023208, Precision is 0.78, Recall is 0.72, F1-Score is 0.75, AUC score is 0.86\n"
     ]
    }
   ],
   "source": [
    "print(f\" Using Decision tree algorithm on Validation set, Accuracy is {acc_dct_val}, Precision is {prec_dct_val:.2f}, Recall is {rec_dct_val:.2f}, F1-Score is {f1_dct_val:.2f}, AUC score is {auc_dct_val:.2f}\")"
   ]
  },
  {
   "cell_type": "markdown",
   "id": "d11c4064",
   "metadata": {},
   "source": [
    "### 4.2 Decision Tree - TRAIN SET"
   ]
  },
  {
   "cell_type": "code",
   "execution_count": 125,
   "id": "14bc10dd",
   "metadata": {},
   "outputs": [],
   "source": [
    "y_pred_dct_tr = dct.predict(X_train)"
   ]
  },
  {
   "cell_type": "code",
   "execution_count": 126,
   "id": "84159b1a",
   "metadata": {},
   "outputs": [
    {
     "data": {
      "text/plain": [
       "array([[170567,      0],\n",
       "       [     0,    316]], dtype=int64)"
      ]
     },
     "execution_count": 126,
     "metadata": {},
     "output_type": "execute_result"
    }
   ],
   "source": [
    "cm_dct_tr = confusion_matrix(y_pred_dct_tr, y_train)\n",
    "cm_dct_tr"
   ]
  },
  {
   "cell_type": "code",
   "execution_count": 129,
   "id": "bef098a1",
   "metadata": {},
   "outputs": [
    {
     "data": {
      "text/plain": [
       "Text(33.0, 0.5, 'Predicted label')"
      ]
     },
     "execution_count": 129,
     "metadata": {},
     "output_type": "execute_result"
    },
    {
     "data": {
      "image/png": "[encoded data removed]",
      "text/plain": [
       "<Figure size 432x288 with 2 Axes>"
      ]
     },
     "metadata": {
      "needs_background": "light"
     },
     "output_type": "display_data"
    }
   ],
   "source": [
    "#Train - Confusion Matrix\n",
    "\n",
    "class_names=[0,1] # name  of classes\n",
    "fig, ax = plt.subplots()\n",
    "tick_marks = np.arange(len(class_names))\n",
    "plt.xticks(tick_marks, class_names)\n",
    "plt.yticks(tick_marks, class_names)\n",
    "# create heatmap\n",
    "sns.heatmap(pd.DataFrame(cm_dct_tr), annot=True, cmap=\"YlGnBu\" ,fmt='g')\n",
    "ax.xaxis.set_label_position(\"top\")\n",
    "plt.tight_layout()\n",
    "plt.title('Decision Tree - Confusion matrix - Train', y=1.1)\n",
    "plt.xlabel('Actual label')\n",
    "plt.ylabel('Predicted label')"
   ]
  },
  {
   "cell_type": "code",
   "execution_count": 130,
   "id": "3522c08b",
   "metadata": {},
   "outputs": [],
   "source": [
    "# evaluate the performance of the model\n",
    "\n",
    "acc_dct_tr = accuracy_score(y_pred_dct_tr, y_train)\n",
    "prec_dct_tr = precision_score(y_pred_dct_tr, y_train)\n",
    "rec_dct_tr = recall_score(y_pred_dct_tr, y_train)\n",
    "f1_dct_tr = f1_score(y_pred_dct_tr, y_train)\n",
    "auc_dct_tr = roc_auc_score(y_pred_dct_tr, y_train)"
   ]
  },
  {
   "cell_type": "code",
   "execution_count": 133,
   "id": "c67de378",
   "metadata": {},
   "outputs": [
    {
     "name": "stdout",
     "output_type": "stream",
     "text": [
      " Using Decision tree algorithm on Train set, Accuracy is 1.0, Precision is 1.0, Recall is 1.00, F1-Score is 1.00, AUC score is 1.00\n"
     ]
    }
   ],
   "source": [
    "print(f\" Using Decision tree algorithm on Train set, Accuracy is {acc_dct_tr}, Precision is {prec_dct_tr:.2}, Recall is {rec_dct_tr:.2f}, F1-Score is {f1_dct_tr:.2f}, AUC score is {auc_dct_tr:.2f}\")"
   ]
  },
  {
   "cell_type": "markdown",
   "id": "854aafab",
   "metadata": {},
   "source": [
    "### 4.3 Test SET"
   ]
  },
  {
   "cell_type": "code",
   "execution_count": 134,
   "id": "ce43e358",
   "metadata": {},
   "outputs": [],
   "source": [
    "y_pred_dct_ts = dct.predict(X_test)"
   ]
  },
  {
   "cell_type": "code",
   "execution_count": 135,
   "id": "cdc19313",
   "metadata": {},
   "outputs": [
    {
     "data": {
      "text/plain": [
       "array([[56831,    21],\n",
       "       [   33,    77]], dtype=int64)"
      ]
     },
     "execution_count": 135,
     "metadata": {},
     "output_type": "execute_result"
    }
   ],
   "source": [
    "cm_dct_ts = confusion_matrix(y_pred_dct_ts, y_test)\n",
    "cm_dct_ts"
   ]
  },
  {
   "cell_type": "code",
   "execution_count": 136,
   "id": "80dc4415",
   "metadata": {},
   "outputs": [
    {
     "data": {
      "text/plain": [
       "Text(33.0, 0.5, 'Predicted label')"
      ]
     },
     "execution_count": 136,
     "metadata": {},
     "output_type": "execute_result"
    },
    {
     "data": {
      "image/png": "[encoded data removed]",
      "text/plain": [
       "<Figure size 432x288 with 2 Axes>"
      ]
     },
     "metadata": {
      "needs_background": "light"
     },
     "output_type": "display_data"
    }
   ],
   "source": [
    "#Test - Confusion Matrix\n",
    "\n",
    "class_names=[0,1] # name  of classes\n",
    "fig, ax = plt.subplots()\n",
    "tick_marks = np.arange(len(class_names))\n",
    "plt.xticks(tick_marks, class_names)\n",
    "plt.yticks(tick_marks, class_names)\n",
    "# create heatmap\n",
    "sns.heatmap(pd.DataFrame(cm_dct_ts), annot=True, cmap=\"YlGnBu\" ,fmt='g')\n",
    "ax.xaxis.set_label_position(\"top\")\n",
    "plt.tight_layout()\n",
    "plt.title('Decision Tree - Confusion matrix - Test', y=1.1)\n",
    "plt.xlabel('Actual label')\n",
    "plt.ylabel('Predicted label')"
   ]
  },
  {
   "cell_type": "code",
   "execution_count": 140,
   "id": "b5701f50",
   "metadata": {},
   "outputs": [],
   "source": [
    "# evaluate the performance of the model\n",
    "\n",
    "acc_dct_ts = accuracy_score(y_pred_dct_ts, y_test)\n",
    "prec_dct_ts = precision_score(y_pred_dct_ts, y_test)\n",
    "rec_dct_ts = recall_score(y_pred_dct_ts, y_test)\n",
    "f1_dct_ts = f1_score(y_pred_dct_ts, y_test)\n",
    "auc_dct_ts = roc_auc_score(y_pred_dct_ts, y_test)"
   ]
  },
  {
   "cell_type": "code",
   "execution_count": 141,
   "id": "5a718db5",
   "metadata": {},
   "outputs": [
    {
     "name": "stdout",
     "output_type": "stream",
     "text": [
      " Using Decision tree algorithm on Train set, Accuracy is 0.9990519995786665, Precision is 0.79, Recall is 0.70, F1-Score is 0.74, AUC score is 0.85\n"
     ]
    }
   ],
   "source": [
    "print(f\" Using Decision tree algorithm on Train set, Accuracy is {acc_dct_ts}, Precision is {prec_dct_ts:.2}, Recall is {rec_dct_ts:.2f}, F1-Score is {f1_dct_ts:.2f}, AUC score is {auc_dct_ts:.2f}\")"
   ]
  },
  {
   "cell_type": "code",
   "execution_count": null,
   "id": "67e28a47",
   "metadata": {},
   "outputs": [],
   "source": []
  },
  {
   "cell_type": "code",
   "execution_count": null,
   "id": "9bbe67db",
   "metadata": {},
   "outputs": [],
   "source": []
  }
 ],
 "metadata": {
  "kernelspec": {
   "display_name": "Python 3 (ipykernel)",
   "language": "python",
   "name": "python3"
  },
  "language_info": {
   "codemirror_mode": {
    "name": "ipython",
    "version": 3
   },
   "file_extension": ".py",
   "mimetype": "text/x-python",
   "name": "python",
   "nbconvert_exporter": "python",
   "pygments_lexer": "ipython3",
   "version": "3.9.12"
  }
 },
 "nbformat": 4,
 "nbformat_minor": 5
}
